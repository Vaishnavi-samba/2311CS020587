{
 "cells": [
  {
   "cell_type": "markdown",
   "id": "ee33fd38-6abd-4c3e-ac08-a6fc1057b624",
   "metadata": {},
   "source": [
    "Constructor,Self and Comparing Objects"
   ]
  },
  {
   "cell_type": "code",
   "execution_count": 2,
   "id": "a220ecdd-3b74-45d5-8c6f-8f7a59b074d4",
   "metadata": {},
   "outputs": [
    {
     "name": "stdout",
     "output_type": "stream",
     "text": [
      "2540051734960\n"
     ]
    }
   ],
   "source": [
    "class Computer:\n",
    "    pass\n",
    "\n",
    "    \n",
    "c1 = Computer()\n",
    "\n",
    "print(id(c1))"
   ]
  },
  {
   "cell_type": "code",
   "execution_count": 3,
   "id": "a6c09713-a098-41a3-8e5d-9c19402b8112",
   "metadata": {},
   "outputs": [
    {
     "name": "stdout",
     "output_type": "stream",
     "text": [
      "2540051732992\n",
      "2540051734960\n"
     ]
    }
   ],
   "source": [
    "class Computer:\n",
    "    pass\n",
    "\n",
    "c1 = Computer()\n",
    "c2 = Computer()\n",
    "\n",
    "print(id(c1))\n",
    "print(id(c2))"
   ]
  },
  {
   "cell_type": "code",
   "execution_count": 7,
   "id": "ac75108f-0f68-406f-a69f-05b1187c5ea3",
   "metadata": {},
   "outputs": [
    {
     "name": "stdout",
     "output_type": "stream",
     "text": [
      "vysh\n",
      "vysh\n"
     ]
    }
   ],
   "source": [
    "class Computer: \n",
    "    \n",
    "    def __init__(self):\n",
    "        self.name = \"vysh\"\n",
    "        self.age = 20\n",
    "\n",
    "c1 = Computer()\n",
    "c2 = Computer()\n",
    "\n",
    "print(c1.name)\n",
    "print(c2.name)"
   ]
  },
  {
   "cell_type": "code",
   "execution_count": 5,
   "id": "cd161466-e159-4149-b4ea-1ac9a68efb5b",
   "metadata": {},
   "outputs": [
    {
     "name": "stdout",
     "output_type": "stream",
     "text": [
      "2540051741536\n",
      "2540051740384\n"
     ]
    }
   ],
   "source": [
    "class Computer:\n",
    "    def __init__(self):\n",
    "        self.name = \"vysh\"\n",
    "        self.age = 20\n",
    "\n",
    "c1 = Computer()\n",
    "c2 = Computer()\n",
    "\n",
    "print(id(c1))\n",
    "print(id(c2))"
   ]
  },
  {
   "cell_type": "code",
   "execution_count": 9,
   "id": "e19169b6-a40e-4c8f-b374-c9b03baca98e",
   "metadata": {},
   "outputs": [
    {
     "name": "stdout",
     "output_type": "stream",
     "text": [
      "minnu\n",
      "vysh\n"
     ]
    }
   ],
   "source": [
    "class Computer:\n",
    "    def __init__(self):\n",
    "        self.name = \"vysh\"\n",
    "        self.age = 20\n",
    "\n",
    "c1 = Computer()\n",
    "c2 = Computer()\n",
    "\n",
    "c1.name = \"minnu\"\n",
    "c1.age = 12\n",
    "\n",
    "\n",
    "print(c1.name)\n",
    "print(c2.name)"
   ]
  },
  {
   "cell_type": "code",
   "execution_count": 10,
   "id": "54bb42b4-c2b1-46ee-b091-33ba89283b46",
   "metadata": {},
   "outputs": [
    {
     "name": "stdout",
     "output_type": "stream",
     "text": [
      "minnu\n",
      "vysh\n",
      "12\n",
      "20\n"
     ]
    }
   ],
   "source": [
    "class Computer:\n",
    "    def __init__(self):\n",
    "        self.name = \"vysh\"\n",
    "        self.age = 20\n",
    "\n",
    "c1 = Computer()\n",
    "c2 = Computer()\n",
    "\n",
    "c1.name = \"minnu\"\n",
    "c1.age = 12\n",
    "\n",
    "\n",
    "print(c1.name)\n",
    "print(c2.name)\n",
    "print(c1.age)\n",
    "print(c2.age)"
   ]
  },
  {
   "cell_type": "code",
   "execution_count": 11,
   "id": "15ab1675-95d4-45a0-86e9-3d5d61b20306",
   "metadata": {},
   "outputs": [
    {
     "name": "stdout",
     "output_type": "stream",
     "text": [
      "minnu\n",
      "vysh\n",
      "30\n",
      "20\n"
     ]
    }
   ],
   "source": [
    "class Computer:\n",
    "    def __init__(self):\n",
    "        self.name = \"vysh\"\n",
    "        self.age = 20\n",
    "\n",
    "    def update(self):\n",
    "        self.age = 30\n",
    "\n",
    "c1 = Computer()\n",
    "c2 = Computer()\n",
    "\n",
    "c1.name = \"minnu\"\n",
    "c1.age = 12\n",
    "\n",
    "c1.update()\n",
    "\n",
    "\n",
    "print(c1.name)\n",
    "print(c2.name)\n",
    "print(c1.age)\n",
    "print(c2.age)"
   ]
  },
  {
   "cell_type": "code",
   "execution_count": 12,
   "id": "575bfa0e-6fe5-4bbd-b377-7a4e6d2f9373",
   "metadata": {},
   "outputs": [
    {
     "name": "stdout",
     "output_type": "stream",
     "text": [
      "vysh\n",
      "vysh\n",
      "30\n",
      "20\n"
     ]
    }
   ],
   "source": [
    "class Computer:\n",
    "    def __init__(self):\n",
    "        self.name = \"vysh\"\n",
    "        self.age = 20\n",
    "\n",
    "    def update(self):\n",
    "        self.age = 30\n",
    "\n",
    "c1 = Computer()\n",
    "c2 = Computer()\n",
    "\n",
    "if c1 == c2:\n",
    "    print(\"they are same\")\n",
    "\n",
    "c1.update()\n",
    "\n",
    "\n",
    "print(c1.name)\n",
    "print(c2.name)\n",
    "print(c1.age)\n",
    "print(c2.age)"
   ]
  },
  {
   "cell_type": "code",
   "execution_count": 13,
   "id": "58076506-e647-4978-9c04-bc8954f03274",
   "metadata": {},
   "outputs": [
    {
     "name": "stdout",
     "output_type": "stream",
     "text": [
      "they are same\n",
      "vysh\n",
      "vysh\n",
      "30\n",
      "20\n"
     ]
    }
   ],
   "source": [
    "class Computer:\n",
    "    def __init__(self):\n",
    "        self.name = \"vysh\"\n",
    "        self.age = 20\n",
    "\n",
    "    def update(self):\n",
    "        self.age = 30\n",
    "\n",
    "c1 = Computer()\n",
    "c2 = Computer()\n",
    "\n",
    "if c1 != c2:\n",
    "    print(\"they are same\")\n",
    "\n",
    "c1.update()\n",
    "\n",
    "\n",
    "print(c1.name)\n",
    "print(c2.name)\n",
    "print(c1.age)\n",
    "print(c2.age)"
   ]
  },
  {
   "cell_type": "code",
   "execution_count": 20,
   "id": "714a1cda-3f90-4861-ac7b-be675b11808f",
   "metadata": {},
   "outputs": [
    {
     "name": "stdout",
     "output_type": "stream",
     "text": [
      "they are same\n",
      "vysh\n",
      "vysh\n",
      "30\n",
      "20\n"
     ]
    }
   ],
   "source": [
    "class Computer:\n",
    "    def __init__(self):\n",
    "        self.name = \"vysh\"\n",
    "        self.age = 20\n",
    "\n",
    "    def update(self):\n",
    "        self.age = 30\n",
    "\n",
    "    def compare(self,other):\n",
    "        if self.age == other.age:\n",
    "            return True\n",
    "        else:\n",
    "            return False\n",
    "            \n",
    "\n",
    "c1 = Computer()\n",
    "c2 = Computer()\n",
    "\n",
    "if c1.compare(c2):\n",
    "    print(\"they are same\")\n",
    "\n",
    "c1.update()\n",
    "\n",
    "\n",
    "print(c1.name)\n",
    "print(c2.name)\n",
    "print(c1.age)\n",
    "print(c2.age)"
   ]
  },
  {
   "cell_type": "code",
   "execution_count": 22,
   "id": "8d0c5a62-5182-4bb6-83f3-22f2167a1d27",
   "metadata": {},
   "outputs": [
    {
     "name": "stdout",
     "output_type": "stream",
     "text": [
      "they are same\n",
      "vysh\n",
      "vysh\n",
      "20\n",
      "20\n"
     ]
    }
   ],
   "source": [
    "class Computer:\n",
    "    def __init__(self):\n",
    "        self.name = \"vysh\"\n",
    "        self.age = 20\n",
    "\n",
    "    def update(self):\n",
    "        self.age = 30\n",
    "\n",
    "    def compare(self,other):\n",
    "        if self.age == other.age:\n",
    "            return True\n",
    "        else:\n",
    "            return False\n",
    "            \n",
    "\n",
    "c1 = Computer()\n",
    "c2 = Computer()\n",
    "\n",
    "if c1.compare(c2):\n",
    "    print(\"they are same\")\n",
    "\n",
    "\n",
    "print(c1.name)\n",
    "print(c2.name)\n",
    "print(c1.age)\n",
    "print(c2.age)"
   ]
  },
  {
   "cell_type": "markdown",
   "id": "081b18c9-0836-44b1-a246-a08b2eda7906",
   "metadata": {},
   "source": [
    "Types of variables"
   ]
  },
  {
   "cell_type": "code",
   "execution_count": 23,
   "id": "70995999-b99b-4f9e-a683-20351d6246de",
   "metadata": {},
   "outputs": [
    {
     "name": "stdout",
     "output_type": "stream",
     "text": [
      "BMW 10\n",
      "BMW 10\n"
     ]
    }
   ],
   "source": [
    "class Car:\n",
    "    def __init__(self):\n",
    "        self.mil = 10\n",
    "        self.com = \"BMW\"\n",
    "\n",
    "c1 = Car()\n",
    "c2 = Car()\n",
    "\n",
    "print(c1.com , c1.mil)\n",
    "print(c2.com , c2.mil)"
   ]
  },
  {
   "cell_type": "code",
   "execution_count": 25,
   "id": "b32d0469-dc1b-4c79-9ef9-3be9a5cd701b",
   "metadata": {},
   "outputs": [
    {
     "name": "stdout",
     "output_type": "stream",
     "text": [
      "BMW 10 5\n",
      "BMW 10 5\n"
     ]
    }
   ],
   "source": [
    "class Car:\n",
    "\n",
    "    wheels = 5\n",
    "    \n",
    "    def __init__(self):\n",
    "        self.mil = 10\n",
    "        self.com = \"BMW\"\n",
    "\n",
    "c1 = Car()\n",
    "c2 = Car()\n",
    "\n",
    "print(c1.com , c1.mil, c1.wheels)\n",
    "print(c2.com , c2.mil, c2.wheels)"
   ]
  },
  {
   "cell_type": "code",
   "execution_count": 27,
   "id": "0ac7f18d-b16b-4a8c-bd79-c008a013e294",
   "metadata": {},
   "outputs": [
    {
     "name": "stdout",
     "output_type": "stream",
     "text": [
      "Honda 15 5\n",
      "Honda 15 4\n"
     ]
    }
   ],
   "source": [
    "class Car:\n",
    "    def __init__(self):\n",
    "        self.mil = 15\n",
    "        self.com = \"Honda\"\n",
    "\n",
    "c1 = Car()\n",
    "c2 = Car()\n",
    "\n",
    "c1.wheels = 5\n",
    "c2.wheels = 4\n",
    "\n",
    "print(c1.com, c1.mil, c1.wheels)\n",
    "print(c2.com, c2.mil, c2.wheels)"
   ]
  },
  {
   "cell_type": "code",
   "execution_count": 30,
   "id": "cdb3a063-a896-49be-8b16-6a884dcac575",
   "metadata": {},
   "outputs": [
    {
     "name": "stdout",
     "output_type": "stream",
     "text": [
      "Honda 15 5\n",
      "Honda 15 4\n"
     ]
    }
   ],
   "source": [
    "class Car:\n",
    "    def __init__(self):\n",
    "        self.mil = 15\n",
    "        self.com = \"Honda\"\n",
    "\n",
    "c1 = Car()\n",
    "c2 = Car()\n",
    "\n",
    "c1.wheels = 5\n",
    "c2.wheels = 4\n",
    "\n",
    "print(c1.com, c1.mil, c1.wheels)\n",
    "print(c2.com, c2.mil, c2.wheels)"
   ]
  },
  {
   "cell_type": "code",
   "execution_count": 31,
   "id": "7887ccdf-2336-4eff-a9ad-763fddf11025",
   "metadata": {},
   "outputs": [
    {
     "name": "stdout",
     "output_type": "stream",
     "text": [
      "BMW 10 6\n",
      "BMW 10 6\n"
     ]
    }
   ],
   "source": [
    "class Car:\n",
    "    wheels = 8\n",
    "    def __init__(self):\n",
    "        self.mil = 10\n",
    "        self.com = \"BMW\"\n",
    "\n",
    "c1 = Car()\n",
    "c2 = Car()\n",
    "\n",
    "Car.wheels = 6\n",
    "\n",
    "print(c1.com, c1.mil, c1.wheels)\n",
    "print(c2.com, c2.mil, c2.wheels)"
   ]
  },
  {
   "cell_type": "code",
   "execution_count": 35,
   "id": "c539c0ce-1ede-463b-9a6b-f7510fb38bd5",
   "metadata": {},
   "outputs": [
    {
     "name": "stdout",
     "output_type": "stream",
     "text": [
      "BMW 9 6\n",
      "BMW 10 6\n"
     ]
    }
   ],
   "source": [
    "class Car:\n",
    "    wheels = 8\n",
    "    \n",
    "    def __init__(self):\n",
    "        self.mil = 10\n",
    "        self.com = \"BMW\"\n",
    "\n",
    "c1 = Car()\n",
    "c2 = Car()\n",
    "\n",
    "c1.mil = 9\n",
    "Car.wheels = 6\n",
    "\n",
    "print(c1.com, c1.mil, c1.wheels)\n",
    "print(c2.com, c2.mil, c2.wheels)"
   ]
  },
  {
   "cell_type": "markdown",
   "id": "1a064e47-f351-40a5-97bf-87b7dc0d30a1",
   "metadata": {},
   "source": [
    "Types of methods"
   ]
  },
  {
   "cell_type": "code",
   "execution_count": 38,
   "id": "8d799025-9d5e-405b-8847-36128f6cb23c",
   "metadata": {},
   "outputs": [
    {
     "name": "stdout",
     "output_type": "stream",
     "text": [
      "3.0\n"
     ]
    }
   ],
   "source": [
    "class Student:\n",
    "    school = 'Telusko'\n",
    "    def __init__(self,m1,m2,m3,):\n",
    "        self.m1 = m1\n",
    "        self.m2 = m2\n",
    "        self.m3 = m3\n",
    "\n",
    "    def avg(self):\n",
    "        return (self.m1 + self.m2 + self.m3)/3\n",
    "\n",
    "s1 = Student(2,3,4)\n",
    "s2 = Student(4,2,1)\n",
    "\n",
    "print(s1.avg())"
   ]
  },
  {
   "cell_type": "code",
   "execution_count": 41,
   "id": "d71a3a24-0624-49d8-b3d9-ba6091d200d1",
   "metadata": {},
   "outputs": [
    {
     "name": "stdout",
     "output_type": "stream",
     "text": [
      "3.0\n",
      "2.3333333333333335\n"
     ]
    }
   ],
   "source": [
    "class Student:\n",
    "    school = 'Telusko'\n",
    "    def __init__(self,m1,m2,m3):\n",
    "        self.m1 = m1\n",
    "        self.m2 = m2\n",
    "        self.m3 = m3\n",
    "\n",
    "    def avg(self):\n",
    "        return (self.m1 + self.m2 + self.m3)/3\n",
    "\n",
    "s1 = Student(2,3,4)\n",
    "s2 = Student(4,2,1)\n",
    "\n",
    "print(s1.avg())\n",
    "print(s2.avg())"
   ]
  },
  {
   "cell_type": "code",
   "execution_count": 45,
   "id": "fb89215f-214b-43dc-b939-44bd7d22a1bd",
   "metadata": {},
   "outputs": [
    {
     "name": "stdout",
     "output_type": "stream",
     "text": [
      "3.0\n",
      "2.3333333333333335\n"
     ]
    }
   ],
   "source": [
    "class Student:\n",
    "    school = 'Telusko'\n",
    "    def __init__(self,m1,m2,m3):\n",
    "        self.m1 = m1\n",
    "        self.m2 = m2\n",
    "        self.m3 = m3\n",
    "\n",
    "    def avg(self):\n",
    "        return (self.m1 + self.m2 + self.m3)/3\n",
    "\n",
    "    def get_m1(self):\n",
    "        return self.m1\n",
    "\n",
    "    def set_m1(self,value):\n",
    "        self.m1 = value\n",
    "\n",
    "s1 = Student(2,3,4)\n",
    "s2 = Student(4,2,1)\n",
    "\n",
    "print(s1.avg())\n",
    "print(s2.avg())    "
   ]
  },
  {
   "cell_type": "code",
   "execution_count": 47,
   "id": "5bfde460-ff9e-4eb0-b10a-7334844ac29c",
   "metadata": {},
   "outputs": [
    {
     "name": "stdout",
     "output_type": "stream",
     "text": [
      "3.0\n",
      "Telusko\n"
     ]
    }
   ],
   "source": [
    "class Student:\n",
    "    school = 'Telusko'\n",
    "    def __init__(self,m1,m2,m3):\n",
    "        self.m1 = m1\n",
    "        self.m2 = m2\n",
    "        self.m3 = m3\n",
    "\n",
    "    def avg(self):\n",
    "        return (self.m1 + self.m2 + self.m3)/3\n",
    "    @classmethod\n",
    "    def info(cls):\n",
    "        return cls.school\n",
    "\n",
    "s1 = Student(2,3,4)\n",
    "s2 = Student(4,2,1)\n",
    "\n",
    "print(s1.avg())\n",
    "print(Student.info())    "
   ]
  },
  {
   "cell_type": "code",
   "execution_count": 49,
   "id": "394c9d45-8b49-47d6-b9c0-56a58a4e9541",
   "metadata": {},
   "outputs": [
    {
     "name": "stdout",
     "output_type": "stream",
     "text": [
      "3.0\n",
      "This is Student class.. in abc module\n",
      "None\n"
     ]
    }
   ],
   "source": [
    "class Student:\n",
    "    school = 'Telusko'\n",
    "    def __init__(self,m1,m2,m3):\n",
    "        self.m1 = m1\n",
    "        self.m2 = m2\n",
    "        self.m3 = m3\n",
    "\n",
    "    def avg(self):\n",
    "        return (self.m1 + self.m2 + self.m3)/3\n",
    "    @classmethod\n",
    "    def getSchool(cls):\n",
    "        return cls.school\n",
    "\n",
    "    def info():\n",
    "        print(\"This is Student class.. in abc module\")\n",
    "\n",
    "s1 = Student(2,3,4)\n",
    "s2 = Student(4,2,1)\n",
    "\n",
    "print(s1.avg())\n",
    "print(Student.info())    "
   ]
  },
  {
   "cell_type": "code",
   "execution_count": 52,
   "id": "1d099b99-da72-4315-b6a5-6a66e676763c",
   "metadata": {},
   "outputs": [
    {
     "name": "stdout",
     "output_type": "stream",
     "text": [
      "3.0\n",
      "This is Student class.. in abc module\n",
      "None\n",
      "This is Student class.. in abc module\n"
     ]
    }
   ],
   "source": [
    "class Student:\n",
    "    school = 'Telusko'\n",
    "    def __init__(self,m1,m2,m3):\n",
    "        self.m1 = m1\n",
    "        self.m2 = m2\n",
    "        self.m3 = m3\n",
    "\n",
    "    def avg(self):\n",
    "        return (self.m1 + self.m2 + self.m3)/3\n",
    "    @classmethod\n",
    "    def getSchool(cls):\n",
    "        return cls.school\n",
    "    @staticmethod\n",
    "    def info():\n",
    "        print(\"This is Student class.. in abc module\")\n",
    "\n",
    "s1 = Student(2,3,4)\n",
    "s2 = Student(4,2,1)\n",
    "\n",
    "print(s1.avg())\n",
    "print(Student.info())    \n",
    "\n",
    "Student.info()\n"
   ]
  },
  {
   "cell_type": "code",
   "execution_count": null,
   "id": "b8a0e6bf-d87b-4724-a5a7-580334daca8f",
   "metadata": {},
   "outputs": [],
   "source": []
  }
 ],
 "metadata": {
  "kernelspec": {
   "display_name": "Python 3 (ipykernel)",
   "language": "python",
   "name": "python3"
  },
  "language_info": {
   "codemirror_mode": {
    "name": "ipython",
    "version": 3
   },
   "file_extension": ".py",
   "mimetype": "text/x-python",
   "name": "python",
   "nbconvert_exporter": "python",
   "pygments_lexer": "ipython3",
   "version": "3.12.7"
  }
 },
 "nbformat": 4,
 "nbformat_minor": 5
}
