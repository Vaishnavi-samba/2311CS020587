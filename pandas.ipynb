{
 "cells": [
  {
   "cell_type": "code",
   "execution_count": 9,
   "id": "cf906307-1c33-4677-a2e1-3f39df8941c3",
   "metadata": {},
   "outputs": [
    {
     "name": "stdout",
     "output_type": "stream",
     "text": [
      "Sales DataFrame: \n",
      "   TransactionID  customerID  Amount        Date\n",
      "0              1         101     250  2025-01-01\n",
      "1              2         102     300  2025-01-02\n",
      "2              3         103     400  2025-01-03\n",
      "3              4         104     500  2025-01-04\n",
      "4              5         105     600  2025-01-05\n"
     ]
    }
   ],
   "source": [
    "import pandas as pd\n",
    "sales_data = {\n",
    "    'TransactionID' : [1,2,3,4,5],\n",
    "    'customerID' : [101, 102, 103, 104, 105],\n",
    "    'Amount': [250,300,400, 500, 600],\n",
    "    'Date' : ['2025-01-01', '2025-01-02', '2025-01-03', '2025-01-04', '2025-01-05']\n",
    "}\n",
    "customer_data = {\n",
    "    'customerID' : [101, 102, 103, 104],\n",
    "    'customerName' : ['Alice', 'Bob', 'Charlie', 'David'],\n",
    "    'Age' : [30, 35, 40, 25],\n",
    "    'City' : ['New York', 'Los Angeles', 'Chicago', 'Houston']\n",
    "}\n",
    "sales_df = pd.DataFrame(sales_data)\n",
    "customer_df = pd.DataFrame(customer_data)\n",
    "print(\"Sales DataFrame: \")\n",
    "print(sales_df.head())\n",
    "\n",
    "\n"
   ]
  },
  {
   "cell_type": "code",
   "execution_count": 13,
   "id": "fe77819a-0e7c-4a90-9983-199598f1380d",
   "metadata": {},
   "outputs": [
    {
     "name": "stdout",
     "output_type": "stream",
     "text": [
      "Sales DataFrame: \n",
      "   TransactionID  customerID  Amount        Date\n",
      "0              1         101     250  2025-01-01\n",
      "1              2         102     300  2025-01-02\n",
      "2              3         103     400  2025-01-03\n",
      "3              4         104     500  2025-01-04\n",
      "4              5         105     600  2025-01-05\n",
      "Sales DataFrame: \n",
      "   TransactionID  customerID  Amount        Date\n",
      "0              1         101     250  2025-01-01\n",
      "1              2         102     300  2025-01-02\n",
      "2              3         103     400  2025-01-03\n",
      "3              4         104     500  2025-01-04\n",
      "4              5         105     600  2025-01-05\n",
      "\n",
      "Shape of sales data:  (5, 4)\n",
      "Sales dataframe    TransactionID  customerID  Amount        Date\n",
      "0              1         101     250  2025-01-01\n",
      "1              2         102     300  2025-01-02\n",
      "2              3         103     400  2025-01-03\n",
      "3              4         104     500  2025-01-04\n",
      "4              5         105     600  2025-01-05\n",
      "customer_df    customerID customerName  Age         City\n",
      "0         101        Alice   30     New York\n",
      "1         102          Bob   35  Los Angeles\n",
      "2         103      Charlie   40      Chicago\n",
      "3         104        David   25      Houston\n"
     ]
    }
   ],
   "source": [
    "import pandas as pd\n",
    "sales_data = {\n",
    "    'TransactionID' : [1,2,3,4,5],\n",
    "    'customerID' : [101, 102, 103, 104, 105],\n",
    "    'Amount': [250,300,400, 500, 600],\n",
    "    'Date' : ['2025-01-01', '2025-01-02', '2025-01-03', '2025-01-04', '2025-01-05']\n",
    "}\n",
    "customer_data = {\n",
    "    'customerID' : [101, 102, 103, 104],\n",
    "    'customerName' : ['Alice', 'Bob', 'Charlie', 'David'],\n",
    "    'Age' : [30, 35, 40, 25],\n",
    "    'City' : ['New York', 'Los Angeles', 'Chicago', 'Houston']\n",
    "}\n",
    "sales_df = pd.DataFrame(sales_data)\n",
    "customer_df = pd.DataFrame(customer_data)\n",
    "print(\"Sales DataFrame: \")\n",
    "print(sales_df.head())\n",
    "\n",
    "import pandas as pd\n",
    "sales_data = {\n",
    "    'TransactionID' : [1,2,3,4,5],\n",
    "    'customerID' : [101, 102, 103, 104, 105],\n",
    "    'Amount': [250,300,400, 500, 600],\n",
    "    'Date' : ['2025-01-01', '2025-01-02', '2025-01-03', '2025-01-04', '2025-01-05']\n",
    "}\n",
    "customer_data = {\n",
    "    'customerID' : [101, 102, 103, 104],\n",
    "    'customerName' : ['Alice', 'Bob', 'Charlie', 'David'],\n",
    "    'Age' : [30, 35, 40, 25],\n",
    "    'City' : ['New York', 'Los Angeles', 'Chicago', 'Houston']\n",
    "}\n",
    "sales_df = pd.DataFrame(sales_data)\n",
    "customer_df = pd.DataFrame(customer_data)\n",
    "print(\"Sales DataFrame: \")\n",
    "print(sales_df.head())\n",
    "print(\"\\nShape of sales data: \", sales_df.shape)\n",
    "print(\"Sales dataframe\",sales_df)\n",
    "print(\"customer_df\",customer_df)\n",
    "\n"
   ]
  },
  {
   "cell_type": "code",
   "execution_count": 20,
   "id": "01b2ee4b-4d67-495b-b10e-88aec804f3cf",
   "metadata": {},
   "outputs": [
    {
     "name": "stdout",
     "output_type": "stream",
     "text": [
      "Sales DataFrame: \n",
      "   TransactionID  customerID  Amount        Date\n",
      "0              1         101     250  2025-01-01\n",
      "1              2         102     300  2025-01-02\n",
      "2              3         103     400  2025-01-03\n",
      "3              4         104     500  2025-01-04\n",
      "4              5         105     600  2025-01-05\n",
      "Sales DataFrame: \n",
      "   TransactionID  customerID  Amount        Date\n",
      "0              1         101     250  2025-01-01\n",
      "1              2         102     300  2025-01-02\n",
      "2              3         103     400  2025-01-03\n",
      "3              4         104     500  2025-01-04\n",
      "4              5         105     600  2025-01-05\n",
      "\n",
      "Shape of sales data:  (5, 4)\n",
      "Sales dataframe    TransactionID  customerID  Amount        Date\n",
      "0              1         101     250  2025-01-01\n",
      "1              2         102     300  2025-01-02\n",
      "2              3         103     400  2025-01-03\n",
      "3              4         104     500  2025-01-04\n",
      "4              5         105     600  2025-01-05\n",
      "customer_df    customerID customerName  Age         City\n",
      "0         101        Alice   30     New York\n",
      "1         102          Bob   35  Los Angeles\n",
      "2         103      Charlie   40      Chicago\n",
      "3         104        David   25      Houston\n"
     ]
    },
    {
     "ename": "NameError",
     "evalue": "name 'customers_df' is not defined",
     "output_type": "error",
     "traceback": [
      "\u001b[1;31m---------------------------------------------------------------------------\u001b[0m",
      "\u001b[1;31mNameError\u001b[0m                                 Traceback (most recent call last)",
      "Cell \u001b[1;32mIn[20], line 40\u001b[0m\n\u001b[0;32m     37\u001b[0m \u001b[38;5;28mprint\u001b[39m(\u001b[38;5;124m\"\u001b[39m\u001b[38;5;124mSales dataframe\u001b[39m\u001b[38;5;124m\"\u001b[39m,sales_df)\n\u001b[0;32m     38\u001b[0m \u001b[38;5;28mprint\u001b[39m(\u001b[38;5;124m\"\u001b[39m\u001b[38;5;124mcustomer_df\u001b[39m\u001b[38;5;124m\"\u001b[39m,customer_df)\n\u001b[1;32m---> 40\u001b[0m merged_df \u001b[38;5;241m=\u001b[39m pd\u001b[38;5;241m.\u001b[39mmerge(sales_df, customers_df, on\u001b[38;5;241m=\u001b[39m\u001b[38;5;124m'\u001b[39m\u001b[38;5;124mCustomerID\u001b[39m\u001b[38;5;124m'\u001b[39m, how\u001b[38;5;241m=\u001b[39m\u001b[38;5;124m'\u001b[39m\u001b[38;5;124minner\u001b[39m\u001b[38;5;124m'\u001b[39m)\n\u001b[0;32m     41\u001b[0m \u001b[38;5;28mprint\u001b[39m(\u001b[38;5;124m\"\u001b[39m\u001b[38;5;130;01m\\n\u001b[39;00m\u001b[38;5;124mMerged DataFrame:\u001b[39m\u001b[38;5;124m\"\u001b[39m)\n\u001b[0;32m     42\u001b[0m \u001b[38;5;28mprint\u001b[39m(merged_df)\n",
      "\u001b[1;31mNameError\u001b[0m: name 'customers_df' is not defined"
     ]
    }
   ],
   "source": [
    "import pandas as pd\n",
    "sales_data = {\n",
    "    'TransactionID' : [1,2,3,4,5],\n",
    "    'customerID' : [101, 102, 103, 104, 105],\n",
    "    'Amount': [250,300,400, 500, 600],\n",
    "    'Date' : ['2025-01-01', '2025-01-02', '2025-01-03', '2025-01-04', '2025-01-05']\n",
    "}\n",
    "customer_data = {\n",
    "    'customerID' : [101, 102, 103, 104],\n",
    "    'customerName' : ['Alice', 'Bob', 'Charlie', 'David'],\n",
    "    'Age' : [30, 35, 40, 25],\n",
    "    'City' : ['New York', 'Los Angeles', 'Chicago', 'Houston']\n",
    "}\n",
    "sales_df = pd.DataFrame(sales_data)\n",
    "customer_df = pd.DataFrame(customer_data)\n",
    "print(\"Sales DataFrame: \")\n",
    "print(sales_df.head())\n",
    "\n",
    "import pandas as pd\n",
    "sales_data = {\n",
    "    'TransactionID' : [1,2,3,4,5],\n",
    "    'customerID' : [101, 102, 103, 104, 105],\n",
    "    'Amount': [250,300,400, 500, 600],\n",
    "    'Date' : ['2025-01-01', '2025-01-02', '2025-01-03', '2025-01-04', '2025-01-05']\n",
    "}\n",
    "customer_data = {\n",
    "    'customerID' : [101, 102, 103, 104],\n",
    "    'customerName' : ['Alice', 'Bob', 'Charlie', 'David'],\n",
    "    'Age' : [30, 35, 40, 25],\n",
    "    'City' : ['New York', 'Los Angeles', 'Chicago', 'Houston']\n",
    "}\n",
    "sales_df = pd.DataFrame(sales_data)\n",
    "customer_df = pd.DataFrame(customer_data)\n",
    "print(\"Sales DataFrame: \")\n",
    "print(sales_df.head())\n",
    "print(\"\\nShape of sales data: \", sales_df.shape)\n",
    "print(\"Sales dataframe\",sales_df)\n",
    "print(\"customer_df\",customer_df)\n",
    "\n",
    "merged_df = pd.merge(sales_df, customers_df, on='CustomerID', how='inner')\n",
    "print(\"\\nMerged DataFrame:\")\n",
    "print(merged_df)\n",
    "\n",
    "# Accesing data using loc and iloc\n",
    "print(\"\\nAccess data using 'loc' (row 1):\")\n",
    "print(merged_df.loc[1])\n",
    "\n",
    "print(\"\\nAccess data using 'iloc' (row 2): \")"
   ]
  },
  {
   "cell_type": "markdown",
   "id": "c86f022c-c889-46e6-af05-5e1db2dc9dd5",
   "metadata": {},
   "source": [
    "\""
   ]
  }
 ],
 "metadata": {
  "kernelspec": {
   "display_name": "Python 3 (ipykernel)",
   "language": "python",
   "name": "python3"
  },
  "language_info": {
   "codemirror_mode": {
    "name": "ipython",
    "version": 3
   },
   "file_extension": ".py",
   "mimetype": "text/x-python",
   "name": "python",
   "nbconvert_exporter": "python",
   "pygments_lexer": "ipython3",
   "version": "3.12.7"
  }
 },
 "nbformat": 4,
 "nbformat_minor": 5
}
