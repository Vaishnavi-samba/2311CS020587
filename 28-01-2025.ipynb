{
 "cells": [
  {
   "cell_type": "code",
   "execution_count": 2,
   "id": "34d42843-e3e1-4180-8484-469a2fd13f57",
   "metadata": {},
   "outputs": [
    {
     "name": "stdout",
     "output_type": "stream",
     "text": [
      "original dataframe\n",
      "   customer_id  gender       city  fruits\n",
      "0            1    Male  Hyderabad   Apple\n",
      "1            2  Female       pune  orange\n",
      "2            3  Female  Bangalore    kiwi\n",
      "3            4    Male     mumbai  Banana\n",
      "   gender_Female  gender_Male  city_Bangalore  city_Hyderabad  city_mumbai  \\\n",
      "0            0.0          1.0             0.0             1.0          0.0   \n",
      "1            1.0          0.0             0.0             0.0          0.0   \n",
      "2            1.0          0.0             1.0             0.0          0.0   \n",
      "3            0.0          1.0             0.0             0.0          1.0   \n",
      "\n",
      "   city_pune  fruits_Apple  fruits_Banana  fruits_kiwi  fruits_orange  \n",
      "0        0.0           1.0            0.0          0.0            0.0  \n",
      "1        1.0           0.0            0.0          0.0            1.0  \n",
      "2        0.0           0.0            0.0          1.0            0.0  \n",
      "3        0.0           0.0            1.0          0.0            0.0  \n",
      "\n",
      "one-Hot Encoded Dataframe with sklearn:\n",
      "original dataframe\n",
      "   customer_id  gender       city  fruits\n",
      "0            1    Male  Hyderabad   Apple\n",
      "1            2  Female       pune  orange\n",
      "2            3  Female  Bangalore    kiwi\n",
      "3            4    Male     mumbai  Banana\n",
      "   gender_Female  gender_Male  city_Bangalore  city_Hyderabad  city_mumbai  \\\n",
      "0            0.0          1.0             0.0             1.0          0.0   \n",
      "1            1.0          0.0             0.0             0.0          0.0   \n",
      "2            1.0          0.0             1.0             0.0          0.0   \n",
      "3            0.0          1.0             0.0             0.0          1.0   \n",
      "\n",
      "   city_pune  fruits_Apple  fruits_Banana  fruits_kiwi  fruits_orange  \n",
      "0        0.0           1.0            0.0          0.0            0.0  \n",
      "1        1.0           0.0            0.0          0.0            1.0  \n",
      "2        0.0           0.0            0.0          1.0            0.0  \n",
      "3        0.0           0.0            1.0          0.0            0.0  \n",
      "\n",
      "one-Hot Encoded Dataframe with sklearn:\n"
     ]
    }
   ],
   "source": [
    "import pandas as pd\n",
    "from sklearn.preprocessing import OneHotEncoder\n",
    "data={\n",
    "    \"customer_id\":[1,2,3,4],\n",
    "    \"gender\":[\"Male\",\"Female\",\"Female\",\"Male\"],\n",
    "    \"city\":[\"Hyderabad\",\"pune\",\"Bangalore\",\"mumbai\"],\n",
    "    \"fruits\":[\"Apple\",\"orange\",\"kiwi\",\"Banana\"]\n",
    "}\n",
    "df=pd.DataFrame(data)\n",
    "print(\"original dataframe\")\n",
    "print(df)\n",
    "one_hot_encoder=OneHotEncoder(sparse_output=False)\n",
    "columns_to_encode=[\"gender\",\"city\",\"fruits\"]\n",
    "encoded_data=one_hot_encoder.fit_transform(df[columns_to_encode])\n",
    "encoded_columns=one_hot_encoder.get_feature_names_out(columns_to_encode)\n",
    "encoded_df=pd.DataFrame(encoded_data,columns=encoded_columns)\n",
    "print(encoded_df)\n",
    "print(\"\\none-Hot Encoded Dataframe with sklearn:\")\n",
    "\n",
    "import pandas as pd\n",
    "from sklearn.preprocessing import OneHotEncoder\n",
    "data={\n",
    "    \"customer_id\":[1,2,3,4],\n",
    "    \"gender\":[\"Male\",\"Female\",\"Female\",\"Male\"],\n",
    "    \"city\":[\"Hyderabad\",\"pune\",\"Bangalore\",\"mumbai\"],\n",
    "    \"fruits\":[\"Apple\",\"orange\",\"kiwi\",\"Banana\"]\n",
    "}\n",
    "df=pd.DataFrame(data)\n",
    "print(\"original dataframe\")\n",
    "print(df)\n",
    "one_hot_encoder=OneHotEncoder(sparse_output=False)\n",
    "columns_to_encode=[\"gender\",\"city\",\"fruits\"]\n",
    "encoded_data=one_hot_encoder.fit_transform(df[columns_to_encode])\n",
    "encoded_columns=one_hot_encoder.get_feature_names_out(columns_to_encode)\n",
    "encoded_df=pd.DataFrame(encoded_data,columns=encoded_columns)\n",
    "print(encoded_df)\n",
    "print(\"\\none-Hot Encoded Dataframe with sklearn:\")"
   ]
  },
  {
   "cell_type": "code",
   "execution_count": null,
   "id": "fe1e8edb-e6a3-4855-83de-e21d45dc83d0",
   "metadata": {},
   "outputs": [],
   "source": []
  }
 ],
 "metadata": {
  "kernelspec": {
   "display_name": "Python 3 (ipykernel)",
   "language": "python",
   "name": "python3"
  },
  "language_info": {
   "codemirror_mode": {
    "name": "ipython",
    "version": 3
   },
   "file_extension": ".py",
   "mimetype": "text/x-python",
   "name": "python",
   "nbconvert_exporter": "python",
   "pygments_lexer": "ipython3",
   "version": "3.12.7"
  }
 },
 "nbformat": 4,
 "nbformat_minor": 5
}
