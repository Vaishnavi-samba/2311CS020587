{
 "cells": [
  {
   "cell_type": "markdown",
   "id": "9eadbcf4-9b89-41b0-a2b1-67ebd93a403d",
   "metadata": {},
   "source": [
    "ways of creating array in numpy"
   ]
  },
  {
   "cell_type": "code",
   "execution_count": 1,
   "id": "236599bc-7a15-4f3f-b4b1-eecd6cd4f150",
   "metadata": {},
   "outputs": [],
   "source": [
    "from numpy import *"
   ]
  },
  {
   "cell_type": "code",
   "execution_count": 4,
   "id": "031b0972-503c-4e08-ab37-917269f69dc7",
   "metadata": {},
   "outputs": [
    {
     "name": "stdout",
     "output_type": "stream",
     "text": [
      "int32\n"
     ]
    }
   ],
   "source": [
    "arr = array([1,2,3,4,5])\n",
    "print(arr.dtype)"
   ]
  },
  {
   "cell_type": "code",
   "execution_count": 5,
   "id": "a8d656d6-f392-43df-a8f2-dc8d4742ea61",
   "metadata": {},
   "outputs": [
    {
     "name": "stdout",
     "output_type": "stream",
     "text": [
      "float64\n"
     ]
    }
   ],
   "source": [
    "arr = array([1,2,3,4.5,5])\n",
    "print(arr.dtype)"
   ]
  },
  {
   "cell_type": "code",
   "execution_count": 6,
   "id": "7e986d1a-85b8-402d-85be-920bf28765ae",
   "metadata": {},
   "outputs": [
    {
     "name": "stdout",
     "output_type": "stream",
     "text": [
      "float64\n"
     ]
    }
   ],
   "source": [
    "arr = array([1,2,3,4/5,5])\n",
    "print(arr.dtype)"
   ]
  },
  {
   "cell_type": "code",
   "execution_count": 7,
   "id": "72fa8b48-29f1-47a3-b77f-769aebe68377",
   "metadata": {},
   "outputs": [
    {
     "name": "stdout",
     "output_type": "stream",
     "text": [
      "int32\n"
     ]
    }
   ],
   "source": [
    "arr = array([1,2%3,3,4,5])\n",
    "print(arr.dtype)"
   ]
  },
  {
   "cell_type": "code",
   "execution_count": 8,
   "id": "cc0e06b5-76cc-41b7-ac03-e2a56c6d6149",
   "metadata": {},
   "outputs": [
    {
     "name": "stdout",
     "output_type": "stream",
     "text": [
      "float64\n",
      "[1.  2.  3.6 4.  5. ]\n"
     ]
    }
   ],
   "source": [
    "arr = array([1,2,3.6,4,5])\n",
    "print(arr.dtype)\n",
    "print(arr)"
   ]
  },
  {
   "cell_type": "code",
   "execution_count": 9,
   "id": "82a14ad2-1e32-4b60-a553-93c893789a87",
   "metadata": {},
   "outputs": [
    {
     "name": "stdout",
     "output_type": "stream",
     "text": [
      "float64\n"
     ]
    }
   ],
   "source": [
    "arr = array([1,2,3,4,5],float)\n",
    "print(arr.dtype)"
   ]
  },
  {
   "cell_type": "code",
   "execution_count": 10,
   "id": "d3f1c54a-6ead-486e-a953-d74d9da050ca",
   "metadata": {},
   "outputs": [
    {
     "name": "stdout",
     "output_type": "stream",
     "text": [
      "int32\n"
     ]
    }
   ],
   "source": [
    "arr = array([1,2,3,4,5],int)\n",
    "print(arr.dtype)"
   ]
  },
  {
   "cell_type": "code",
   "execution_count": 16,
   "id": "53673fdd-9faa-4711-a729-8648ba5606aa",
   "metadata": {},
   "outputs": [
    {
     "name": "stdout",
     "output_type": "stream",
     "text": [
      "[ 0.  1.  2.  3.  4.  5.  6.  7.  8.  9. 10. 11. 12. 13. 14. 15.]\n"
     ]
    }
   ],
   "source": [
    "arr = linspace(0,15,16)\n",
    "print(arr)"
   ]
  },
  {
   "cell_type": "code",
   "execution_count": 17,
   "id": "1068e30f-335a-464f-84b4-7aa27b466498",
   "metadata": {},
   "outputs": [
    {
     "name": "stdout",
     "output_type": "stream",
     "text": [
      "[ 0.          0.71428571  1.42857143  2.14285714  2.85714286  3.57142857\n",
      "  4.28571429  5.          5.71428571  6.42857143  7.14285714  7.85714286\n",
      "  8.57142857  9.28571429 10.        ]\n"
     ]
    }
   ],
   "source": [
    "arr = linspace(0,10,15)\n",
    "print(arr)"
   ]
  },
  {
   "cell_type": "code",
   "execution_count": 18,
   "id": "c015a7b5-179d-4261-8385-85db18ddc1f4",
   "metadata": {},
   "outputs": [
    {
     "name": "stdout",
     "output_type": "stream",
     "text": [
      "[0. 1.]\n"
     ]
    }
   ],
   "source": [
    "arr = linspace(0,1,2)\n",
    "print(arr)"
   ]
  },
  {
   "cell_type": "code",
   "execution_count": 31,
   "id": "fc7f7b7e-c5ed-4b4f-9c2b-86f0c0a6d519",
   "metadata": {},
   "outputs": [
    {
     "name": "stdout",
     "output_type": "stream",
     "text": [
      "[1. 2.]\n"
     ]
    }
   ],
   "source": [
    "arr = linspace(1,2,2)\n",
    "print(arr)"
   ]
  },
  {
   "cell_type": "code",
   "execution_count": 35,
   "id": "90eee773-2177-437b-9a35-d65e9ec387fa",
   "metadata": {},
   "outputs": [
    {
     "name": "stdout",
     "output_type": "stream",
     "text": [
      "[0.         0.66666667 1.33333333 2.        ]\n"
     ]
    }
   ],
   "source": [
    "arr = linspace(0,2,4)\n",
    "print(arr)"
   ]
  },
  {
   "cell_type": "code",
   "execution_count": 37,
   "id": "97f09394-bdb0-48e2-8c33-6f563a03dffa",
   "metadata": {},
   "outputs": [
    {
     "name": "stdout",
     "output_type": "stream",
     "text": [
      "[ 0.    3.75  7.5  11.25 15.  ]\n"
     ]
    }
   ],
   "source": [
    "arr = linspace(0,15,5)\n",
    "print(arr)"
   ]
  },
  {
   "cell_type": "code",
   "execution_count": 39,
   "id": "d1ea81e4-6c98-4c13-84ba-a44fcf156b70",
   "metadata": {},
   "outputs": [
    {
     "name": "stdout",
     "output_type": "stream",
     "text": [
      "[ 0.  1.  2.  3.  4.  5.  6.  7.  8.  9. 10. 11. 12. 13. 14. 15.]\n"
     ]
    }
   ],
   "source": [
    "arr = linspace(0,15,16)\n",
    "print(arr)"
   ]
  },
  {
   "cell_type": "code",
   "execution_count": 41,
   "id": "adccd71b-d2df-48c6-90b2-1a1f1c430b38",
   "metadata": {},
   "outputs": [
    {
     "name": "stdout",
     "output_type": "stream",
     "text": [
      "[ 0.          0.84210526  1.68421053  2.52631579  3.36842105  4.21052632\n",
      "  5.05263158  5.89473684  6.73684211  7.57894737  8.42105263  9.26315789\n",
      " 10.10526316 10.94736842 11.78947368 12.63157895 13.47368421 14.31578947\n",
      " 15.15789474 16.        ]\n"
     ]
    }
   ],
   "source": [
    "arr = linspace(0,16,20)\n",
    "print(arr)"
   ]
  },
  {
   "cell_type": "code",
   "execution_count": 43,
   "id": "b96043cb-e91c-43cd-937f-56c2f5cace3e",
   "metadata": {},
   "outputs": [
    {
     "name": "stdout",
     "output_type": "stream",
     "text": [
      "[ 1  3  5  7  9 11 13]\n"
     ]
    }
   ],
   "source": [
    "arr = arange(1,15,2)\n",
    "print(arr)"
   ]
  },
  {
   "cell_type": "code",
   "execution_count": 45,
   "id": "cd02ac9f-920f-4dc7-a41a-b79556948ea6",
   "metadata": {},
   "outputs": [
    {
     "name": "stdout",
     "output_type": "stream",
     "text": [
      "[ 1  3  5  7  9 11]\n"
     ]
    }
   ],
   "source": [
    "arr = arange(1,12,2)\n",
    "print(arr)"
   ]
  },
  {
   "cell_type": "code",
   "execution_count": 46,
   "id": "53f030d6-24ac-488d-9f46-0bfc2a443735",
   "metadata": {},
   "outputs": [
    {
     "name": "stdout",
     "output_type": "stream",
     "text": [
      "[1.00000000e+01 5.62341325e+10 3.16227766e+20 1.77827941e+30\n",
      " 1.00000000e+40]\n"
     ]
    }
   ],
   "source": [
    "arr = logspace(1,40,5)\n",
    "print(arr)"
   ]
  },
  {
   "cell_type": "code",
   "execution_count": 47,
   "id": "b6c1a4a2-9d4d-4862-a8f3-1959d64b701a",
   "metadata": {},
   "outputs": [
    {
     "name": "stdout",
     "output_type": "stream",
     "text": [
      "[ 10.          17.7827941   31.6227766   56.23413252 100.        ]\n"
     ]
    }
   ],
   "source": [
    "arr = logspace(1,2,5)\n",
    "print(arr)"
   ]
  },
  {
   "cell_type": "code",
   "execution_count": 51,
   "id": "874c0ff7-f315-4ed8-8a33-86b16d91e2f4",
   "metadata": {},
   "outputs": [
    {
     "name": "stdout",
     "output_type": "stream",
     "text": [
      "10000000000000000303786028427003666890752.00\n"
     ]
    }
   ],
   "source": [
    "arr = logspace(1,40,5)\n",
    "print('%.2f' %arr[4])"
   ]
  },
  {
   "cell_type": "code",
   "execution_count": 55,
   "id": "d3acbb13-cc19-487d-8c5f-5ae38faa1fea",
   "metadata": {},
   "outputs": [
    {
     "name": "stdout",
     "output_type": "stream",
     "text": [
      "[0. 0. 0. 0. 0.]\n"
     ]
    }
   ],
   "source": [
    "arr = zeros(5)\n",
    "print(arr)"
   ]
  },
  {
   "cell_type": "code",
   "execution_count": 63,
   "id": "6977bed2-a9dc-4318-870d-44ed43050619",
   "metadata": {},
   "outputs": [
    {
     "name": "stdout",
     "output_type": "stream",
     "text": [
      "[1 1 1 1 1]\n"
     ]
    }
   ],
   "source": [
    "arr = ones(5,int)\n",
    "\n",
    "print(arr)"
   ]
  },
  {
   "cell_type": "code",
   "execution_count": 64,
   "id": "9e3cc498-70df-4d90-9aee-41e32d068247",
   "metadata": {},
   "outputs": [
    {
     "name": "stdout",
     "output_type": "stream",
     "text": [
      "[1. 1. 1. 1. 1.]\n"
     ]
    }
   ],
   "source": [
    "arr = ones(5)\n",
    "print(arr)"
   ]
  },
  {
   "cell_type": "markdown",
   "id": "76d4d477-98a2-4f08-920b-1594f70b7410",
   "metadata": {},
   "source": [
    "copying an array in python"
   ]
  },
  {
   "cell_type": "code",
   "execution_count": 65,
   "id": "ee94f654-21b0-4321-ad01-dd3b1687aaa7",
   "metadata": {},
   "outputs": [],
   "source": [
    "from numpy import *"
   ]
  },
  {
   "cell_type": "code",
   "execution_count": 66,
   "id": "0a95908f-c016-4178-b35a-e1bc25d00388",
   "metadata": {},
   "outputs": [
    {
     "name": "stdout",
     "output_type": "stream",
     "text": [
      "[ 6  7  8  9 10]\n"
     ]
    }
   ],
   "source": [
    "arr = array([1,2,3,4,5])\n",
    "arr = arr + 5\n",
    "print(arr)"
   ]
  },
  {
   "cell_type": "code",
   "execution_count": 67,
   "id": "8e3b1340-2e03-4ae8-abad-bb2948830444",
   "metadata": {},
   "outputs": [
    {
     "name": "stdout",
     "output_type": "stream",
     "text": [
      "[ 7  9 11 13  5]\n"
     ]
    }
   ],
   "source": [
    "arr1 = array([1,2,3,4,5])\n",
    "arr2 = array([6,7,8,9,0])\n",
    "arr3 = arr1 + arr2\n",
    "print(arr3)"
   ]
  },
  {
   "cell_type": "code",
   "execution_count": 68,
   "id": "a9c1b905-e770-4604-9421-0d15a2f19985",
   "metadata": {},
   "outputs": [
    {
     "name": "stdout",
     "output_type": "stream",
     "text": [
      "[ 0.84147098  0.90929743  0.14112001 -0.7568025  -0.95892427]\n"
     ]
    }
   ],
   "source": [
    "arr = array([1,2,3,4,5])\n",
    "print(sin(arr))"
   ]
  },
  {
   "cell_type": "code",
   "execution_count": 69,
   "id": "8cff6560-1a09-4427-96a2-53f220f21271",
   "metadata": {},
   "outputs": [
    {
     "name": "stdout",
     "output_type": "stream",
     "text": [
      "[0.         0.69314718 1.09861229 1.38629436 1.60943791]\n"
     ]
    }
   ],
   "source": [
    "arr = array([1,2,3,4,5])\n",
    "print(log(arr))"
   ]
  },
  {
   "cell_type": "code",
   "execution_count": 70,
   "id": "c52783e5-7041-449c-8579-c7a07687c586",
   "metadata": {},
   "outputs": [
    {
     "name": "stdout",
     "output_type": "stream",
     "text": [
      "[ 0.54030231 -0.41614684 -0.9899925  -0.65364362  0.28366219]\n"
     ]
    }
   ],
   "source": [
    "arr = array([1,2,3,4,5])\n",
    "print(cos(arr))"
   ]
  },
  {
   "cell_type": "code",
   "execution_count": 71,
   "id": "9a007c17-e124-49ff-9a30-384d245446cb",
   "metadata": {},
   "outputs": [
    {
     "name": "stdout",
     "output_type": "stream",
     "text": [
      "15\n"
     ]
    }
   ],
   "source": [
    "arr = array([1,2,3,4,5])\n",
    "print(sum(arr))"
   ]
  },
  {
   "cell_type": "code",
   "execution_count": 72,
   "id": "5fbcded8-87ec-42a0-b088-23c96de41b96",
   "metadata": {},
   "outputs": [
    {
     "name": "stdout",
     "output_type": "stream",
     "text": [
      "1\n"
     ]
    }
   ],
   "source": [
    "arr = array([1,2,3,4,5])\n",
    "print(min(arr))"
   ]
  },
  {
   "cell_type": "code",
   "execution_count": 73,
   "id": "314d2b90-b16c-4cbf-b60c-74bc4d8813cd",
   "metadata": {},
   "outputs": [
    {
     "name": "stdout",
     "output_type": "stream",
     "text": [
      "5\n"
     ]
    }
   ],
   "source": [
    "arr = array([1,2,3,4,5])\n",
    "print(max(arr))"
   ]
  },
  {
   "cell_type": "code",
   "execution_count": 74,
   "id": "cf32d639-af81-424a-82ad-c2548aa70413",
   "metadata": {},
   "outputs": [
    {
     "name": "stdout",
     "output_type": "stream",
     "text": [
      "[ 1.55740772 -2.18503986 -0.14254654  1.15782128 -3.38051501]\n"
     ]
    }
   ],
   "source": [
    "arr = array([1,2,3,4,5])\n",
    "print(tan(arr))"
   ]
  },
  {
   "cell_type": "code",
   "execution_count": 75,
   "id": "644f5818-0c5c-4d00-ab2f-ec6c89f11de3",
   "metadata": {},
   "outputs": [
    {
     "name": "stdout",
     "output_type": "stream",
     "text": [
      "[12 14 16 18 10]\n"
     ]
    }
   ],
   "source": [
    "arr1 = array([1,2,3,4,5])\n",
    "arr2 = array([6,7,8,9,0])\n",
    "arr3 = arr1 + arr2 + 5\n",
    "print(arr3)"
   ]
  },
  {
   "cell_type": "code",
   "execution_count": 76,
   "id": "bd4663b8-dc33-4007-8a9b-c7d350ee6744",
   "metadata": {},
   "outputs": [
    {
     "name": "stdout",
     "output_type": "stream",
     "text": [
      "[ 9 10 11 12 13]\n"
     ]
    }
   ],
   "source": [
    "arr1 = array([1,2,3,4,5])\n",
    "arr2 = array([6,7,8,9,0])\n",
    "arr3 = arr1 + 8\n",
    "print(arr3)"
   ]
  },
  {
   "cell_type": "code",
   "execution_count": 78,
   "id": "12f11a0e-e2ab-4e0c-9ae7-cfe10c2babc8",
   "metadata": {},
   "outputs": [
    {
     "name": "stdout",
     "output_type": "stream",
     "text": [
      "[1 2 3 4 5 6 7 8 9 0]\n"
     ]
    }
   ],
   "source": [
    "arr1 = array([1,2,3,4,5])\n",
    "arr2 = array([6,7,8,9,0])\n",
    "print(concatenate([arr1,arr2]))"
   ]
  },
  {
   "cell_type": "code",
   "execution_count": 80,
   "id": "2c803c4e-1c32-491b-b508-d69533bc8cee",
   "metadata": {},
   "outputs": [
    {
     "name": "stdout",
     "output_type": "stream",
     "text": [
      "[1 2 3 4 5]\n",
      "[1 2 3 4 5]\n"
     ]
    }
   ],
   "source": [
    "arr1 = array([1,2,3,4,5])\n",
    "arr2 = arr1\n",
    "print(arr1)\n",
    "print(arr2)"
   ]
  },
  {
   "cell_type": "code",
   "execution_count": 82,
   "id": "c109525e-bacb-45d5-a255-5eed57d814fa",
   "metadata": {},
   "outputs": [
    {
     "name": "stdout",
     "output_type": "stream",
     "text": [
      "[1 2 3 4 5]\n",
      "[1 2 3 4 5]\n",
      "2508496153904\n",
      "2508496153904\n"
     ]
    }
   ],
   "source": [
    "arr1 = array([1,2,3,4,5])\n",
    "arr2 = arr1\n",
    "print(arr1)\n",
    "print(arr2)\n",
    "\n",
    "print(id(arr1))\n",
    "print(id(arr2))"
   ]
  },
  {
   "cell_type": "code",
   "execution_count": 83,
   "id": "7abc15a5-8f6f-47cc-a217-2d055f65b78d",
   "metadata": {},
   "outputs": [
    {
     "name": "stdout",
     "output_type": "stream",
     "text": [
      "[1 2 3 4 5]\n",
      "[1 2 3 4 5]\n",
      "2508481687312\n",
      "2508496929584\n"
     ]
    }
   ],
   "source": [
    "arr1 = array([1,2,3,4,5])\n",
    "arr2 = arr1.view()\n",
    "\n",
    "\n",
    "print(arr1)\n",
    "print(arr2)\n",
    "\n",
    "print(id(arr1))\n",
    "print(id(arr2))"
   ]
  },
  {
   "cell_type": "code",
   "execution_count": 89,
   "id": "97089f94-610c-42d1-97fe-64f63323e004",
   "metadata": {},
   "outputs": [
    {
     "name": "stdout",
     "output_type": "stream",
     "text": [
      "[1 2 3 7 5]\n",
      "[1 2 3 7 5]\n",
      "2508496153904\n",
      "2508496933808\n"
     ]
    }
   ],
   "source": [
    "arr1 = array([1,2,3,4,5])\n",
    "arr2 = arr1.view()\n",
    "\n",
    "arr1[3] = 7\n",
    "print(arr1)\n",
    "print(arr2)\n",
    "\n",
    "print(id(arr1))\n",
    "print(id(arr2))"
   ]
  },
  {
   "cell_type": "code",
   "execution_count": 90,
   "id": "e454ca97-7602-48cd-8099-f579ce2a4954",
   "metadata": {},
   "outputs": [
    {
     "name": "stdout",
     "output_type": "stream",
     "text": [
      "[1 2 3 7 5]\n",
      "[1 2 3 4 5]\n",
      "2508481687312\n",
      "2508496943600\n"
     ]
    }
   ],
   "source": [
    "arr1 = array([1,2,3,4,5])\n",
    "arr2 = arr1.copy()\n",
    "\n",
    "arr1[3] = 7\n",
    "print(arr1)\n",
    "print(arr2)\n",
    "\n",
    "print(id(arr1))\n",
    "print(id(arr2))"
   ]
  },
  {
   "cell_type": "markdown",
   "id": "a718ca26-b68c-4698-ae44-fb6dce9d3238",
   "metadata": {},
   "source": [
    "working with matrix "
   ]
  },
  {
   "cell_type": "code",
   "execution_count": 3,
   "id": "ecdb6b5f-3bec-487e-8ce2-89c20d8c83db",
   "metadata": {},
   "outputs": [
    {
     "name": "stdout",
     "output_type": "stream",
     "text": [
      "int32\n"
     ]
    }
   ],
   "source": [
    "from numpy import * \n",
    "arr1 = array([\n",
    "               [1,2,3],\n",
    "               [4,5,6]\n",
    "])\n",
    "print(arr1.dtype)"
   ]
  },
  {
   "cell_type": "code",
   "execution_count": 4,
   "id": "39ef972c-05eb-4ba9-902d-02805e325335",
   "metadata": {},
   "outputs": [
    {
     "name": "stdout",
     "output_type": "stream",
     "text": [
      "2\n"
     ]
    }
   ],
   "source": [
    "from numpy import * \n",
    "arr1 = array([\n",
    "               [1,2,3],\n",
    "               [4,5,6]\n",
    "])\n",
    "print(arr1.ndim)"
   ]
  },
  {
   "cell_type": "code",
   "execution_count": 5,
   "id": "497dc2bc-9154-4130-b183-d5061f552502",
   "metadata": {},
   "outputs": [
    {
     "name": "stdout",
     "output_type": "stream",
     "text": [
      "(2, 3)\n"
     ]
    }
   ],
   "source": [
    "from numpy import * \n",
    "arr1 = array([\n",
    "               [1,2,3],\n",
    "               [4,5,6]\n",
    "])\n",
    "print(arr1.shape)"
   ]
  },
  {
   "cell_type": "code",
   "execution_count": 6,
   "id": "eebfab92-ece4-4fce-aac6-5d716f9c0592",
   "metadata": {},
   "outputs": [
    {
     "name": "stdout",
     "output_type": "stream",
     "text": [
      "6\n"
     ]
    }
   ],
   "source": [
    "from numpy import * \n",
    "arr1 = array([\n",
    "               [1,2,3],\n",
    "               [4,5,6]\n",
    "])\n",
    "print(arr1.size)"
   ]
  },
  {
   "cell_type": "code",
   "execution_count": 7,
   "id": "48779acb-6933-4edd-825f-b02e5de6a30e",
   "metadata": {},
   "outputs": [
    {
     "name": "stdout",
     "output_type": "stream",
     "text": [
      "[1 2 3 4 5 6]\n"
     ]
    }
   ],
   "source": [
    "from numpy import * \n",
    "arr1 = array([\n",
    "               [1,2,3],\n",
    "               [4,5,6]\n",
    "])\n",
    "arr2 = arr1.flatten()\n",
    "print(arr2)"
   ]
  },
  {
   "cell_type": "code",
   "execution_count": 10,
   "id": "e9ed4457-6395-42f5-88fe-e0107acb25ac",
   "metadata": {},
   "outputs": [
    {
     "name": "stdout",
     "output_type": "stream",
     "text": [
      "[[1 2 3 6]\n",
      " [2 9 4 5]\n",
      " [6 7 5 3]]\n"
     ]
    }
   ],
   "source": [
    "from numpy import * \n",
    "arr1 = array([\n",
    "               [1,2,3,6,2,9],\n",
    "               [4,5,6,7,5,3]\n",
    "])\n",
    "arr2 = arr1.flatten()\n",
    "arr3 = arr2.reshape(3,4)\n",
    "print(arr3)"
   ]
  },
  {
   "cell_type": "code",
   "execution_count": 11,
   "id": "38ac30f0-a5eb-4c50-9b53-46a305d8f25d",
   "metadata": {},
   "outputs": [
    {
     "name": "stdout",
     "output_type": "stream",
     "text": [
      "[[[1 2 3]\n",
      "  [6 2 9]]\n",
      "\n",
      " [[4 5 6]\n",
      "  [7 5 3]]]\n"
     ]
    }
   ],
   "source": [
    "from numpy import * \n",
    "arr1 = array([\n",
    "               [1,2,3,6,2,9],\n",
    "               [4,5,6,7,5,3]\n",
    "])\n",
    "arr2 = arr1.flatten()\n",
    "arr3 = arr2.reshape(2,2,3)\n",
    "print(arr3)"
   ]
  },
  {
   "cell_type": "code",
   "execution_count": 13,
   "id": "e04d48ae-846a-40ac-8017-f9cb580d988b",
   "metadata": {},
   "outputs": [
    {
     "name": "stdout",
     "output_type": "stream",
     "text": [
      "[[1 2 3 6]\n",
      " [4 5 6 7]]\n"
     ]
    }
   ],
   "source": [
    "from numpy import * \n",
    "arr1 = array([\n",
    "               [1,2,3,6],\n",
    "               [4,5,6,7]\n",
    "])\n",
    "m = matrix(arr1)\n",
    "\n",
    "print(m)"
   ]
  },
  {
   "cell_type": "code",
   "execution_count": 22,
   "id": "4cc4a5a8-3419-4479-95e9-d9bbe72d028d",
   "metadata": {},
   "outputs": [
    {
     "name": "stdout",
     "output_type": "stream",
     "text": [
      "[[1 2 3 6]\n",
      " [4 5 7 7]]\n"
     ]
    }
   ],
   "source": [
    "from numpy import * \n",
    "\n",
    "m = matrix('1 2 3 6 ; 4 5 7 7')\n",
    "\n",
    "print(m)"
   ]
  },
  {
   "cell_type": "code",
   "execution_count": 23,
   "id": "bcb79571-b563-4cf5-a81b-375b5be29513",
   "metadata": {},
   "outputs": [
    {
     "name": "stdout",
     "output_type": "stream",
     "text": [
      "[[1 2]\n",
      " [3 6]\n",
      " [4 5]\n",
      " [7 7]]\n"
     ]
    }
   ],
   "source": [
    "from numpy import * \n",
    "\n",
    "m = matrix('1 2 ; 3 6 ; 4 5 ; 7 7')\n",
    "\n",
    "print(m)"
   ]
  },
  {
   "cell_type": "code",
   "execution_count": 24,
   "id": "c6ddeffc-d7ca-416b-bd6d-e252c7ff50ad",
   "metadata": {},
   "outputs": [
    {
     "name": "stdout",
     "output_type": "stream",
     "text": [
      "[[1 2 3]\n",
      " [6 4 5]\n",
      " [7 7 9]]\n"
     ]
    }
   ],
   "source": [
    "from numpy import * \n",
    "\n",
    "m = matrix('1 2 3 ; 6  4 5 ;  7 7 9')\n",
    "\n",
    "print(m)"
   ]
  },
  {
   "cell_type": "code",
   "execution_count": 25,
   "id": "baa6252c-64c7-4517-87c8-053bf1464b3e",
   "metadata": {},
   "outputs": [
    {
     "name": "stdout",
     "output_type": "stream",
     "text": [
      "[1 4 9]\n"
     ]
    }
   ],
   "source": [
    "from numpy import * \n",
    "\n",
    "m = matrix('1 2 3 ; 6  4 5 ;  7 7 9')\n",
    "\n",
    "print(diagonal(m))"
   ]
  },
  {
   "cell_type": "code",
   "execution_count": 26,
   "id": "40829c6c-7abe-4932-8a40-ad6bbdf02159",
   "metadata": {},
   "outputs": [
    {
     "name": "stdout",
     "output_type": "stream",
     "text": [
      "1\n"
     ]
    }
   ],
   "source": [
    "from numpy import * \n",
    "\n",
    "m = matrix('1 2 3 ; 6  4 5 ;  7 7 9')\n",
    "\n",
    "print(m.min())"
   ]
  },
  {
   "cell_type": "code",
   "execution_count": 27,
   "id": "dd8a4acf-1073-4910-bb17-62a5b19341a1",
   "metadata": {},
   "outputs": [
    {
     "name": "stdout",
     "output_type": "stream",
     "text": [
      "9\n"
     ]
    }
   ],
   "source": [
    "from numpy import * \n",
    "\n",
    "m = matrix('1 2 3 ; 6  4 5 ;  7 7 9')\n",
    "\n",
    "print(m.max())"
   ]
  },
  {
   "cell_type": "code",
   "execution_count": 28,
   "id": "fc08cf06-177c-4072-a6bc-2b34a01afa01",
   "metadata": {},
   "outputs": [
    {
     "name": "stdout",
     "output_type": "stream",
     "text": [
      "[[ 2  4  6]\n",
      " [12  8 10]\n",
      " [14 14 18]]\n"
     ]
    }
   ],
   "source": [
    "from numpy import * \n",
    "\n",
    "m1 = matrix('1 2 3 ; 6  4 5 ;  7 7 9')\n",
    "m2 = matrix('1 2 3 ; 6  4 5 ;  7 7 9')\n",
    "\n",
    "m3 = m1 + m2;\n",
    "\n",
    "print(m3)\n"
   ]
  },
  {
   "cell_type": "code",
   "execution_count": 29,
   "id": "1e80fa1a-8cb4-4666-b24e-67f31c1cc322",
   "metadata": {},
   "outputs": [
    {
     "name": "stdout",
     "output_type": "stream",
     "text": [
      "[[ 34  31  40]\n",
      " [ 65  63  83]\n",
      " [112 105 137]]\n"
     ]
    }
   ],
   "source": [
    "from numpy import * \n",
    "\n",
    "m1 = matrix('1 2 3 ; 6  4 5 ;  7 7 9')\n",
    "m2 = matrix('1 2 3 ; 6  4 5 ;  7 7 9')\n",
    "\n",
    "m3 = m1 * m2;\n",
    "\n",
    "print(m3)\n"
   ]
  },
  {
   "cell_type": "code",
   "execution_count": null,
   "id": "63a324ec-6505-4c6b-ad22-5ab339c85f3b",
   "metadata": {},
   "outputs": [],
   "source": []
  }
 ],
 "metadata": {
  "kernelspec": {
   "display_name": "Python 3 (ipykernel)",
   "language": "python",
   "name": "python3"
  },
  "language_info": {
   "codemirror_mode": {
    "name": "ipython",
    "version": 3
   },
   "file_extension": ".py",
   "mimetype": "text/x-python",
   "name": "python",
   "nbconvert_exporter": "python",
   "pygments_lexer": "ipython3",
   "version": "3.12.7"
  }
 },
 "nbformat": 4,
 "nbformat_minor": 5
}
