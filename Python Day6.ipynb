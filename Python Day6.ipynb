{
 "cells": [
  {
   "cell_type": "markdown",
   "id": "3c4c7006-5afa-49a5-9884-ff1fb17d4108",
   "metadata": {},
   "source": [
    "02/02/2025\n",
    "IMPORT MATH FUNCTIONS"
   ]
  },
  {
   "cell_type": "code",
   "execution_count": 1,
   "id": "38c6535b-79ee-4e76-9f50-c73e5b931791",
   "metadata": {},
   "outputs": [],
   "source": [
    "import math"
   ]
  },
  {
   "cell_type": "code",
   "execution_count": 2,
   "id": "c8b8f278-7c24-4887-bb70-253aeb9fd441",
   "metadata": {},
   "outputs": [],
   "source": [
    "x = math.sqrt(25)"
   ]
  },
  {
   "cell_type": "code",
   "execution_count": 3,
   "id": "f929d94f-729c-4197-b00b-fecba70b62c8",
   "metadata": {},
   "outputs": [
    {
     "data": {
      "text/plain": [
       "5.0"
      ]
     },
     "execution_count": 3,
     "metadata": {},
     "output_type": "execute_result"
    }
   ],
   "source": [
    "x"
   ]
  },
  {
   "cell_type": "code",
   "execution_count": 4,
   "id": "c9054249-6109-4db8-bdca-6c525d61bdb3",
   "metadata": {},
   "outputs": [],
   "source": [
    "x = math.sqrt(50)"
   ]
  },
  {
   "cell_type": "code",
   "execution_count": 5,
   "id": "16370f86-caa5-44e5-9bef-4f34052c8169",
   "metadata": {},
   "outputs": [
    {
     "data": {
      "text/plain": [
       "7.0710678118654755"
      ]
     },
     "execution_count": 5,
     "metadata": {},
     "output_type": "execute_result"
    }
   ],
   "source": [
    "x"
   ]
  },
  {
   "cell_type": "code",
   "execution_count": 6,
   "id": "03fe2e6e-80e0-47e7-9b01-8d5016d1a0c5",
   "metadata": {},
   "outputs": [
    {
     "name": "stdout",
     "output_type": "stream",
     "text": [
      "2\n"
     ]
    }
   ],
   "source": [
    "print(math.floor(2.9))"
   ]
  },
  {
   "cell_type": "code",
   "execution_count": 8,
   "id": "9ca51dd6-a9fa-416a-aa56-2c03a039edbd",
   "metadata": {},
   "outputs": [
    {
     "data": {
      "text/plain": [
       "2"
      ]
     },
     "execution_count": 8,
     "metadata": {},
     "output_type": "execute_result"
    }
   ],
   "source": [
    "math.floor(2.9)"
   ]
  },
  {
   "cell_type": "code",
   "execution_count": 9,
   "id": "098cb5b8-b76c-4193-ba58-8c9614245962",
   "metadata": {},
   "outputs": [
    {
     "name": "stdout",
     "output_type": "stream",
     "text": [
      "5\n"
     ]
    }
   ],
   "source": [
    "print(math.floor(5.6))"
   ]
  },
  {
   "cell_type": "code",
   "execution_count": 10,
   "id": "068de556-237a-4b59-8f95-cfca7e53e7b0",
   "metadata": {},
   "outputs": [
    {
     "name": "stdout",
     "output_type": "stream",
     "text": [
      "6\n"
     ]
    }
   ],
   "source": [
    "print(math.ceil(5.6))"
   ]
  },
  {
   "cell_type": "code",
   "execution_count": 11,
   "id": "5d5514d5-a46a-47ae-a6e4-99243e3cf5de",
   "metadata": {},
   "outputs": [
    {
     "data": {
      "text/plain": [
       "6"
      ]
     },
     "execution_count": 11,
     "metadata": {},
     "output_type": "execute_result"
    }
   ],
   "source": [
    "math.ceil(5.6)"
   ]
  },
  {
   "cell_type": "code",
   "execution_count": 12,
   "id": "b7dc4467-3d12-4731-8967-590280be0351",
   "metadata": {},
   "outputs": [
    {
     "name": "stdout",
     "output_type": "stream",
     "text": [
      "6\n"
     ]
    }
   ],
   "source": [
    "print(math.ceil(5.4))"
   ]
  },
  {
   "cell_type": "code",
   "execution_count": 13,
   "id": "ba02934f-70f1-4310-b0f4-f3808ac645c6",
   "metadata": {},
   "outputs": [
    {
     "data": {
      "text/plain": [
       "6"
      ]
     },
     "execution_count": 13,
     "metadata": {},
     "output_type": "execute_result"
    }
   ],
   "source": [
    "math.ceil(5.6)"
   ]
  },
  {
   "cell_type": "code",
   "execution_count": 14,
   "id": "e844a2aa-0c24-460e-8c54-af43d824ae12",
   "metadata": {},
   "outputs": [
    {
     "data": {
      "text/plain": [
       "9"
      ]
     },
     "execution_count": 14,
     "metadata": {},
     "output_type": "execute_result"
    }
   ],
   "source": [
    "3**2"
   ]
  },
  {
   "cell_type": "code",
   "execution_count": 15,
   "id": "4f87644b-5bc1-4af6-a6bd-2d661af80fb7",
   "metadata": {},
   "outputs": [
    {
     "name": "stdout",
     "output_type": "stream",
     "text": [
      "9.0\n"
     ]
    }
   ],
   "source": [
    "print(math.pow(3,2))"
   ]
  },
  {
   "cell_type": "code",
   "execution_count": 16,
   "id": "c56eab6e-6a03-41aa-86ae-92050b2e3d1f",
   "metadata": {},
   "outputs": [
    {
     "name": "stdout",
     "output_type": "stream",
     "text": [
      "36.0\n"
     ]
    }
   ],
   "source": [
    "print(math.pow(6,2))"
   ]
  },
  {
   "cell_type": "code",
   "execution_count": 17,
   "id": "a2d258b4-a0d6-4b6d-9637-28fc415ec49b",
   "metadata": {},
   "outputs": [
    {
     "name": "stdout",
     "output_type": "stream",
     "text": [
      "3.141592653589793\n"
     ]
    }
   ],
   "source": [
    "print(math.pi)"
   ]
  },
  {
   "cell_type": "code",
   "execution_count": 18,
   "id": "85b69893-c9f4-4cbf-a041-f2fa06c735cf",
   "metadata": {},
   "outputs": [
    {
     "name": "stdout",
     "output_type": "stream",
     "text": [
      "2.718281828459045\n"
     ]
    }
   ],
   "source": [
    "print(math.e)"
   ]
  },
  {
   "cell_type": "code",
   "execution_count": 19,
   "id": "cd475a8c-05a6-4993-adbf-ba5cfe75a547",
   "metadata": {},
   "outputs": [],
   "source": [
    "import math as m"
   ]
  },
  {
   "cell_type": "code",
   "execution_count": 20,
   "id": "085ae4c4-1ac1-43ff-b02b-47199cb74592",
   "metadata": {},
   "outputs": [
    {
     "data": {
      "text/plain": [
       "2.23606797749979"
      ]
     },
     "execution_count": 20,
     "metadata": {},
     "output_type": "execute_result"
    }
   ],
   "source": [
    "m.sqrt(5)"
   ]
  },
  {
   "cell_type": "code",
   "execution_count": 21,
   "id": "2861633a-2641-4eb3-b6b7-5c9ad2af91a2",
   "metadata": {},
   "outputs": [
    {
     "data": {
      "text/plain": [
       "2.23606797749979"
      ]
     },
     "execution_count": 21,
     "metadata": {},
     "output_type": "execute_result"
    }
   ],
   "source": [
    "math.sqrt(5)"
   ]
  },
  {
   "cell_type": "code",
   "execution_count": 22,
   "id": "f95a444e-2319-4bde-a55c-e4ed04a3010a",
   "metadata": {},
   "outputs": [
    {
     "data": {
      "text/plain": [
       "6.0"
      ]
     },
     "execution_count": 22,
     "metadata": {},
     "output_type": "execute_result"
    }
   ],
   "source": [
    "m.sqrt(36)"
   ]
  },
  {
   "cell_type": "code",
   "execution_count": 23,
   "id": "9f2ff475-bd31-4bef-87bd-65441a57b575",
   "metadata": {},
   "outputs": [],
   "source": [
    "from math import sqrt, pow"
   ]
  },
  {
   "cell_type": "code",
   "execution_count": 24,
   "id": "925c219f-ccff-4804-8d2b-5a53556a4730",
   "metadata": {},
   "outputs": [
    {
     "data": {
      "text/plain": [
       "1024.0"
      ]
     },
     "execution_count": 24,
     "metadata": {},
     "output_type": "execute_result"
    }
   ],
   "source": [
    "pow(4,5)"
   ]
  },
  {
   "cell_type": "code",
   "execution_count": 25,
   "id": "ab48cda1-faf8-4a41-8c67-08d6aa01f4c1",
   "metadata": {},
   "outputs": [
    {
     "data": {
      "text/plain": [
       "8.0"
      ]
     },
     "execution_count": 25,
     "metadata": {},
     "output_type": "execute_result"
    }
   ],
   "source": [
    "pow(2,3)"
   ]
  },
  {
   "cell_type": "code",
   "execution_count": 26,
   "id": "8daf4fbf-b232-4ec3-8cbb-f910993ba5f0",
   "metadata": {},
   "outputs": [
    {
     "name": "stdout",
     "output_type": "stream",
     "text": [
      "Help on built-in module math:\n",
      "\n",
      "NAME\n",
      "    math\n",
      "\n",
      "DESCRIPTION\n",
      "    This module provides access to the mathematical functions\n",
      "    defined by the C standard.\n",
      "\n",
      "FUNCTIONS\n",
      "    acos(x, /)\n",
      "        Return the arc cosine (measured in radians) of x.\n",
      "\n",
      "        The result is between 0 and pi.\n",
      "\n",
      "    acosh(x, /)\n",
      "        Return the inverse hyperbolic cosine of x.\n",
      "\n",
      "    asin(x, /)\n",
      "        Return the arc sine (measured in radians) of x.\n",
      "\n",
      "        The result is between -pi/2 and pi/2.\n",
      "\n",
      "    asinh(x, /)\n",
      "        Return the inverse hyperbolic sine of x.\n",
      "\n",
      "    atan(x, /)\n",
      "        Return the arc tangent (measured in radians) of x.\n",
      "\n",
      "        The result is between -pi/2 and pi/2.\n",
      "\n",
      "    atan2(y, x, /)\n",
      "        Return the arc tangent (measured in radians) of y/x.\n",
      "\n",
      "        Unlike atan(y/x), the signs of both x and y are considered.\n",
      "\n",
      "    atanh(x, /)\n",
      "        Return the inverse hyperbolic tangent of x.\n",
      "\n",
      "    cbrt(x, /)\n",
      "        Return the cube root of x.\n",
      "\n",
      "    ceil(x, /)\n",
      "        Return the ceiling of x as an Integral.\n",
      "\n",
      "        This is the smallest integer >= x.\n",
      "\n",
      "    comb(n, k, /)\n",
      "        Number of ways to choose k items from n items without repetition and without order.\n",
      "\n",
      "        Evaluates to n! / (k! * (n - k)!) when k <= n and evaluates\n",
      "        to zero when k > n.\n",
      "\n",
      "        Also called the binomial coefficient because it is equivalent\n",
      "        to the coefficient of k-th term in polynomial expansion of the\n",
      "        expression (1 + x)**n.\n",
      "\n",
      "        Raises TypeError if either of the arguments are not integers.\n",
      "        Raises ValueError if either of the arguments are negative.\n",
      "\n",
      "    copysign(x, y, /)\n",
      "        Return a float with the magnitude (absolute value) of x but the sign of y.\n",
      "\n",
      "        On platforms that support signed zeros, copysign(1.0, -0.0)\n",
      "        returns -1.0.\n",
      "\n",
      "    cos(x, /)\n",
      "        Return the cosine of x (measured in radians).\n",
      "\n",
      "    cosh(x, /)\n",
      "        Return the hyperbolic cosine of x.\n",
      "\n",
      "    degrees(x, /)\n",
      "        Convert angle x from radians to degrees.\n",
      "\n",
      "    dist(p, q, /)\n",
      "        Return the Euclidean distance between two points p and q.\n",
      "\n",
      "        The points should be specified as sequences (or iterables) of\n",
      "        coordinates.  Both inputs must have the same dimension.\n",
      "\n",
      "        Roughly equivalent to:\n",
      "            sqrt(sum((px - qx) ** 2.0 for px, qx in zip(p, q)))\n",
      "\n",
      "    erf(x, /)\n",
      "        Error function at x.\n",
      "\n",
      "    erfc(x, /)\n",
      "        Complementary error function at x.\n",
      "\n",
      "    exp(x, /)\n",
      "        Return e raised to the power of x.\n",
      "\n",
      "    exp2(x, /)\n",
      "        Return 2 raised to the power of x.\n",
      "\n",
      "    expm1(x, /)\n",
      "        Return exp(x)-1.\n",
      "\n",
      "        This function avoids the loss of precision involved in the direct evaluation of exp(x)-1 for small x.\n",
      "\n",
      "    fabs(x, /)\n",
      "        Return the absolute value of the float x.\n",
      "\n",
      "    factorial(n, /)\n",
      "        Find n!.\n",
      "\n",
      "        Raise a ValueError if x is negative or non-integral.\n",
      "\n",
      "    floor(x, /)\n",
      "        Return the floor of x as an Integral.\n",
      "\n",
      "        This is the largest integer <= x.\n",
      "\n",
      "    fmod(x, y, /)\n",
      "        Return fmod(x, y), according to platform C.\n",
      "\n",
      "        x % y may differ.\n",
      "\n",
      "    frexp(x, /)\n",
      "        Return the mantissa and exponent of x, as pair (m, e).\n",
      "\n",
      "        m is a float and e is an int, such that x = m * 2.**e.\n",
      "        If x is 0, m and e are both 0.  Else 0.5 <= abs(m) < 1.0.\n",
      "\n",
      "    fsum(seq, /)\n",
      "        Return an accurate floating-point sum of values in the iterable seq.\n",
      "\n",
      "        Assumes IEEE-754 floating-point arithmetic.\n",
      "\n",
      "    gamma(x, /)\n",
      "        Gamma function at x.\n",
      "\n",
      "    gcd(*integers)\n",
      "        Greatest Common Divisor.\n",
      "\n",
      "    hypot(...)\n",
      "        hypot(*coordinates) -> value\n",
      "\n",
      "        Multidimensional Euclidean distance from the origin to a point.\n",
      "\n",
      "        Roughly equivalent to:\n",
      "            sqrt(sum(x**2 for x in coordinates))\n",
      "\n",
      "        For a two dimensional point (x, y), gives the hypotenuse\n",
      "        using the Pythagorean theorem:  sqrt(x*x + y*y).\n",
      "\n",
      "        For example, the hypotenuse of a 3/4/5 right triangle is:\n",
      "\n",
      "            >>> hypot(3.0, 4.0)\n",
      "            5.0\n",
      "\n",
      "    isclose(a, b, *, rel_tol=1e-09, abs_tol=0.0)\n",
      "        Determine whether two floating-point numbers are close in value.\n",
      "\n",
      "          rel_tol\n",
      "            maximum difference for being considered \"close\", relative to the\n",
      "            magnitude of the input values\n",
      "          abs_tol\n",
      "            maximum difference for being considered \"close\", regardless of the\n",
      "            magnitude of the input values\n",
      "\n",
      "        Return True if a is close in value to b, and False otherwise.\n",
      "\n",
      "        For the values to be considered close, the difference between them\n",
      "        must be smaller than at least one of the tolerances.\n",
      "\n",
      "        -inf, inf and NaN behave similarly to the IEEE 754 Standard.  That\n",
      "        is, NaN is not close to anything, even itself.  inf and -inf are\n",
      "        only close to themselves.\n",
      "\n",
      "    isfinite(x, /)\n",
      "        Return True if x is neither an infinity nor a NaN, and False otherwise.\n",
      "\n",
      "    isinf(x, /)\n",
      "        Return True if x is a positive or negative infinity, and False otherwise.\n",
      "\n",
      "    isnan(x, /)\n",
      "        Return True if x is a NaN (not a number), and False otherwise.\n",
      "\n",
      "    isqrt(n, /)\n",
      "        Return the integer part of the square root of the input.\n",
      "\n",
      "    lcm(*integers)\n",
      "        Least Common Multiple.\n",
      "\n",
      "    ldexp(x, i, /)\n",
      "        Return x * (2**i).\n",
      "\n",
      "        This is essentially the inverse of frexp().\n",
      "\n",
      "    lgamma(x, /)\n",
      "        Natural logarithm of absolute value of Gamma function at x.\n",
      "\n",
      "    log(...)\n",
      "        log(x, [base=math.e])\n",
      "        Return the logarithm of x to the given base.\n",
      "\n",
      "        If the base is not specified, returns the natural logarithm (base e) of x.\n",
      "\n",
      "    log10(x, /)\n",
      "        Return the base 10 logarithm of x.\n",
      "\n",
      "    log1p(x, /)\n",
      "        Return the natural logarithm of 1+x (base e).\n",
      "\n",
      "        The result is computed in a way which is accurate for x near zero.\n",
      "\n",
      "    log2(x, /)\n",
      "        Return the base 2 logarithm of x.\n",
      "\n",
      "    modf(x, /)\n",
      "        Return the fractional and integer parts of x.\n",
      "\n",
      "        Both results carry the sign of x and are floats.\n",
      "\n",
      "    nextafter(x, y, /, *, steps=None)\n",
      "        Return the floating-point value the given number of steps after x towards y.\n",
      "\n",
      "        If steps is not specified or is None, it defaults to 1.\n",
      "\n",
      "        Raises a TypeError, if x or y is not a double, or if steps is not an integer.\n",
      "        Raises ValueError if steps is negative.\n",
      "\n",
      "    perm(n, k=None, /)\n",
      "        Number of ways to choose k items from n items without repetition and with order.\n",
      "\n",
      "        Evaluates to n! / (n - k)! when k <= n and evaluates\n",
      "        to zero when k > n.\n",
      "\n",
      "        If k is not specified or is None, then k defaults to n\n",
      "        and the function returns n!.\n",
      "\n",
      "        Raises TypeError if either of the arguments are not integers.\n",
      "        Raises ValueError if either of the arguments are negative.\n",
      "\n",
      "    pow(x, y, /)\n",
      "        Return x**y (x to the power of y).\n",
      "\n",
      "    prod(iterable, /, *, start=1)\n",
      "        Calculate the product of all the elements in the input iterable.\n",
      "\n",
      "        The default start value for the product is 1.\n",
      "\n",
      "        When the iterable is empty, return the start value.  This function is\n",
      "        intended specifically for use with numeric values and may reject\n",
      "        non-numeric types.\n",
      "\n",
      "    radians(x, /)\n",
      "        Convert angle x from degrees to radians.\n",
      "\n",
      "    remainder(x, y, /)\n",
      "        Difference between x and the closest integer multiple of y.\n",
      "\n",
      "        Return x - n*y where n*y is the closest integer multiple of y.\n",
      "        In the case where x is exactly halfway between two multiples of\n",
      "        y, the nearest even value of n is used. The result is always exact.\n",
      "\n",
      "    sin(x, /)\n",
      "        Return the sine of x (measured in radians).\n",
      "\n",
      "    sinh(x, /)\n",
      "        Return the hyperbolic sine of x.\n",
      "\n",
      "    sqrt(x, /)\n",
      "        Return the square root of x.\n",
      "\n",
      "    sumprod(p, q, /)\n",
      "        Return the sum of products of values from two iterables p and q.\n",
      "\n",
      "        Roughly equivalent to:\n",
      "\n",
      "            sum(itertools.starmap(operator.mul, zip(p, q, strict=True)))\n",
      "\n",
      "        For float and mixed int/float inputs, the intermediate products\n",
      "        and sums are computed with extended precision.\n",
      "\n",
      "    tan(x, /)\n",
      "        Return the tangent of x (measured in radians).\n",
      "\n",
      "    tanh(x, /)\n",
      "        Return the hyperbolic tangent of x.\n",
      "\n",
      "    trunc(x, /)\n",
      "        Truncates the Real x to the nearest Integral toward 0.\n",
      "\n",
      "        Uses the __trunc__ magic method.\n",
      "\n",
      "    ulp(x, /)\n",
      "        Return the value of the least significant bit of the float x.\n",
      "\n",
      "DATA\n",
      "    e = 2.718281828459045\n",
      "    inf = inf\n",
      "    nan = nan\n",
      "    pi = 3.141592653589793\n",
      "    tau = 6.283185307179586\n",
      "\n",
      "FILE\n",
      "    (built-in)\n",
      "\n",
      "\n"
     ]
    }
   ],
   "source": [
    "help('math')"
   ]
  },
  {
   "cell_type": "code",
   "execution_count": 27,
   "id": "fddd4e6b-3d3d-49d2-affc-e26596154645",
   "metadata": {},
   "outputs": [
    {
     "name": "stdout",
     "output_type": "stream",
     "text": [
      "6.283185307179586\n"
     ]
    }
   ],
   "source": [
    "print(math.tau)"
   ]
  },
  {
   "cell_type": "code",
   "execution_count": 28,
   "id": "90027753-2615-4c97-bf8c-0b0752c5d1f9",
   "metadata": {},
   "outputs": [
    {
     "name": "stdout",
     "output_type": "stream",
     "text": [
      "nan\n"
     ]
    }
   ],
   "source": [
    "print(math.nan)"
   ]
  },
  {
   "cell_type": "code",
   "execution_count": 29,
   "id": "bf1665d3-8888-4bbd-bbd9-440e17bbf39a",
   "metadata": {},
   "outputs": [
    {
     "name": "stdout",
     "output_type": "stream",
     "text": [
      "inf\n"
     ]
    }
   ],
   "source": [
    "print(math.inf)"
   ]
  },
  {
   "cell_type": "markdown",
   "id": "f05f2e7a-a5ae-4a3e-9354-65af2ec4b99d",
   "metadata": {},
   "source": [
    "SWAPPING"
   ]
  },
  {
   "cell_type": "code",
   "execution_count": 33,
   "id": "3dd5da89-f2e6-4565-8718-bd45c11d9223",
   "metadata": {},
   "outputs": [],
   "source": [
    "a = 9"
   ]
  },
  {
   "cell_type": "code",
   "execution_count": 34,
   "id": "964d90c4-e907-4509-b6bb-3720de153ddf",
   "metadata": {},
   "outputs": [],
   "source": [
    "b = 7"
   ]
  },
  {
   "cell_type": "code",
   "execution_count": 35,
   "id": "9b04d0ff-6867-4ede-91bc-263974ca7a8d",
   "metadata": {},
   "outputs": [],
   "source": [
    "a,b = b,a"
   ]
  },
  {
   "cell_type": "code",
   "execution_count": 36,
   "id": "e06bbfd5-676b-4a6a-bdb7-86050239411d",
   "metadata": {},
   "outputs": [
    {
     "name": "stdout",
     "output_type": "stream",
     "text": [
      "7\n"
     ]
    }
   ],
   "source": [
    "print(a)"
   ]
  },
  {
   "cell_type": "code",
   "execution_count": 37,
   "id": "eb8a33f5-ecc2-4961-bcae-e1887d37c25c",
   "metadata": {},
   "outputs": [
    {
     "name": "stdout",
     "output_type": "stream",
     "text": [
      "9\n"
     ]
    }
   ],
   "source": [
    "print(b)"
   ]
  },
  {
   "cell_type": "code",
   "execution_count": 38,
   "id": "4644cffc-b5f0-47e6-bc58-64147aa203bb",
   "metadata": {},
   "outputs": [],
   "source": [
    "a = 5"
   ]
  },
  {
   "cell_type": "code",
   "execution_count": 39,
   "id": "29824c3f-17da-45d0-9897-64e2ca063fa2",
   "metadata": {},
   "outputs": [],
   "source": [
    "b = 4"
   ]
  },
  {
   "cell_type": "code",
   "execution_count": 40,
   "id": "c4a1cc88-ba78-4124-be64-36b802df94f0",
   "metadata": {},
   "outputs": [],
   "source": [
    "temp = a"
   ]
  },
  {
   "cell_type": "code",
   "execution_count": 41,
   "id": "8407a211-80be-409c-adaf-8fca04de45f1",
   "metadata": {},
   "outputs": [],
   "source": [
    "a = b"
   ]
  },
  {
   "cell_type": "code",
   "execution_count": 42,
   "id": "441f4ecc-311a-4a79-9f32-64e352629c2e",
   "metadata": {},
   "outputs": [],
   "source": [
    "b = temp"
   ]
  },
  {
   "cell_type": "code",
   "execution_count": 43,
   "id": "a3e19da4-a03a-4617-bc4f-914d14e1abdd",
   "metadata": {},
   "outputs": [
    {
     "name": "stdout",
     "output_type": "stream",
     "text": [
      "4\n"
     ]
    }
   ],
   "source": [
    "print(a)"
   ]
  },
  {
   "cell_type": "code",
   "execution_count": 44,
   "id": "14adaec8-91b3-4d7b-8088-fd7a0e7fef7d",
   "metadata": {},
   "outputs": [
    {
     "name": "stdout",
     "output_type": "stream",
     "text": [
      "5\n"
     ]
    }
   ],
   "source": [
    "print(b)"
   ]
  },
  {
   "cell_type": "code",
   "execution_count": 48,
   "id": "67108529-3998-419d-bcd3-080ba080d6db",
   "metadata": {},
   "outputs": [
    {
     "name": "stdout",
     "output_type": "stream",
     "text": [
      "8\n",
      "2\n"
     ]
    }
   ],
   "source": [
    "a = 2\n",
    "b = 8\n",
    "a = a + b\n",
    "b = a - b\n",
    "a = a - b\n",
    "print(a)\n",
    "print(b)"
   ]
  },
  {
   "cell_type": "code",
   "execution_count": 46,
   "id": "855c295b-115d-4d2d-abe8-d2453185dd2b",
   "metadata": {},
   "outputs": [
    {
     "name": "stdout",
     "output_type": "stream",
     "text": [
      "8\n"
     ]
    }
   ],
   "source": [
    "print(a)"
   ]
  },
  {
   "cell_type": "code",
   "execution_count": 47,
   "id": "f35c135c-c58b-455b-a420-738a0cd0d271",
   "metadata": {},
   "outputs": [
    {
     "name": "stdout",
     "output_type": "stream",
     "text": [
      "2\n"
     ]
    }
   ],
   "source": [
    "print(b)"
   ]
  },
  {
   "cell_type": "code",
   "execution_count": 50,
   "id": "ef2dbdb3-d13a-4ab2-bcfa-183357ab550d",
   "metadata": {},
   "outputs": [
    {
     "name": "stdout",
     "output_type": "stream",
     "text": [
      "6\n",
      "5\n"
     ]
    }
   ],
   "source": [
    "a = 5\n",
    "b = 6\n",
    "a = a + b #11\n",
    "b = a - b #5\n",
    "a = a - b #6\n",
    "print(a)\n",
    "print(b)"
   ]
  },
  {
   "cell_type": "code",
   "execution_count": 51,
   "id": "eba07e47-1781-4fb7-9ecd-70f1684ab0ca",
   "metadata": {},
   "outputs": [
    {
     "name": "stdout",
     "output_type": "stream",
     "text": [
      "6\n",
      "5\n"
     ]
    }
   ],
   "source": [
    "a = 5\n",
    "b = 6\n",
    "a = a ^ b #11\n",
    "b = a ^ b #5\n",
    "a = a ^ b #6\n",
    "print(a)\n",
    "print(b)"
   ]
  },
  {
   "cell_type": "code",
   "execution_count": null,
   "id": "08836b4a-0f6d-4217-bd96-c76833e7a3cd",
   "metadata": {},
   "outputs": [],
   "source": []
  }
 ],
 "metadata": {
  "kernelspec": {
   "display_name": "Python 3 (ipykernel)",
   "language": "python",
   "name": "python3"
  },
  "language_info": {
   "codemirror_mode": {
    "name": "ipython",
    "version": 3
   },
   "file_extension": ".py",
   "mimetype": "text/x-python",
   "name": "python",
   "nbconvert_exporter": "python",
   "pygments_lexer": "ipython3",
   "version": "3.12.7"
  }
 },
 "nbformat": 4,
 "nbformat_minor": 5
}
