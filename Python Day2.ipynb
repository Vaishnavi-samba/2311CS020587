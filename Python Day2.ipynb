{
 "cells": [
  {
   "cell_type": "markdown",
   "id": "a0d60388-e73e-4ff4-aa92-0c8e03042d29",
   "metadata": {},
   "source": [
    "VARIABLES"
   ]
  },
  {
   "cell_type": "code",
   "execution_count": 1,
   "id": "b62996e5-6aa6-415c-8003-92b9e598803e",
   "metadata": {},
   "outputs": [
    {
     "data": {
      "text/plain": [
       "5"
      ]
     },
     "execution_count": 1,
     "metadata": {},
     "output_type": "execute_result"
    }
   ],
   "source": [
    "2 + 3"
   ]
  },
  {
   "cell_type": "code",
   "execution_count": 2,
   "id": "9b4f5c37-6bf8-44f2-98e7-61c5c8e6ae29",
   "metadata": {},
   "outputs": [],
   "source": [
    "x = 3"
   ]
  },
  {
   "cell_type": "code",
   "execution_count": 3,
   "id": "1257e3ad-1306-4e4a-a067-3df32506b8a7",
   "metadata": {},
   "outputs": [
    {
     "data": {
      "text/plain": [
       "3"
      ]
     },
     "execution_count": 3,
     "metadata": {},
     "output_type": "execute_result"
    }
   ],
   "source": [
    "x"
   ]
  },
  {
   "cell_type": "code",
   "execution_count": 4,
   "id": "6504b6c3-169e-47a4-81ae-4eab9f920dae",
   "metadata": {},
   "outputs": [],
   "source": [
    "y = 4"
   ]
  },
  {
   "cell_type": "code",
   "execution_count": 5,
   "id": "0765c296-3c20-4a46-8ca9-3de04ac4b5be",
   "metadata": {},
   "outputs": [
    {
     "data": {
      "text/plain": [
       "4"
      ]
     },
     "execution_count": 5,
     "metadata": {},
     "output_type": "execute_result"
    }
   ],
   "source": [
    "y"
   ]
  },
  {
   "cell_type": "code",
   "execution_count": 6,
   "id": "0501b2b2-8bdb-458f-a86e-8f0e2dbdc4c7",
   "metadata": {},
   "outputs": [
    {
     "data": {
      "text/plain": [
       "7"
      ]
     },
     "execution_count": 6,
     "metadata": {},
     "output_type": "execute_result"
    }
   ],
   "source": [
    "x + y"
   ]
  },
  {
   "cell_type": "code",
   "execution_count": 7,
   "id": "aa956237-891f-4ef9-b024-f7a34a6f5fd9",
   "metadata": {},
   "outputs": [],
   "source": [
    "x = 9"
   ]
  },
  {
   "cell_type": "code",
   "execution_count": 8,
   "id": "17f73f15-b470-4a20-9846-1924c276d314",
   "metadata": {},
   "outputs": [
    {
     "data": {
      "text/plain": [
       "9"
      ]
     },
     "execution_count": 8,
     "metadata": {},
     "output_type": "execute_result"
    }
   ],
   "source": [
    "x"
   ]
  },
  {
   "cell_type": "code",
   "execution_count": 12,
   "id": "a0d11497-084c-43b4-b0c2-3299653c68a3",
   "metadata": {},
   "outputs": [
    {
     "data": {
      "text/plain": [
       "12"
      ]
     },
     "execution_count": 12,
     "metadata": {},
     "output_type": "execute_result"
    }
   ],
   "source": [
    "x + 3"
   ]
  },
  {
   "cell_type": "code",
   "execution_count": 13,
   "id": "f889a317-1b8e-4f89-a1a7-41330cfc18d7",
   "metadata": {},
   "outputs": [
    {
     "data": {
      "text/plain": [
       "15"
      ]
     },
     "execution_count": 13,
     "metadata": {},
     "output_type": "execute_result"
    }
   ],
   "source": [
    "_ + 3"
   ]
  },
  {
   "cell_type": "code",
   "execution_count": 14,
   "id": "a3beaaa1-3a06-4f5c-8dc1-7dd294842d7e",
   "metadata": {},
   "outputs": [
    {
     "data": {
      "text/plain": [
       "19"
      ]
     },
     "execution_count": 14,
     "metadata": {},
     "output_type": "execute_result"
    }
   ],
   "source": [
    "_ + y"
   ]
  },
  {
   "cell_type": "code",
   "execution_count": 15,
   "id": "3a329f65-da9b-4b2c-8fad-a59cba9773af",
   "metadata": {},
   "outputs": [],
   "source": [
    "name = 'youtube'"
   ]
  },
  {
   "cell_type": "code",
   "execution_count": 16,
   "id": "2a6607ca-13dc-4ca3-908a-589636477001",
   "metadata": {},
   "outputs": [
    {
     "data": {
      "text/plain": [
       "'youtube'"
      ]
     },
     "execution_count": 16,
     "metadata": {},
     "output_type": "execute_result"
    }
   ],
   "source": [
    "name"
   ]
  },
  {
   "cell_type": "code",
   "execution_count": 17,
   "id": "43c2dd93-ca67-4a77-a74c-717c303339b2",
   "metadata": {},
   "outputs": [
    {
     "data": {
      "text/plain": [
       "'youtube rocks'"
      ]
     },
     "execution_count": 17,
     "metadata": {},
     "output_type": "execute_result"
    }
   ],
   "source": [
    "name + ' rocks'"
   ]
  },
  {
   "cell_type": "code",
   "execution_count": 18,
   "id": "8b40134a-0785-4207-b785-1cedff3a704f",
   "metadata": {},
   "outputs": [
    {
     "data": {
      "text/plain": [
       "'youtube'"
      ]
     },
     "execution_count": 18,
     "metadata": {},
     "output_type": "execute_result"
    }
   ],
   "source": [
    "name"
   ]
  },
  {
   "cell_type": "code",
   "execution_count": 19,
   "id": "77a0b30f-a054-4673-8c98-fdfbc2cb343d",
   "metadata": {},
   "outputs": [
    {
     "data": {
      "text/plain": [
       "'y'"
      ]
     },
     "execution_count": 19,
     "metadata": {},
     "output_type": "execute_result"
    }
   ],
   "source": [
    "name[0]"
   ]
  },
  {
   "cell_type": "code",
   "execution_count": 20,
   "id": "450cfc0e-59bc-4fd4-96d2-77cf9a6579e3",
   "metadata": {},
   "outputs": [
    {
     "data": {
      "text/plain": [
       "'utube'"
      ]
     },
     "execution_count": 20,
     "metadata": {},
     "output_type": "execute_result"
    }
   ],
   "source": [
    "name[2:]"
   ]
  },
  {
   "cell_type": "code",
   "execution_count": 21,
   "id": "49eabae3-b283-4a6a-a34e-c86906abc6a4",
   "metadata": {},
   "outputs": [
    {
     "data": {
      "text/plain": [
       "'o'"
      ]
     },
     "execution_count": 21,
     "metadata": {},
     "output_type": "execute_result"
    }
   ],
   "source": [
    "name[1:2]"
   ]
  },
  {
   "cell_type": "code",
   "execution_count": 22,
   "id": "aac49e72-9eae-4e30-9f38-2fbddf8047b8",
   "metadata": {},
   "outputs": [
    {
     "data": {
      "text/plain": [
       "'yo'"
      ]
     },
     "execution_count": 22,
     "metadata": {},
     "output_type": "execute_result"
    }
   ],
   "source": [
    "name[:2]"
   ]
  },
  {
   "cell_type": "code",
   "execution_count": 23,
   "id": "7c77c07b-79b4-4729-adbc-6e6c066c731c",
   "metadata": {},
   "outputs": [
    {
     "data": {
      "text/plain": [
       "'t'"
      ]
     },
     "execution_count": 23,
     "metadata": {},
     "output_type": "execute_result"
    }
   ],
   "source": [
    "name[3:4]"
   ]
  },
  {
   "cell_type": "code",
   "execution_count": 24,
   "id": "801dc3cf-d26c-4b0b-b0a2-01b823e9d921",
   "metadata": {},
   "outputs": [
    {
     "data": {
      "text/plain": [
       "'ube'"
      ]
     },
     "execution_count": 24,
     "metadata": {},
     "output_type": "execute_result"
    }
   ],
   "source": [
    "name[4:]"
   ]
  },
  {
   "cell_type": "code",
   "execution_count": 25,
   "id": "6db6583c-e35f-4066-ac24-4a21e19c7a15",
   "metadata": {},
   "outputs": [
    {
     "data": {
      "text/plain": [
       "'ube'"
      ]
     },
     "execution_count": 25,
     "metadata": {},
     "output_type": "execute_result"
    }
   ],
   "source": [
    "name[4:10]"
   ]
  },
  {
   "cell_type": "code",
   "execution_count": 26,
   "id": "6e659934-a33d-4e29-91f6-02bffbbfa41b",
   "metadata": {},
   "outputs": [
    {
     "ename": "NameError",
     "evalue": "name 'my' is not defined",
     "output_type": "error",
     "traceback": [
      "\u001b[1;31m---------------------------------------------------------------------------\u001b[0m",
      "\u001b[1;31mNameError\u001b[0m                                 Traceback (most recent call last)",
      "Cell \u001b[1;32mIn[26], line 1\u001b[0m\n\u001b[1;32m----> 1\u001b[0m my \u001b[38;5;241m+\u001b[39m name[\u001b[38;5;241m0\u001b[39m]\n",
      "\u001b[1;31mNameError\u001b[0m: name 'my' is not defined"
     ]
    }
   ],
   "source": [
    "my + name[0]"
   ]
  },
  {
   "cell_type": "code",
   "execution_count": 27,
   "id": "6a43702d-fc90-4394-8c05-b57491fb0562",
   "metadata": {},
   "outputs": [
    {
     "data": {
      "text/plain": [
       "'mytube'"
      ]
     },
     "execution_count": 27,
     "metadata": {},
     "output_type": "execute_result"
    }
   ],
   "source": [
    "'my' + name[3:]"
   ]
  },
  {
   "cell_type": "code",
   "execution_count": 28,
   "id": "16e43d54-2a66-4035-b61a-fdcd8a60e8be",
   "metadata": {},
   "outputs": [
    {
     "data": {
      "text/plain": [
       "'myyoutube'"
      ]
     },
     "execution_count": 28,
     "metadata": {},
     "output_type": "execute_result"
    }
   ],
   "source": [
    "'my' + name"
   ]
  },
  {
   "cell_type": "code",
   "execution_count": 29,
   "id": "516220d5-ad44-44ca-be3c-56ef2838e682",
   "metadata": {},
   "outputs": [
    {
     "data": {
      "text/plain": [
       "'my youtube'"
      ]
     },
     "execution_count": 29,
     "metadata": {},
     "output_type": "execute_result"
    }
   ],
   "source": [
    "'my ' + name"
   ]
  },
  {
   "cell_type": "markdown",
   "id": "f3833267-20ad-4938-9753-febc88dff0d4",
   "metadata": {},
   "source": [
    "LIST"
   ]
  },
  {
   "cell_type": "code",
   "execution_count": 1,
   "id": "1a8642c0-a5fc-484c-8a27-45b722052a6a",
   "metadata": {},
   "outputs": [],
   "source": [
    "nums = [24,35,56,78,92,54]"
   ]
  },
  {
   "cell_type": "code",
   "execution_count": 2,
   "id": "42d76168-7e4b-47da-97cb-3f80cc868965",
   "metadata": {},
   "outputs": [
    {
     "data": {
      "text/plain": [
       "[24, 35, 56, 78, 92, 54]"
      ]
     },
     "execution_count": 2,
     "metadata": {},
     "output_type": "execute_result"
    }
   ],
   "source": [
    "nums"
   ]
  },
  {
   "cell_type": "code",
   "execution_count": 9,
   "id": "ed254e6d-9c10-47f5-816d-d8e2d0234f87",
   "metadata": {},
   "outputs": [
    {
     "ename": "IndexError",
     "evalue": "list index out of range",
     "output_type": "error",
     "traceback": [
      "\u001b[1;31m---------------------------------------------------------------------------\u001b[0m",
      "\u001b[1;31mIndexError\u001b[0m                                Traceback (most recent call last)",
      "Cell \u001b[1;32mIn[9], line 1\u001b[0m\n\u001b[1;32m----> 1\u001b[0m nums[\u001b[38;5;241m5\u001b[39m]\n",
      "\u001b[1;31mIndexError\u001b[0m: list index out of range"
     ]
    }
   ],
   "source": [
    "nums[5]"
   ]
  },
  {
   "cell_type": "code",
   "execution_count": 10,
   "id": "c9725ec5-0102-47c4-9c1f-5a878ffcd280",
   "metadata": {},
   "outputs": [],
   "source": [
    "nums = [25,12,36,95,14]"
   ]
  },
  {
   "cell_type": "code",
   "execution_count": 11,
   "id": "5405a567-eeaf-47f5-b65e-e3d9d36845d5",
   "metadata": {},
   "outputs": [
    {
     "data": {
      "text/plain": [
       "[25, 12, 36, 95, 14]"
      ]
     },
     "execution_count": 11,
     "metadata": {},
     "output_type": "execute_result"
    }
   ],
   "source": [
    "nums"
   ]
  },
  {
   "cell_type": "code",
   "execution_count": 12,
   "id": "5b63c179-0259-4248-bd60-a0433311562b",
   "metadata": {},
   "outputs": [
    {
     "data": {
      "text/plain": [
       "25"
      ]
     },
     "execution_count": 12,
     "metadata": {},
     "output_type": "execute_result"
    }
   ],
   "source": [
    "nums[0]"
   ]
  },
  {
   "cell_type": "code",
   "execution_count": 14,
   "id": "1c5d8ae3-5671-4b12-9fc6-9ba6a4a61cbb",
   "metadata": {},
   "outputs": [
    {
     "data": {
      "text/plain": [
       "14"
      ]
     },
     "execution_count": 14,
     "metadata": {},
     "output_type": "execute_result"
    }
   ],
   "source": [
    "nums[4]"
   ]
  },
  {
   "cell_type": "code",
   "execution_count": 15,
   "id": "df9b0cdb-d71b-442e-978d-23240d726cb3",
   "metadata": {},
   "outputs": [
    {
     "data": {
      "text/plain": [
       "[36, 95, 14]"
      ]
     },
     "execution_count": 15,
     "metadata": {},
     "output_type": "execute_result"
    }
   ],
   "source": [
    "nums[2:]"
   ]
  },
  {
   "cell_type": "code",
   "execution_count": 16,
   "id": "384eed4a-e3e7-4b9e-93cf-65b39cd79dd4",
   "metadata": {},
   "outputs": [
    {
     "data": {
      "text/plain": [
       "14"
      ]
     },
     "execution_count": 16,
     "metadata": {},
     "output_type": "execute_result"
    }
   ],
   "source": [
    "nums[-1]"
   ]
  },
  {
   "cell_type": "code",
   "execution_count": 17,
   "id": "fe8b151b-be41-4666-b3bf-c933da17fa00",
   "metadata": {},
   "outputs": [
    {
     "data": {
      "text/plain": [
       "36"
      ]
     },
     "execution_count": 17,
     "metadata": {},
     "output_type": "execute_result"
    }
   ],
   "source": [
    "nums[-3]"
   ]
  },
  {
   "cell_type": "code",
   "execution_count": 19,
   "id": "0c20da5d-4887-4999-824e-9b7dc57b5855",
   "metadata": {},
   "outputs": [
    {
     "data": {
      "text/plain": [
       "14"
      ]
     },
     "execution_count": 19,
     "metadata": {},
     "output_type": "execute_result"
    }
   ],
   "source": [
    "nums[-1]"
   ]
  },
  {
   "cell_type": "code",
   "execution_count": 20,
   "id": "75636ec9-f5cf-4fea-87de-be10943697d4",
   "metadata": {},
   "outputs": [
    {
     "ename": "IndexError",
     "evalue": "list index out of range",
     "output_type": "error",
     "traceback": [
      "\u001b[1;31m---------------------------------------------------------------------------\u001b[0m",
      "\u001b[1;31mIndexError\u001b[0m                                Traceback (most recent call last)",
      "Cell \u001b[1;32mIn[20], line 1\u001b[0m\n\u001b[1;32m----> 1\u001b[0m nums[\u001b[38;5;241m-\u001b[39m\u001b[38;5;241m46\u001b[39m]\n",
      "\u001b[1;31mIndexError\u001b[0m: list index out of range"
     ]
    }
   ],
   "source": [
    "nums[-46]"
   ]
  },
  {
   "cell_type": "code",
   "execution_count": 21,
   "id": "47965ac9-17d0-45d0-bbae-242a9fb8b28c",
   "metadata": {},
   "outputs": [
    {
     "data": {
      "text/plain": [
       "12"
      ]
     },
     "execution_count": 21,
     "metadata": {},
     "output_type": "execute_result"
    }
   ],
   "source": [
    "nums[-4]"
   ]
  },
  {
   "cell_type": "code",
   "execution_count": 22,
   "id": "48752d32-f9bb-4c76-8bf6-d6113d4a92c5",
   "metadata": {},
   "outputs": [],
   "source": [
    "names = ['vysh', 'navin', 'chinnu']"
   ]
  },
  {
   "cell_type": "code",
   "execution_count": 23,
   "id": "112c5eeb-c141-4315-ba82-66d8a3ad51c5",
   "metadata": {},
   "outputs": [
    {
     "data": {
      "text/plain": [
       "['vysh', 'navin', 'chinnu']"
      ]
     },
     "execution_count": 23,
     "metadata": {},
     "output_type": "execute_result"
    }
   ],
   "source": [
    "names"
   ]
  },
  {
   "cell_type": "code",
   "execution_count": 24,
   "id": "b45baff0-2485-493d-ada9-a26fc6b8a336",
   "metadata": {},
   "outputs": [
    {
     "data": {
      "text/plain": [
       "'vysh'"
      ]
     },
     "execution_count": 24,
     "metadata": {},
     "output_type": "execute_result"
    }
   ],
   "source": [
    "names[0]"
   ]
  },
  {
   "cell_type": "code",
   "execution_count": 25,
   "id": "da910475-6274-4802-ade9-0f65fe7a0be6",
   "metadata": {},
   "outputs": [
    {
     "data": {
      "text/plain": [
       "'chinnu'"
      ]
     },
     "execution_count": 25,
     "metadata": {},
     "output_type": "execute_result"
    }
   ],
   "source": [
    "names[2]"
   ]
  },
  {
   "cell_type": "code",
   "execution_count": 27,
   "id": "cbade1f9-945a-4eea-9108-e36013a57c2c",
   "metadata": {},
   "outputs": [],
   "source": [
    "values = [ 4.5, 'vysh', 56]"
   ]
  },
  {
   "cell_type": "code",
   "execution_count": 28,
   "id": "7d58e420-d35b-4b7e-9f63-7a3ff1e5d950",
   "metadata": {},
   "outputs": [
    {
     "data": {
      "text/plain": [
       "[4.5, 'vysh', 56]"
      ]
     },
     "execution_count": 28,
     "metadata": {},
     "output_type": "execute_result"
    }
   ],
   "source": [
    "values"
   ]
  },
  {
   "cell_type": "code",
   "execution_count": 32,
   "id": "bb85077f-9e2e-4d2c-a377-2fe550f4be09",
   "metadata": {},
   "outputs": [],
   "source": [
    "mil = [nums , values]"
   ]
  },
  {
   "cell_type": "code",
   "execution_count": 33,
   "id": "b7781ef7-d99f-40b5-ab88-0ab5cd7e2f28",
   "metadata": {},
   "outputs": [
    {
     "data": {
      "text/plain": [
       "[[25, 12, 36, 95, 14], [4.5, 'vysh', 56]]"
      ]
     },
     "execution_count": 33,
     "metadata": {},
     "output_type": "execute_result"
    }
   ],
   "source": [
    "mil"
   ]
  },
  {
   "cell_type": "code",
   "execution_count": 34,
   "id": "586ec890-f018-49b6-9336-f646e10b840c",
   "metadata": {},
   "outputs": [],
   "source": [
    "nums.append(32)"
   ]
  },
  {
   "cell_type": "code",
   "execution_count": 35,
   "id": "14efe473-8127-48cd-bf74-bb9091aa6f33",
   "metadata": {},
   "outputs": [
    {
     "data": {
      "text/plain": [
       "[25, 12, 36, 95, 14, 32]"
      ]
     },
     "execution_count": 35,
     "metadata": {},
     "output_type": "execute_result"
    }
   ],
   "source": [
    "nums"
   ]
  },
  {
   "cell_type": "code",
   "execution_count": 36,
   "id": "c76cb94c-c367-4866-a23f-31dff57aa89f",
   "metadata": {},
   "outputs": [
    {
     "data": {
      "text/plain": [
       "12"
      ]
     },
     "execution_count": 36,
     "metadata": {},
     "output_type": "execute_result"
    }
   ],
   "source": [
    "nums.pop(1)"
   ]
  },
  {
   "cell_type": "code",
   "execution_count": 37,
   "id": "990fd9e3-c7ec-439a-9819-7d1407f9a050",
   "metadata": {},
   "outputs": [
    {
     "data": {
      "text/plain": [
       "[25, 36, 95, 14, 32]"
      ]
     },
     "execution_count": 37,
     "metadata": {},
     "output_type": "execute_result"
    }
   ],
   "source": [
    "nums"
   ]
  },
  {
   "cell_type": "code",
   "execution_count": 39,
   "id": "7b2f0c11-470c-40f3-ade2-4e755e5e71b6",
   "metadata": {},
   "outputs": [],
   "source": [
    "nums.remove(36)"
   ]
  },
  {
   "cell_type": "code",
   "execution_count": 40,
   "id": "c64aecfc-f0e7-4251-8d9e-a9bfe215d26a",
   "metadata": {},
   "outputs": [
    {
     "data": {
      "text/plain": [
       "[25, 95, 14, 32]"
      ]
     },
     "execution_count": 40,
     "metadata": {},
     "output_type": "execute_result"
    }
   ],
   "source": [
    "nums"
   ]
  },
  {
   "cell_type": "code",
   "execution_count": 2,
   "id": "3ec2773d-54b0-4c6c-9527-c51c746ad0c2",
   "metadata": {},
   "outputs": [
    {
     "ename": "NameError",
     "evalue": "name 'nums' is not defined",
     "output_type": "error",
     "traceback": [
      "\u001b[1;31m----------------------------------------------------------------\u001b[0m",
      "\u001b[1;31mNameError\u001b[0m                      Traceback (most recent call last)",
      "Cell \u001b[1;32mIn[2], line 1\u001b[0m\n\u001b[1;32m----> 1\u001b[0m nums\u001b[38;5;241m.\u001b[39minsert(\u001b[38;5;241m2\u001b[39m,\u001b[38;5;241m77\u001b[39m)\n",
      "\u001b[1;31mNameError\u001b[0m: name 'nums' is not defined"
     ]
    }
   ],
   "source": [
    "nums.insert(2,77)"
   ]
  },
  {
   "cell_type": "code",
   "execution_count": 62,
   "id": "6ddc8d6e-6b3c-451e-964b-79cb64654b47",
   "metadata": {},
   "outputs": [
    {
     "data": {
      "text/plain": [
       "[25, 77, 77]"
      ]
     },
     "execution_count": 62,
     "metadata": {},
     "output_type": "execute_result"
    }
   ],
   "source": [
    "nums"
   ]
  },
  {
   "cell_type": "code",
   "execution_count": 63,
   "id": "359f8185-74b6-4fba-bb41-fc20563bd940",
   "metadata": {},
   "outputs": [],
   "source": [
    "nums.extend([56,89])"
   ]
  },
  {
   "cell_type": "code",
   "execution_count": 64,
   "id": "6ff9494e-41be-411f-8b52-3252213a39d8",
   "metadata": {},
   "outputs": [
    {
     "data": {
      "text/plain": [
       "[25, 77, 77, 56, 89]"
      ]
     },
     "execution_count": 64,
     "metadata": {},
     "output_type": "execute_result"
    }
   ],
   "source": [
    "nums"
   ]
  },
  {
   "cell_type": "code",
   "execution_count": 65,
   "id": "d58add8e-2906-4eea-ad01-f95dd4ce0cda",
   "metadata": {},
   "outputs": [
    {
     "data": {
      "text/plain": [
       "25"
      ]
     },
     "execution_count": 65,
     "metadata": {},
     "output_type": "execute_result"
    }
   ],
   "source": [
    "min(nums)"
   ]
  },
  {
   "cell_type": "code",
   "execution_count": 66,
   "id": "9cf94cfe-776a-499e-a4e2-d59dbea9e694",
   "metadata": {},
   "outputs": [
    {
     "data": {
      "text/plain": [
       "89"
      ]
     },
     "execution_count": 66,
     "metadata": {},
     "output_type": "execute_result"
    }
   ],
   "source": [
    "max(nums)"
   ]
  },
  {
   "cell_type": "code",
   "execution_count": 67,
   "id": "393a85fb-5e0e-46bd-9b36-989eb6fb9984",
   "metadata": {},
   "outputs": [
    {
     "data": {
      "text/plain": [
       "324"
      ]
     },
     "execution_count": 67,
     "metadata": {},
     "output_type": "execute_result"
    }
   ],
   "source": [
    "sum(nums)"
   ]
  },
  {
   "cell_type": "code",
   "execution_count": 68,
   "id": "7fb2c27c-15c3-4bf6-89e4-6c2dbb146650",
   "metadata": {},
   "outputs": [
    {
     "data": {
      "text/plain": [
       "<function list.sort(*, key=None, reverse=False)>"
      ]
     },
     "execution_count": 68,
     "metadata": {},
     "output_type": "execute_result"
    }
   ],
   "source": [
    "nums.sort"
   ]
  },
  {
   "cell_type": "markdown",
   "id": "0f5a629e-99a1-4abf-adc7-d891aa320599",
   "metadata": {},
   "source": [
    "TUPLE"
   ]
  },
  {
   "cell_type": "code",
   "execution_count": 69,
   "id": "d1feee7e-8e37-4449-9b7b-2ea691d050f4",
   "metadata": {},
   "outputs": [],
   "source": [
    "tup = (21,36,14,25)"
   ]
  },
  {
   "cell_type": "code",
   "execution_count": 70,
   "id": "62acc2e2-16f1-4106-a5cd-19bdeb1aca42",
   "metadata": {},
   "outputs": [
    {
     "data": {
      "text/plain": [
       "(21, 36, 14, 25)"
      ]
     },
     "execution_count": 70,
     "metadata": {},
     "output_type": "execute_result"
    }
   ],
   "source": [
    "tup"
   ]
  },
  {
   "cell_type": "code",
   "execution_count": 71,
   "id": "071fce80-bddf-4f67-9cf0-132269ef8e46",
   "metadata": {},
   "outputs": [
    {
     "data": {
      "text/plain": [
       "36"
      ]
     },
     "execution_count": 71,
     "metadata": {},
     "output_type": "execute_result"
    }
   ],
   "source": [
    "tup[1]"
   ]
  },
  {
   "cell_type": "code",
   "execution_count": 72,
   "id": "9269692c-6d09-4afc-b77a-c5101967c8f9",
   "metadata": {},
   "outputs": [
    {
     "data": {
      "text/plain": [
       "25"
      ]
     },
     "execution_count": 72,
     "metadata": {},
     "output_type": "execute_result"
    }
   ],
   "source": [
    "tup[3]"
   ]
  },
  {
   "cell_type": "code",
   "execution_count": 73,
   "id": "40dfd075-0027-4eb8-a752-7bcabf47f084",
   "metadata": {},
   "outputs": [],
   "source": [
    "s = {22, 25, 14, 21, 5}"
   ]
  },
  {
   "cell_type": "code",
   "execution_count": 74,
   "id": "926318c1-c604-459b-95c8-0c0d61731082",
   "metadata": {},
   "outputs": [
    {
     "data": {
      "text/plain": [
       "{5, 14, 21, 22, 25}"
      ]
     },
     "execution_count": 74,
     "metadata": {},
     "output_type": "execute_result"
    }
   ],
   "source": [
    "s"
   ]
  },
  {
   "cell_type": "code",
   "execution_count": null,
   "id": "1713f78d-6f1e-4282-ba2f-2c6ae56482a6",
   "metadata": {},
   "outputs": [],
   "source": [
    "s"
   ]
  }
 ],
 "metadata": {
  "kernelspec": {
   "display_name": "Python 3 (ipykernel)",
   "language": "python",
   "name": "python3"
  },
  "language_info": {
   "codemirror_mode": {
    "name": "ipython",
    "version": 3
   },
   "file_extension": ".py",
   "mimetype": "text/x-python",
   "name": "python",
   "nbconvert_exporter": "python",
   "pygments_lexer": "ipython3",
   "version": "3.12.7"
  }
 },
 "nbformat": 4,
 "nbformat_minor": 5
}
