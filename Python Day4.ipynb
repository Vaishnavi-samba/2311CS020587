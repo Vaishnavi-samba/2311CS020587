{
 "cells": [
  {
   "cell_type": "markdown",
   "id": "cf389325-2b3a-4e91-9a3e-c258f5fdb217",
   "metadata": {},
   "source": [
    "MORE ON VARIABLES"
   ]
  },
  {
   "cell_type": "code",
   "execution_count": 1,
   "id": "b5495420-b534-41e5-9738-00f362bba65c",
   "metadata": {},
   "outputs": [],
   "source": [
    "num = 7"
   ]
  },
  {
   "cell_type": "code",
   "execution_count": 2,
   "id": "9634aee5-0417-476d-97d1-5a8d8866254b",
   "metadata": {},
   "outputs": [
    {
     "data": {
      "text/plain": [
       "140733950077560"
      ]
     },
     "execution_count": 2,
     "metadata": {},
     "output_type": "execute_result"
    }
   ],
   "source": [
    "id(num)"
   ]
  },
  {
   "cell_type": "code",
   "execution_count": 3,
   "id": "2f2aed38-99e6-4ac5-a0b9-3bfc5bd6c110",
   "metadata": {},
   "outputs": [],
   "source": [
    "num = 5"
   ]
  },
  {
   "cell_type": "code",
   "execution_count": 4,
   "id": "2d1e80aa-5dbf-4221-9c6e-9aa98c713609",
   "metadata": {},
   "outputs": [
    {
     "data": {
      "text/plain": [
       "140733950077496"
      ]
     },
     "execution_count": 4,
     "metadata": {},
     "output_type": "execute_result"
    }
   ],
   "source": [
    "id(num)"
   ]
  },
  {
   "cell_type": "code",
   "execution_count": 5,
   "id": "b1d59721-12c0-468f-87c9-7484177a2b4a",
   "metadata": {},
   "outputs": [],
   "source": [
    "name = 'vysh'"
   ]
  },
  {
   "cell_type": "code",
   "execution_count": 6,
   "id": "f7253e8a-4302-422e-bc21-16e2ea7ffc38",
   "metadata": {},
   "outputs": [
    {
     "data": {
      "text/plain": [
       "2660091478064"
      ]
     },
     "execution_count": 6,
     "metadata": {},
     "output_type": "execute_result"
    }
   ],
   "source": [
    "id(name)"
   ]
  },
  {
   "cell_type": "code",
   "execution_count": 7,
   "id": "70eb9429-d2b3-4b3a-8746-9e3b5244deff",
   "metadata": {},
   "outputs": [],
   "source": [
    "a = 10"
   ]
  },
  {
   "cell_type": "code",
   "execution_count": 8,
   "id": "c8ab6fc2-233c-4592-be2a-f0752aead2c3",
   "metadata": {},
   "outputs": [],
   "source": [
    "b = a"
   ]
  },
  {
   "cell_type": "code",
   "execution_count": 9,
   "id": "8499b68f-5902-4731-9e0c-b924f1b0c5e9",
   "metadata": {},
   "outputs": [
    {
     "data": {
      "text/plain": [
       "10"
      ]
     },
     "execution_count": 9,
     "metadata": {},
     "output_type": "execute_result"
    }
   ],
   "source": [
    "a"
   ]
  },
  {
   "cell_type": "code",
   "execution_count": 10,
   "id": "0edabafc-f169-48cf-9de1-76c4e89f6809",
   "metadata": {},
   "outputs": [
    {
     "data": {
      "text/plain": [
       "10"
      ]
     },
     "execution_count": 10,
     "metadata": {},
     "output_type": "execute_result"
    }
   ],
   "source": [
    "b"
   ]
  },
  {
   "cell_type": "code",
   "execution_count": 11,
   "id": "82cb4592-a45d-45aa-b48b-3a2587403694",
   "metadata": {},
   "outputs": [
    {
     "data": {
      "text/plain": [
       "140733950077656"
      ]
     },
     "execution_count": 11,
     "metadata": {},
     "output_type": "execute_result"
    }
   ],
   "source": [
    "id(a)"
   ]
  },
  {
   "cell_type": "code",
   "execution_count": 12,
   "id": "d73ef958-f48b-434c-823f-ab8f24f07f73",
   "metadata": {},
   "outputs": [
    {
     "data": {
      "text/plain": [
       "140733950077656"
      ]
     },
     "execution_count": 12,
     "metadata": {},
     "output_type": "execute_result"
    }
   ],
   "source": [
    "id(b)"
   ]
  },
  {
   "cell_type": "code",
   "execution_count": 13,
   "id": "721c71d5-5ee1-44d5-8f48-55dc5376fa48",
   "metadata": {},
   "outputs": [],
   "source": [
    "k = 10"
   ]
  },
  {
   "cell_type": "code",
   "execution_count": 14,
   "id": "0a72799e-4107-4436-85dc-4fecc824b834",
   "metadata": {},
   "outputs": [
    {
     "data": {
      "text/plain": [
       "140733950077656"
      ]
     },
     "execution_count": 14,
     "metadata": {},
     "output_type": "execute_result"
    }
   ],
   "source": [
    "id(10)"
   ]
  },
  {
   "cell_type": "code",
   "execution_count": 15,
   "id": "80c7c59c-1328-4180-bb0b-d7940715f934",
   "metadata": {},
   "outputs": [],
   "source": [
    "a = 9"
   ]
  },
  {
   "cell_type": "code",
   "execution_count": 16,
   "id": "dea64864-96e9-4253-aedb-08c1a2007a9e",
   "metadata": {},
   "outputs": [
    {
     "data": {
      "text/plain": [
       "9"
      ]
     },
     "execution_count": 16,
     "metadata": {},
     "output_type": "execute_result"
    }
   ],
   "source": [
    "a"
   ]
  },
  {
   "cell_type": "code",
   "execution_count": 17,
   "id": "dcb44aec-519f-487a-a293-9f2711837f00",
   "metadata": {},
   "outputs": [
    {
     "data": {
      "text/plain": [
       "140733950077624"
      ]
     },
     "execution_count": 17,
     "metadata": {},
     "output_type": "execute_result"
    }
   ],
   "source": [
    "id(a)"
   ]
  },
  {
   "cell_type": "code",
   "execution_count": 18,
   "id": "51b97b1e-3e01-4f35-874d-bbf249d0d989",
   "metadata": {},
   "outputs": [
    {
     "data": {
      "text/plain": [
       "140733950077656"
      ]
     },
     "execution_count": 18,
     "metadata": {},
     "output_type": "execute_result"
    }
   ],
   "source": [
    "id(b)"
   ]
  },
  {
   "cell_type": "code",
   "execution_count": 19,
   "id": "0234ef14-fe59-4713-bc11-51009cb5a085",
   "metadata": {},
   "outputs": [],
   "source": [
    "k = a"
   ]
  },
  {
   "cell_type": "code",
   "execution_count": 20,
   "id": "4fbe9130-88c0-468e-a0cf-0a1f15a32325",
   "metadata": {},
   "outputs": [
    {
     "data": {
      "text/plain": [
       "140733950077624"
      ]
     },
     "execution_count": 20,
     "metadata": {},
     "output_type": "execute_result"
    }
   ],
   "source": [
    "id(k)"
   ]
  },
  {
   "cell_type": "code",
   "execution_count": 21,
   "id": "c3de0e50-e34b-4486-b8fe-9ac31dc4b5d8",
   "metadata": {},
   "outputs": [],
   "source": [
    "b = 8"
   ]
  },
  {
   "cell_type": "code",
   "execution_count": 22,
   "id": "85b085e5-4426-4e03-a78f-fb6cd0fc24af",
   "metadata": {},
   "outputs": [
    {
     "data": {
      "text/plain": [
       "140733950077592"
      ]
     },
     "execution_count": 22,
     "metadata": {},
     "output_type": "execute_result"
    }
   ],
   "source": [
    "id(b)"
   ]
  },
  {
   "cell_type": "code",
   "execution_count": 23,
   "id": "a1356eda-2d9a-4fb2-85c8-0f489e3111ce",
   "metadata": {},
   "outputs": [],
   "source": [
    "PI = 3.14"
   ]
  },
  {
   "cell_type": "code",
   "execution_count": 24,
   "id": "ce513cd5-9483-41c5-99fa-6e1a48b3c25e",
   "metadata": {},
   "outputs": [
    {
     "data": {
      "text/plain": [
       "3.14"
      ]
     },
     "execution_count": 24,
     "metadata": {},
     "output_type": "execute_result"
    }
   ],
   "source": [
    "PI"
   ]
  },
  {
   "cell_type": "code",
   "execution_count": 25,
   "id": "8027bf3c-88ea-42b7-ad62-2e98daacd62e",
   "metadata": {},
   "outputs": [],
   "source": [
    "PI = 3.15"
   ]
  },
  {
   "cell_type": "code",
   "execution_count": 26,
   "id": "d0cbf6e9-162a-4e70-a219-47b9d02173a4",
   "metadata": {},
   "outputs": [
    {
     "data": {
      "text/plain": [
       "3.15"
      ]
     },
     "execution_count": 26,
     "metadata": {},
     "output_type": "execute_result"
    }
   ],
   "source": [
    "PI "
   ]
  },
  {
   "cell_type": "code",
   "execution_count": 27,
   "id": "5ff8099e-b478-492c-a5cc-68319ce9947d",
   "metadata": {},
   "outputs": [
    {
     "data": {
      "text/plain": [
       "float"
      ]
     },
     "execution_count": 27,
     "metadata": {},
     "output_type": "execute_result"
    }
   ],
   "source": [
    "type(PI)"
   ]
  },
  {
   "cell_type": "markdown",
   "id": "f67622f2-9b17-44b8-847a-f2b3983d88c3",
   "metadata": {},
   "source": [
    "DATA TYPES IN PYTHON"
   ]
  },
  {
   "cell_type": "code",
   "execution_count": 28,
   "id": "53b314ba-8b19-4c2f-9b10-2d4fa403d315",
   "metadata": {},
   "outputs": [],
   "source": [
    "num = 2.5"
   ]
  },
  {
   "cell_type": "code",
   "execution_count": 29,
   "id": "945f1c0b-7e86-42a1-a5cd-9a83aed2aef7",
   "metadata": {},
   "outputs": [
    {
     "data": {
      "text/plain": [
       "float"
      ]
     },
     "execution_count": 29,
     "metadata": {},
     "output_type": "execute_result"
    }
   ],
   "source": [
    "type(num)"
   ]
  },
  {
   "cell_type": "code",
   "execution_count": 30,
   "id": "bb9f164d-7483-43f4-a252-534d5552980c",
   "metadata": {},
   "outputs": [],
   "source": [
    "num = 10"
   ]
  },
  {
   "cell_type": "code",
   "execution_count": 31,
   "id": "29fd5496-2a3c-47f7-aa0b-82c4800eaac3",
   "metadata": {},
   "outputs": [
    {
     "data": {
      "text/plain": [
       "int"
      ]
     },
     "execution_count": 31,
     "metadata": {},
     "output_type": "execute_result"
    }
   ],
   "source": [
    "type(num)"
   ]
  },
  {
   "cell_type": "code",
   "execution_count": 32,
   "id": "561809a7-26c7-4823-a156-119d3bdec20d",
   "metadata": {},
   "outputs": [],
   "source": [
    "num = 'vysh'"
   ]
  },
  {
   "cell_type": "code",
   "execution_count": 33,
   "id": "587be09e-0d8f-48ca-a074-8293389f16d8",
   "metadata": {},
   "outputs": [
    {
     "data": {
      "text/plain": [
       "str"
      ]
     },
     "execution_count": 33,
     "metadata": {},
     "output_type": "execute_result"
    }
   ],
   "source": [
    "type(num)"
   ]
  },
  {
   "cell_type": "code",
   "execution_count": 34,
   "id": "43c4cb90-6b31-409c-a0ca-9d34fb0fbc54",
   "metadata": {},
   "outputs": [],
   "source": [
    "st = 'vysh'"
   ]
  },
  {
   "cell_type": "code",
   "execution_count": 35,
   "id": "60403443-e9c0-41e0-b735-5587d5294275",
   "metadata": {},
   "outputs": [
    {
     "data": {
      "text/plain": [
       "str"
      ]
     },
     "execution_count": 35,
     "metadata": {},
     "output_type": "execute_result"
    }
   ],
   "source": [
    "type(st)"
   ]
  },
  {
   "cell_type": "code",
   "execution_count": 36,
   "id": "3260cb38-fe0c-4049-bdf0-d559ee787d05",
   "metadata": {},
   "outputs": [],
   "source": [
    "num = 7+9j"
   ]
  },
  {
   "cell_type": "code",
   "execution_count": 37,
   "id": "cd4430b3-a9ed-4e46-b36d-2f24e122e8a0",
   "metadata": {},
   "outputs": [
    {
     "data": {
      "text/plain": [
       "complex"
      ]
     },
     "execution_count": 37,
     "metadata": {},
     "output_type": "execute_result"
    }
   ],
   "source": [
    "type(num)"
   ]
  },
  {
   "cell_type": "code",
   "execution_count": 38,
   "id": "068e5e83-fe47-41c1-8922-963a2a06a53c",
   "metadata": {},
   "outputs": [],
   "source": [
    "a = 7.9"
   ]
  },
  {
   "cell_type": "code",
   "execution_count": 39,
   "id": "0708b1c4-6b94-45c8-a317-94c3d4bb08a2",
   "metadata": {},
   "outputs": [],
   "source": [
    "b = int(a)"
   ]
  },
  {
   "cell_type": "code",
   "execution_count": 40,
   "id": "e32aa814-e14a-449f-b843-81850058b9fe",
   "metadata": {},
   "outputs": [
    {
     "data": {
      "text/plain": [
       "int"
      ]
     },
     "execution_count": 40,
     "metadata": {},
     "output_type": "execute_result"
    }
   ],
   "source": [
    "type(b)"
   ]
  },
  {
   "cell_type": "code",
   "execution_count": 41,
   "id": "b03a653c-1bec-4a51-a2e1-87b735c43011",
   "metadata": {},
   "outputs": [
    {
     "data": {
      "text/plain": [
       "float"
      ]
     },
     "execution_count": 41,
     "metadata": {},
     "output_type": "execute_result"
    }
   ],
   "source": [
    "type(a)"
   ]
  },
  {
   "cell_type": "code",
   "execution_count": 42,
   "id": "2155adfc-a515-413d-9680-6747e306dd15",
   "metadata": {},
   "outputs": [],
   "source": [
    "b = 5"
   ]
  },
  {
   "cell_type": "code",
   "execution_count": 43,
   "id": "ac18eab6-9ca6-41f6-bfe0-7fdcb8a8f559",
   "metadata": {},
   "outputs": [],
   "source": [
    "k = float(b)"
   ]
  },
  {
   "cell_type": "code",
   "execution_count": 44,
   "id": "6003b2aa-4238-4226-8695-665db7628519",
   "metadata": {},
   "outputs": [
    {
     "data": {
      "text/plain": [
       "float"
      ]
     },
     "execution_count": 44,
     "metadata": {},
     "output_type": "execute_result"
    }
   ],
   "source": [
    "type(k)"
   ]
  },
  {
   "cell_type": "code",
   "execution_count": 45,
   "id": "8449a958-9990-47a5-ade9-c7fe684fb79a",
   "metadata": {},
   "outputs": [
    {
     "data": {
      "text/plain": [
       "int"
      ]
     },
     "execution_count": 45,
     "metadata": {},
     "output_type": "execute_result"
    }
   ],
   "source": [
    "type(b)"
   ]
  },
  {
   "cell_type": "code",
   "execution_count": 46,
   "id": "d53be2cc-e91c-427e-a126-e2fc4b8c4fb8",
   "metadata": {},
   "outputs": [
    {
     "ename": "TypeError",
     "evalue": "type() takes 1 or 3 arguments",
     "output_type": "error",
     "traceback": [
      "\u001b[1;31m---------------------------------------------------------------------------\u001b[0m",
      "\u001b[1;31mTypeError\u001b[0m                                 Traceback (most recent call last)",
      "Cell \u001b[1;32mIn[46], line 1\u001b[0m\n\u001b[1;32m----> 1\u001b[0m c \u001b[38;5;241m=\u001b[39m \u001b[38;5;28mtype\u001b[39m(b,k)\n",
      "\u001b[1;31mTypeError\u001b[0m: type() takes 1 or 3 arguments"
     ]
    }
   ],
   "source": [
    "c = type(b,k)"
   ]
  },
  {
   "cell_type": "code",
   "execution_count": 47,
   "id": "43dcb4df-2c0a-41f9-a73c-26d1dea68a8f",
   "metadata": {},
   "outputs": [],
   "source": [
    "c = complex(b,k)"
   ]
  },
  {
   "cell_type": "code",
   "execution_count": 48,
   "id": "39e9671b-6f69-4128-8a15-6a26e80450d5",
   "metadata": {},
   "outputs": [
    {
     "data": {
      "text/plain": [
       "(5+5j)"
      ]
     },
     "execution_count": 48,
     "metadata": {},
     "output_type": "execute_result"
    }
   ],
   "source": [
    "c"
   ]
  },
  {
   "cell_type": "code",
   "execution_count": 49,
   "id": "4213cc64-4e0b-459b-8cf5-fdc6d6f4c5ab",
   "metadata": {},
   "outputs": [],
   "source": [
    "k = 9"
   ]
  },
  {
   "cell_type": "code",
   "execution_count": 50,
   "id": "c668b093-986e-4c90-8923-640299582032",
   "metadata": {},
   "outputs": [],
   "source": [
    "c = complex(b,k)"
   ]
  },
  {
   "cell_type": "code",
   "execution_count": 51,
   "id": "6822a8d6-98ee-4096-af5f-d32b7b7e1cae",
   "metadata": {},
   "outputs": [
    {
     "data": {
      "text/plain": [
       "(5+9j)"
      ]
     },
     "execution_count": 51,
     "metadata": {},
     "output_type": "execute_result"
    }
   ],
   "source": [
    "c"
   ]
  },
  {
   "cell_type": "code",
   "execution_count": 54,
   "id": "64095f4e-d394-4089-98ce-86c86ea38de3",
   "metadata": {},
   "outputs": [],
   "source": [
    "a = 7"
   ]
  },
  {
   "cell_type": "code",
   "execution_count": 55,
   "id": "2909d8ea-43e4-44be-9458-d968534d207c",
   "metadata": {},
   "outputs": [],
   "source": [
    "b = 9"
   ]
  },
  {
   "cell_type": "code",
   "execution_count": 56,
   "id": "dceeca18-ff15-40dc-b53c-3cd5e1b93e94",
   "metadata": {},
   "outputs": [
    {
     "data": {
      "text/plain": [
       "True"
      ]
     },
     "execution_count": 56,
     "metadata": {},
     "output_type": "execute_result"
    }
   ],
   "source": [
    "a<b"
   ]
  },
  {
   "cell_type": "code",
   "execution_count": 57,
   "id": "3055b023-903f-43bc-a545-3263cb09f930",
   "metadata": {},
   "outputs": [
    {
     "data": {
      "text/plain": [
       "False"
      ]
     },
     "execution_count": 57,
     "metadata": {},
     "output_type": "execute_result"
    }
   ],
   "source": [
    "a>b"
   ]
  },
  {
   "cell_type": "code",
   "execution_count": 58,
   "id": "5f5c72df-ee88-467f-ae51-85db8dd15b8f",
   "metadata": {},
   "outputs": [],
   "source": [
    "bool = a<b"
   ]
  },
  {
   "cell_type": "code",
   "execution_count": 59,
   "id": "7b16c38a-f099-4733-94f6-dccc2d617b87",
   "metadata": {},
   "outputs": [
    {
     "data": {
      "text/plain": [
       "True"
      ]
     },
     "execution_count": 59,
     "metadata": {},
     "output_type": "execute_result"
    }
   ],
   "source": [
    "bool"
   ]
  },
  {
   "cell_type": "code",
   "execution_count": 60,
   "id": "85e7ad76-e75a-4844-93b4-feacfb673ed1",
   "metadata": {},
   "outputs": [],
   "source": [
    "bool = a>b"
   ]
  },
  {
   "cell_type": "code",
   "execution_count": 61,
   "id": "1694d41f-93a6-49a8-be2d-e36d7a1752a1",
   "metadata": {},
   "outputs": [
    {
     "data": {
      "text/plain": [
       "False"
      ]
     },
     "execution_count": 61,
     "metadata": {},
     "output_type": "execute_result"
    }
   ],
   "source": [
    "bool"
   ]
  },
  {
   "cell_type": "code",
   "execution_count": 62,
   "id": "f1da73b8-b0ac-4106-ad16-4eab262d74e8",
   "metadata": {},
   "outputs": [
    {
     "data": {
      "text/plain": [
       "bool"
      ]
     },
     "execution_count": 62,
     "metadata": {},
     "output_type": "execute_result"
    }
   ],
   "source": [
    "type(bool)"
   ]
  },
  {
   "cell_type": "code",
   "execution_count": 64,
   "id": "08698e4b-335f-4b43-ab56-9ef3c8140ba9",
   "metadata": {},
   "outputs": [
    {
     "data": {
      "text/plain": [
       "1"
      ]
     },
     "execution_count": 64,
     "metadata": {},
     "output_type": "execute_result"
    }
   ],
   "source": [
    "int(True)"
   ]
  },
  {
   "cell_type": "code",
   "execution_count": 65,
   "id": "edc3f06f-3c9b-4c29-bb48-1fead9b6c0e6",
   "metadata": {},
   "outputs": [
    {
     "data": {
      "text/plain": [
       "0"
      ]
     },
     "execution_count": 65,
     "metadata": {},
     "output_type": "execute_result"
    }
   ],
   "source": [
    "int(False)"
   ]
  },
  {
   "cell_type": "code",
   "execution_count": 66,
   "id": "185bc754-8e6a-4805-9e4d-2ca4995fe571",
   "metadata": {},
   "outputs": [],
   "source": [
    "lst = [22,56,78,98,97,46,94]"
   ]
  },
  {
   "cell_type": "code",
   "execution_count": 67,
   "id": "2529bd9a-73b4-4d31-bac1-ceb6bd8446d7",
   "metadata": {},
   "outputs": [
    {
     "data": {
      "text/plain": [
       "list"
      ]
     },
     "execution_count": 67,
     "metadata": {},
     "output_type": "execute_result"
    }
   ],
   "source": [
    "type(lst)"
   ]
  },
  {
   "cell_type": "code",
   "execution_count": 68,
   "id": "563cea1b-7445-4d68-975a-1d022927e867",
   "metadata": {},
   "outputs": [],
   "source": [
    "s = {22,56,78,97,46,94}"
   ]
  },
  {
   "cell_type": "code",
   "execution_count": 69,
   "id": "acfaf7f4-9b0f-4914-9c37-d191eda28a55",
   "metadata": {},
   "outputs": [
    {
     "data": {
      "text/plain": [
       "set"
      ]
     },
     "execution_count": 69,
     "metadata": {},
     "output_type": "execute_result"
    }
   ],
   "source": [
    "type(s)"
   ]
  },
  {
   "cell_type": "code",
   "execution_count": 70,
   "id": "b27e0504-4b13-4030-a87a-16620d16610a",
   "metadata": {},
   "outputs": [],
   "source": [
    "t = (22,56,78,97,46,94)"
   ]
  },
  {
   "cell_type": "code",
   "execution_count": 71,
   "id": "430b1558-9d82-4901-a7e1-ddcbbb9808b5",
   "metadata": {},
   "outputs": [
    {
     "data": {
      "text/plain": [
       "tuple"
      ]
     },
     "execution_count": 71,
     "metadata": {},
     "output_type": "execute_result"
    }
   ],
   "source": [
    "type(t)"
   ]
  },
  {
   "cell_type": "code",
   "execution_count": 72,
   "id": "018dfd9f-e32b-4043-8471-95ad7ec57e11",
   "metadata": {},
   "outputs": [],
   "source": [
    "str = 'vysh'"
   ]
  },
  {
   "cell_type": "code",
   "execution_count": 73,
   "id": "f4898310-989c-480f-bb16-8abdc1cb0446",
   "metadata": {},
   "outputs": [
    {
     "data": {
      "text/plain": [
       "str"
      ]
     },
     "execution_count": 73,
     "metadata": {},
     "output_type": "execute_result"
    }
   ],
   "source": [
    "type(str)"
   ]
  },
  {
   "cell_type": "code",
   "execution_count": 74,
   "id": "0eeda534-4eeb-420b-8fa4-ff51ceed9fac",
   "metadata": {},
   "outputs": [],
   "source": [
    "st = \"vysh\""
   ]
  },
  {
   "cell_type": "code",
   "execution_count": 90,
   "id": "6f810ee5-b6b2-4cc3-afec-9aaf87c95417",
   "metadata": {},
   "outputs": [
    {
     "data": {
      "text/plain": [
       "str"
      ]
     },
     "execution_count": 90,
     "metadata": {},
     "output_type": "execute_result"
    }
   ],
   "source": [
    "type(st)"
   ]
  },
  {
   "cell_type": "code",
   "execution_count": 168,
   "id": "6aa5c615-ac47-481d-a461-cb023220402d",
   "metadata": {},
   "outputs": [
    {
     "ename": "TypeError",
     "evalue": "'int' object is not callable",
     "output_type": "error",
     "traceback": [
      "\u001b[1;31m---------------------------------------------------------------------------\u001b[0m",
      "\u001b[1;31mTypeError\u001b[0m                                 Traceback (most recent call last)",
      "Cell \u001b[1;32mIn[168], line 1\u001b[0m\n\u001b[1;32m----> 1\u001b[0m \u001b[38;5;28mrange\u001b[39m(\u001b[38;5;241m10\u001b[39m)\n",
      "\u001b[1;31mTypeError\u001b[0m: 'int' object is not callable"
     ]
    }
   ],
   "source": [
    "range(10)"
   ]
  },
  {
   "cell_type": "code",
   "execution_count": 92,
   "id": "8d72233a-e9cd-49e2-8e45-d2f61c62dbf0",
   "metadata": {},
   "outputs": [],
   "source": [
    "range = 10"
   ]
  },
  {
   "cell_type": "code",
   "execution_count": 93,
   "id": "7bfb976e-7a82-4ff1-b9f9-5259c7d0bdd1",
   "metadata": {},
   "outputs": [
    {
     "ename": "TypeError",
     "evalue": "'int' object is not callable",
     "output_type": "error",
     "traceback": [
      "\u001b[1;31m---------------------------------------------------------------------------\u001b[0m",
      "\u001b[1;31mTypeError\u001b[0m                                 Traceback (most recent call last)",
      "Cell \u001b[1;32mIn[93], line 1\u001b[0m\n\u001b[1;32m----> 1\u001b[0m \u001b[38;5;28mprint\u001b[39m(\u001b[38;5;28mrange\u001b[39m(\u001b[38;5;241m10\u001b[39m))\n",
      "\u001b[1;31mTypeError\u001b[0m: 'int' object is not callable"
     ]
    }
   ],
   "source": [
    "print(range(10))"
   ]
  },
  {
   "cell_type": "code",
   "execution_count": 99,
   "id": "c05df49b-6cc3-4864-b890-7d0786cebd3d",
   "metadata": {},
   "outputs": [],
   "source": [
    "d = {'vysh':'intelligent','vasavi':'smart','mythili':'doctor','ramya':'shop'}"
   ]
  },
  {
   "cell_type": "code",
   "execution_count": 100,
   "id": "d966ba2e-110e-4512-959d-794b561bede1",
   "metadata": {},
   "outputs": [
    {
     "data": {
      "text/plain": [
       "{'vysh': 'intelligent',\n",
       " 'vasavi': 'smart',\n",
       " 'mythili': 'doctor',\n",
       " 'ramya': 'shop'}"
      ]
     },
     "execution_count": 100,
     "metadata": {},
     "output_type": "execute_result"
    }
   ],
   "source": [
    "d"
   ]
  },
  {
   "cell_type": "code",
   "execution_count": 105,
   "id": "2df778b4-fc02-4921-9858-b126ef02acf8",
   "metadata": {},
   "outputs": [
    {
     "data": {
      "text/plain": [
       "dict_keys(['vysh', 'vasavi', 'mythili', 'ramya'])"
      ]
     },
     "execution_count": 105,
     "metadata": {},
     "output_type": "execute_result"
    }
   ],
   "source": [
    "d.keys()"
   ]
  },
  {
   "cell_type": "code",
   "execution_count": 106,
   "id": "7876ccd8-6ec2-4e6c-85f8-1525ace4dc98",
   "metadata": {},
   "outputs": [
    {
     "data": {
      "text/plain": [
       "dict_values(['intelligent', 'smart', 'doctor', 'shop'])"
      ]
     },
     "execution_count": 106,
     "metadata": {},
     "output_type": "execute_result"
    }
   ],
   "source": [
    "d.values()"
   ]
  },
  {
   "cell_type": "code",
   "execution_count": 107,
   "id": "f683a6b6-0841-40cb-a414-77ff933f13b5",
   "metadata": {},
   "outputs": [
    {
     "data": {
      "text/plain": [
       "'intelligent'"
      ]
     },
     "execution_count": 107,
     "metadata": {},
     "output_type": "execute_result"
    }
   ],
   "source": [
    "d['vysh']"
   ]
  },
  {
   "cell_type": "code",
   "execution_count": 110,
   "id": "67db2b24-5c0c-49ba-9289-0922d77dcb41",
   "metadata": {},
   "outputs": [
    {
     "data": {
      "text/plain": [
       "'intelligent'"
      ]
     },
     "execution_count": 110,
     "metadata": {},
     "output_type": "execute_result"
    }
   ],
   "source": [
    "d.get('vysh')"
   ]
  },
  {
   "cell_type": "markdown",
   "id": "e758a072-75dd-465b-8b0b-21ef55462185",
   "metadata": {},
   "source": [
    "OPERATORS IN PYTHON"
   ]
  },
  {
   "cell_type": "code",
   "execution_count": 114,
   "id": "1a8fb0a3-b096-441a-9694-c9d9eb56ac29",
   "metadata": {},
   "outputs": [],
   "source": [
    "x = 9"
   ]
  },
  {
   "cell_type": "code",
   "execution_count": 115,
   "id": "511510e4-e028-4391-85c9-e3b52e988c06",
   "metadata": {},
   "outputs": [],
   "source": [
    "y = 7"
   ]
  },
  {
   "cell_type": "code",
   "execution_count": 116,
   "id": "45a8dbb8-7993-4074-8192-a75cd3fcbddc",
   "metadata": {},
   "outputs": [
    {
     "data": {
      "text/plain": [
       "16"
      ]
     },
     "execution_count": 116,
     "metadata": {},
     "output_type": "execute_result"
    }
   ],
   "source": [
    "x + y"
   ]
  },
  {
   "cell_type": "code",
   "execution_count": 117,
   "id": "9f8dca8d-ec80-4ccc-b116-dfc65e156995",
   "metadata": {},
   "outputs": [
    {
     "data": {
      "text/plain": [
       "63"
      ]
     },
     "execution_count": 117,
     "metadata": {},
     "output_type": "execute_result"
    }
   ],
   "source": [
    "x*y"
   ]
  },
  {
   "cell_type": "code",
   "execution_count": 118,
   "id": "fec7e38d-328e-457b-8981-1b810ca51a78",
   "metadata": {},
   "outputs": [
    {
     "data": {
      "text/plain": [
       "1.2857142857142858"
      ]
     },
     "execution_count": 118,
     "metadata": {},
     "output_type": "execute_result"
    }
   ],
   "source": [
    "x/y"
   ]
  },
  {
   "cell_type": "code",
   "execution_count": 119,
   "id": "de6a1216-17ee-4e9b-929f-6e95dd75f512",
   "metadata": {},
   "outputs": [
    {
     "data": {
      "text/plain": [
       "2"
      ]
     },
     "execution_count": 119,
     "metadata": {},
     "output_type": "execute_result"
    }
   ],
   "source": [
    "x-y"
   ]
  },
  {
   "cell_type": "code",
   "execution_count": 120,
   "id": "36862148-eb71-4544-ac8a-23fb28b6f606",
   "metadata": {},
   "outputs": [],
   "source": [
    "x +=2"
   ]
  },
  {
   "cell_type": "code",
   "execution_count": 121,
   "id": "32d1506b-fa41-48be-a413-e3df843a20f5",
   "metadata": {},
   "outputs": [
    {
     "data": {
      "text/plain": [
       "11"
      ]
     },
     "execution_count": 121,
     "metadata": {},
     "output_type": "execute_result"
    }
   ],
   "source": [
    "x"
   ]
  },
  {
   "cell_type": "code",
   "execution_count": 122,
   "id": "f67f9769-942e-4cf9-98ee-70a1bfcdd9f7",
   "metadata": {},
   "outputs": [],
   "source": [
    "x = 2"
   ]
  },
  {
   "cell_type": "code",
   "execution_count": 123,
   "id": "6fe1a103-e018-4fe7-9a0f-0f7d9b95108d",
   "metadata": {},
   "outputs": [],
   "source": [
    "y = 4"
   ]
  },
  {
   "cell_type": "code",
   "execution_count": 124,
   "id": "531e99b1-a524-4fa0-963c-73ccedfe1f12",
   "metadata": {},
   "outputs": [],
   "source": [
    "x += 2"
   ]
  },
  {
   "cell_type": "code",
   "execution_count": 125,
   "id": "96f8ba7b-7b51-4d59-9092-e7aee97df455",
   "metadata": {},
   "outputs": [
    {
     "data": {
      "text/plain": [
       "4"
      ]
     },
     "execution_count": 125,
     "metadata": {},
     "output_type": "execute_result"
    }
   ],
   "source": [
    "x"
   ]
  },
  {
   "cell_type": "code",
   "execution_count": 126,
   "id": "9f0982fd-25a9-4b4e-a92f-152081bb415b",
   "metadata": {},
   "outputs": [],
   "source": [
    "x -= 2"
   ]
  },
  {
   "cell_type": "code",
   "execution_count": 127,
   "id": "1c4784e5-d83a-47ef-b3f3-b1551258bd8c",
   "metadata": {},
   "outputs": [
    {
     "data": {
      "text/plain": [
       "2"
      ]
     },
     "execution_count": 127,
     "metadata": {},
     "output_type": "execute_result"
    }
   ],
   "source": [
    "x"
   ]
  },
  {
   "cell_type": "code",
   "execution_count": 128,
   "id": "ef2f36a6-cee4-4ecb-9542-3fbb40d11a8b",
   "metadata": {},
   "outputs": [],
   "source": [
    "x *= 2"
   ]
  },
  {
   "cell_type": "code",
   "execution_count": 129,
   "id": "089e14d0-10de-46b3-a2dc-391c6d96b825",
   "metadata": {},
   "outputs": [
    {
     "data": {
      "text/plain": [
       "4"
      ]
     },
     "execution_count": 129,
     "metadata": {},
     "output_type": "execute_result"
    }
   ],
   "source": [
    "x"
   ]
  },
  {
   "cell_type": "code",
   "execution_count": 130,
   "id": "31197560-a87a-44bf-acce-1e2055476520",
   "metadata": {},
   "outputs": [],
   "source": [
    "y *= 2"
   ]
  },
  {
   "cell_type": "code",
   "execution_count": 131,
   "id": "27f77eed-26d1-4ef0-9b27-f8fd6b4180aa",
   "metadata": {},
   "outputs": [
    {
     "data": {
      "text/plain": [
       "8"
      ]
     },
     "execution_count": 131,
     "metadata": {},
     "output_type": "execute_result"
    }
   ],
   "source": [
    "y"
   ]
  },
  {
   "cell_type": "code",
   "execution_count": 132,
   "id": "a27c2ab5-28b7-4bf7-a71f-03f3fa5de31e",
   "metadata": {},
   "outputs": [],
   "source": [
    "x = 4"
   ]
  },
  {
   "cell_type": "code",
   "execution_count": 133,
   "id": "6bbd400f-d545-4ef6-8607-53ce7c29a147",
   "metadata": {},
   "outputs": [],
   "source": [
    "x *= 3"
   ]
  },
  {
   "cell_type": "code",
   "execution_count": 134,
   "id": "ba07948d-29f6-450c-8ce0-0df5d7ac7250",
   "metadata": {},
   "outputs": [
    {
     "data": {
      "text/plain": [
       "12"
      ]
     },
     "execution_count": 134,
     "metadata": {},
     "output_type": "execute_result"
    }
   ],
   "source": [
    "x"
   ]
  },
  {
   "cell_type": "code",
   "execution_count": 135,
   "id": "f3d05d4f-e793-4404-9741-a862a9580fc0",
   "metadata": {},
   "outputs": [],
   "source": [
    "a,b = 4,6"
   ]
  },
  {
   "cell_type": "code",
   "execution_count": 136,
   "id": "8a50c453-ea68-40ac-9f94-9f5d8e72f56a",
   "metadata": {},
   "outputs": [
    {
     "data": {
      "text/plain": [
       "4"
      ]
     },
     "execution_count": 136,
     "metadata": {},
     "output_type": "execute_result"
    }
   ],
   "source": [
    "a"
   ]
  },
  {
   "cell_type": "code",
   "execution_count": 137,
   "id": "b3a991b8-6a51-4845-ad92-999c9ac6f2f5",
   "metadata": {},
   "outputs": [
    {
     "data": {
      "text/plain": [
       "6"
      ]
     },
     "execution_count": 137,
     "metadata": {},
     "output_type": "execute_result"
    }
   ],
   "source": [
    "b"
   ]
  },
  {
   "cell_type": "code",
   "execution_count": 138,
   "id": "9b1a0089-960d-44a1-bbc5-70ba9dcb0cf4",
   "metadata": {},
   "outputs": [],
   "source": [
    "n = 2"
   ]
  },
  {
   "cell_type": "code",
   "execution_count": 139,
   "id": "62fe4c1b-b499-43f2-a558-388d217d0cdf",
   "metadata": {},
   "outputs": [
    {
     "data": {
      "text/plain": [
       "2"
      ]
     },
     "execution_count": 139,
     "metadata": {},
     "output_type": "execute_result"
    }
   ],
   "source": [
    "n"
   ]
  },
  {
   "cell_type": "code",
   "execution_count": 140,
   "id": "4c1a400d-5ade-4f64-bbfb-482f2a4f3430",
   "metadata": {},
   "outputs": [
    {
     "data": {
      "text/plain": [
       "-2"
      ]
     },
     "execution_count": 140,
     "metadata": {},
     "output_type": "execute_result"
    }
   ],
   "source": [
    "-n"
   ]
  },
  {
   "cell_type": "code",
   "execution_count": 142,
   "id": "0e42f3fe-cc76-48fa-a04c-159e22220c6f",
   "metadata": {},
   "outputs": [
    {
     "data": {
      "text/plain": [
       "True"
      ]
     },
     "execution_count": 142,
     "metadata": {},
     "output_type": "execute_result"
    }
   ],
   "source": [
    "a<b"
   ]
  },
  {
   "cell_type": "code",
   "execution_count": 143,
   "id": "fb17d3dc-848d-40a7-9643-7bce1c68aec5",
   "metadata": {},
   "outputs": [
    {
     "data": {
      "text/plain": [
       "False"
      ]
     },
     "execution_count": 143,
     "metadata": {},
     "output_type": "execute_result"
    }
   ],
   "source": [
    "a>b"
   ]
  },
  {
   "cell_type": "code",
   "execution_count": 144,
   "id": "b4a24191-3ea7-46fa-af83-db9038174ab0",
   "metadata": {},
   "outputs": [
    {
     "data": {
      "text/plain": [
       "False"
      ]
     },
     "execution_count": 144,
     "metadata": {},
     "output_type": "execute_result"
    }
   ],
   "source": [
    "a==b"
   ]
  },
  {
   "cell_type": "code",
   "execution_count": 145,
   "id": "e38adf84-293c-4f7a-af83-fb68abf3e5e9",
   "metadata": {},
   "outputs": [],
   "source": [
    "b = 4"
   ]
  },
  {
   "cell_type": "code",
   "execution_count": 146,
   "id": "253b1e5e-ba7c-4b3c-8d0b-9613b497a2ba",
   "metadata": {},
   "outputs": [
    {
     "data": {
      "text/plain": [
       "True"
      ]
     },
     "execution_count": 146,
     "metadata": {},
     "output_type": "execute_result"
    }
   ],
   "source": [
    "a == b"
   ]
  },
  {
   "cell_type": "code",
   "execution_count": 147,
   "id": "d4608773-d771-4a89-a653-f6837591e57e",
   "metadata": {},
   "outputs": [
    {
     "data": {
      "text/plain": [
       "True"
      ]
     },
     "execution_count": 147,
     "metadata": {},
     "output_type": "execute_result"
    }
   ],
   "source": [
    "a <= b"
   ]
  },
  {
   "cell_type": "code",
   "execution_count": 148,
   "id": "0cb82ec9-1358-4665-beee-f7ce55ae61e2",
   "metadata": {},
   "outputs": [
    {
     "data": {
      "text/plain": [
       "True"
      ]
     },
     "execution_count": 148,
     "metadata": {},
     "output_type": "execute_result"
    }
   ],
   "source": [
    "a>=b"
   ]
  },
  {
   "cell_type": "code",
   "execution_count": 149,
   "id": "ca1a9540-74d2-455b-92ed-69b84d4b0ef3",
   "metadata": {},
   "outputs": [
    {
     "data": {
      "text/plain": [
       "False"
      ]
     },
     "execution_count": 149,
     "metadata": {},
     "output_type": "execute_result"
    }
   ],
   "source": [
    "a!=b"
   ]
  },
  {
   "cell_type": "code",
   "execution_count": 150,
   "id": "9da39d1c-9845-4c5f-a259-5cb43c0ef658",
   "metadata": {},
   "outputs": [
    {
     "data": {
      "text/plain": [
       "False"
      ]
     },
     "execution_count": 150,
     "metadata": {},
     "output_type": "execute_result"
    }
   ],
   "source": [
    "b!=a"
   ]
  },
  {
   "cell_type": "markdown",
   "id": "080e56e5-e34c-4c6f-9cc5-4a3b834a4964",
   "metadata": {},
   "source": [
    "LOGICAL OPERATORS"
   ]
  },
  {
   "cell_type": "markdown",
   "id": "13175ba3-f68c-40e1-a6d9-bde7ee84439b",
   "metadata": {},
   "source": [
    "AND"
   ]
  },
  {
   "cell_type": "markdown",
   "id": "df519ba2-aab3-4b38-bf2c-b0cd9c47bdcc",
   "metadata": {},
   "source": [
    "OR"
   ]
  },
  {
   "cell_type": "markdown",
   "id": "4f1030fe-93f9-4d95-a5c0-f7ac7ea16d70",
   "metadata": {},
   "source": [
    "NOT"
   ]
  },
  {
   "cell_type": "code",
   "execution_count": 153,
   "id": "ef155fea-117b-414b-b686-f701c3c3eb47",
   "metadata": {},
   "outputs": [],
   "source": [
    "a = 5 "
   ]
  },
  {
   "cell_type": "code",
   "execution_count": 154,
   "id": "8343cb0c-1740-4809-9c17-0cd1e5816011",
   "metadata": {},
   "outputs": [],
   "source": [
    "b = 4"
   ]
  },
  {
   "cell_type": "code",
   "execution_count": 156,
   "id": "9218823e-ae7b-4239-b119-78c6bef0351b",
   "metadata": {},
   "outputs": [
    {
     "data": {
      "text/plain": [
       "False"
      ]
     },
     "execution_count": 156,
     "metadata": {},
     "output_type": "execute_result"
    }
   ],
   "source": [
    "a<b and a>b"
   ]
  },
  {
   "cell_type": "code",
   "execution_count": 157,
   "id": "0a20f2a1-0b77-4f04-8288-36021729172e",
   "metadata": {},
   "outputs": [
    {
     "data": {
      "text/plain": [
       "False"
      ]
     },
     "execution_count": 157,
     "metadata": {},
     "output_type": "execute_result"
    }
   ],
   "source": [
    "a<9 and b>8"
   ]
  },
  {
   "cell_type": "code",
   "execution_count": 158,
   "id": "5104e497-b8a6-4a30-ab04-de3e6fff69a7",
   "metadata": {},
   "outputs": [
    {
     "data": {
      "text/plain": [
       "True"
      ]
     },
     "execution_count": 158,
     "metadata": {},
     "output_type": "execute_result"
    }
   ],
   "source": [
    "a<8 and b<8"
   ]
  },
  {
   "cell_type": "code",
   "execution_count": 159,
   "id": "a28ebc0c-ffd7-43c6-81ae-f3a3df34eae5",
   "metadata": {},
   "outputs": [
    {
     "data": {
      "text/plain": [
       "True"
      ]
     },
     "execution_count": 159,
     "metadata": {},
     "output_type": "execute_result"
    }
   ],
   "source": [
    "a<8 and b<8"
   ]
  },
  {
   "cell_type": "code",
   "execution_count": 160,
   "id": "768c0155-a048-4693-a555-4dc63156444d",
   "metadata": {},
   "outputs": [
    {
     "data": {
      "text/plain": [
       "True"
      ]
     },
     "execution_count": 160,
     "metadata": {},
     "output_type": "execute_result"
    }
   ],
   "source": [
    "a<8 or b<8"
   ]
  },
  {
   "cell_type": "code",
   "execution_count": 161,
   "id": "0042b7f5-e8e2-4b26-80c8-102b27123c2e",
   "metadata": {},
   "outputs": [
    {
     "data": {
      "text/plain": [
       "True"
      ]
     },
     "execution_count": 161,
     "metadata": {},
     "output_type": "execute_result"
    }
   ],
   "source": [
    "a<9 or b<3"
   ]
  },
  {
   "cell_type": "code",
   "execution_count": 162,
   "id": "5f4a4003-1b4c-49dc-87b0-b55e41bd1aaf",
   "metadata": {},
   "outputs": [
    {
     "data": {
      "text/plain": [
       "False"
      ]
     },
     "execution_count": 162,
     "metadata": {},
     "output_type": "execute_result"
    }
   ],
   "source": [
    "a<3 or b<3"
   ]
  },
  {
   "cell_type": "code",
   "execution_count": 163,
   "id": "e58b64f8-4c5e-4cb6-a130-e131eaa6d515",
   "metadata": {},
   "outputs": [
    {
     "ename": "NameError",
     "evalue": "name 'true' is not defined",
     "output_type": "error",
     "traceback": [
      "\u001b[1;31m---------------------------------------------------------------------------\u001b[0m",
      "\u001b[1;31mNameError\u001b[0m                                 Traceback (most recent call last)",
      "Cell \u001b[1;32mIn[163], line 1\u001b[0m\n\u001b[1;32m----> 1\u001b[0m x \u001b[38;5;241m=\u001b[39m true\n",
      "\u001b[1;31mNameError\u001b[0m: name 'true' is not defined"
     ]
    }
   ],
   "source": [
    "x = true"
   ]
  },
  {
   "cell_type": "code",
   "execution_count": 164,
   "id": "ad8b9d2c-7a3d-4af7-9353-c521d125cb9e",
   "metadata": {},
   "outputs": [],
   "source": [
    "x = True"
   ]
  },
  {
   "cell_type": "code",
   "execution_count": 165,
   "id": "be20749b-0994-41f2-9f15-6ba1dbca1ff9",
   "metadata": {},
   "outputs": [
    {
     "data": {
      "text/plain": [
       "True"
      ]
     },
     "execution_count": 165,
     "metadata": {},
     "output_type": "execute_result"
    }
   ],
   "source": [
    "x"
   ]
  },
  {
   "cell_type": "code",
   "execution_count": 166,
   "id": "0e35756a-17d8-4d91-9e26-0d66b0b3f913",
   "metadata": {},
   "outputs": [
    {
     "data": {
      "text/plain": [
       "False"
      ]
     },
     "execution_count": 166,
     "metadata": {},
     "output_type": "execute_result"
    }
   ],
   "source": [
    "not x"
   ]
  },
  {
   "cell_type": "code",
   "execution_count": null,
   "id": "27d18668-a8a9-4cbd-a134-1b875cfb4b00",
   "metadata": {},
   "outputs": [],
   "source": []
  }
 ],
 "metadata": {
  "kernelspec": {
   "display_name": "Python 3 (ipykernel)",
   "language": "python",
   "name": "python3"
  },
  "language_info": {
   "codemirror_mode": {
    "name": "ipython",
    "version": 3
   },
   "file_extension": ".py",
   "mimetype": "text/x-python",
   "name": "python",
   "nbconvert_exporter": "python",
   "pygments_lexer": "ipython3",
   "version": "3.12.7"
  }
 },
 "nbformat": 4,
 "nbformat_minor": 5
}
