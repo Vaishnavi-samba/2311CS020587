{
 "cells": [
  {
   "cell_type": "markdown",
   "id": "75439c2e-07b1-46cc-889a-79cc1343d6e6",
   "metadata": {},
   "source": [
    "# Introduction\n"
   ]
  },
  {
   "cell_type": "code",
   "execution_count": 1,
   "id": "7ec4125e-2958-4280-ae72-22f1ece0e560",
   "metadata": {},
   "outputs": [
    {
     "data": {
      "text/plain": [
       "5"
      ]
     },
     "execution_count": 1,
     "metadata": {},
     "output_type": "execute_result"
    }
   ],
   "source": [
    "2 + 3"
   ]
  },
  {
   "cell_type": "code",
   "execution_count": 2,
   "id": "29e7dd80-07cd-47d2-9d5e-191ce5be80f6",
   "metadata": {},
   "outputs": [
    {
     "data": {
      "text/plain": [
       "2"
      ]
     },
     "execution_count": 2,
     "metadata": {},
     "output_type": "execute_result"
    }
   ],
   "source": [
    "9 - 7"
   ]
  },
  {
   "cell_type": "code",
   "execution_count": 3,
   "id": "49e4613b-384f-4bc3-b14e-976a28e8bfcf",
   "metadata": {},
   "outputs": [
    {
     "data": {
      "text/plain": [
       "8"
      ]
     },
     "execution_count": 3,
     "metadata": {},
     "output_type": "execute_result"
    }
   ],
   "source": [
    "4 * 2"
   ]
  },
  {
   "cell_type": "code",
   "execution_count": 4,
   "id": "11c44e0d-13e1-4528-9ead-7890528f9dce",
   "metadata": {},
   "outputs": [
    {
     "data": {
      "text/plain": [
       "16"
      ]
     },
     "execution_count": 4,
     "metadata": {},
     "output_type": "execute_result"
    }
   ],
   "source": [
    "4 ** 2"
   ]
  },
  {
   "cell_type": "code",
   "execution_count": 5,
   "id": "a18d325c-a052-4e30-a298-7a1a007ff4f5",
   "metadata": {},
   "outputs": [
    {
     "data": {
      "text/plain": [
       "2.0"
      ]
     },
     "execution_count": 5,
     "metadata": {},
     "output_type": "execute_result"
    }
   ],
   "source": [
    "4 / 2"
   ]
  },
  {
   "cell_type": "code",
   "execution_count": 6,
   "id": "d45b4f14-618e-4505-8323-69d1ec1c6865",
   "metadata": {},
   "outputs": [
    {
     "data": {
      "text/plain": [
       "2"
      ]
     },
     "execution_count": 6,
     "metadata": {},
     "output_type": "execute_result"
    }
   ],
   "source": [
    "4 // 2"
   ]
  },
  {
   "cell_type": "code",
   "execution_count": 7,
   "id": "9ce84776-24ef-4e44-aa38-909d67631493",
   "metadata": {},
   "outputs": [
    {
     "data": {
      "text/plain": [
       "11"
      ]
     },
     "execution_count": 7,
     "metadata": {},
     "output_type": "execute_result"
    }
   ],
   "source": [
    "2 * 4 + 3"
   ]
  },
  {
   "cell_type": "code",
   "execution_count": 8,
   "id": "3bff521e-fcbd-480c-9a1b-07674f753190",
   "metadata": {},
   "outputs": [
    {
     "data": {
      "text/plain": [
       "11"
      ]
     },
     "execution_count": 8,
     "metadata": {},
     "output_type": "execute_result"
    }
   ],
   "source": [
    "(2 * 4)+3"
   ]
  },
  {
   "cell_type": "code",
   "execution_count": 9,
   "id": "1eb38c8e-26ba-4a87-a0a6-fc210dc7301a",
   "metadata": {},
   "outputs": [
    {
     "data": {
      "text/plain": [
       "14"
      ]
     },
     "execution_count": 9,
     "metadata": {},
     "output_type": "execute_result"
    }
   ],
   "source": [
    "2 + 4 * 3"
   ]
  },
  {
   "cell_type": "code",
   "execution_count": 10,
   "id": "51bd50dc-556c-48ee-a17c-d99a1c54fbc5",
   "metadata": {},
   "outputs": [
    {
     "data": {
      "text/plain": [
       "18"
      ]
     },
     "execution_count": 10,
     "metadata": {},
     "output_type": "execute_result"
    }
   ],
   "source": [
    "(2 + 4) * 3"
   ]
  },
  {
   "cell_type": "code",
   "execution_count": 11,
   "id": "bda10145-c64e-411c-8791-4c9a72a98d0e",
   "metadata": {},
   "outputs": [
    {
     "data": {
      "text/plain": [
       "' vysh'"
      ]
     },
     "execution_count": 11,
     "metadata": {},
     "output_type": "execute_result"
    }
   ],
   "source": [
    "' vysh'"
   ]
  },
  {
   "cell_type": "code",
   "execution_count": 12,
   "id": "2cfea3e7-cdcd-42b6-bb9a-1a8d9b863517",
   "metadata": {},
   "outputs": [
    {
     "name": "stdout",
     "output_type": "stream",
     "text": [
      "vysh\n"
     ]
    }
   ],
   "source": [
    "print('vysh')"
   ]
  },
  {
   "cell_type": "code",
   "execution_count": 13,
   "id": "145bdebf-7924-45d4-8322-a1a6686fcdd4",
   "metadata": {},
   "outputs": [
    {
     "name": "stdout",
     "output_type": "stream",
     "text": [
      "vysh\n"
     ]
    }
   ],
   "source": [
    "print(\"vysh\")"
   ]
  },
  {
   "cell_type": "code",
   "execution_count": 17,
   "id": "b54e6a12-7574-4f6d-82c8-77e7edf3ccf3",
   "metadata": {},
   "outputs": [
    {
     "data": {
      "text/plain": [
       "'vyshvyshvyshvyshvyshvyshvyshvyshvyshvysh'"
      ]
     },
     "execution_count": 17,
     "metadata": {},
     "output_type": "execute_result"
    }
   ],
   "source": [
    "10 * 'vysh'"
   ]
  },
  {
   "cell_type": "code",
   "execution_count": 18,
   "id": "cbcc1a7d-a91e-4c7d-a3bf-dcaba21ae792",
   "metadata": {},
   "outputs": [
    {
     "name": "stdout",
     "output_type": "stream",
     "text": [
      "vysh laptop\n"
     ]
    }
   ],
   "source": [
    "print(\"vysh laptop\")"
   ]
  },
  {
   "cell_type": "code",
   "execution_count": 19,
   "id": "b0d67701-d583-4525-97a0-dbbb8c99c411",
   "metadata": {},
   "outputs": [
    {
     "name": "stdout",
     "output_type": "stream",
     "text": [
      "vysh's laptop\n"
     ]
    }
   ],
   "source": [
    "print(\"vysh's laptop\")"
   ]
  },
  {
   "cell_type": "code",
   "execution_count": 20,
   "id": "9083ce64-7284-4b66-9e92-1d4f94bac230",
   "metadata": {},
   "outputs": [
    {
     "ename": "SyntaxError",
     "evalue": "unterminated string literal (detected at line 1) (1768678694.py, line 1)",
     "output_type": "error",
     "traceback": [
      "\u001b[1;36m  Cell \u001b[1;32mIn[20], line 1\u001b[1;36m\u001b[0m\n\u001b[1;33m    print('vysh's laptop')\u001b[0m\n\u001b[1;37m                        ^\u001b[0m\n\u001b[1;31mSyntaxError\u001b[0m\u001b[1;31m:\u001b[0m unterminated string literal (detected at line 1)\n"
     ]
    }
   ],
   "source": [
    "print('vysh's laptop')\n"
   ]
  },
  {
   "cell_type": "code",
   "execution_count": 21,
   "id": "7dafb702-9ffa-4bdd-bedb-eb2acfab7a5f",
   "metadata": {},
   "outputs": [
    {
     "name": "stdout",
     "output_type": "stream",
     "text": [
      "vysh's laptop\n"
     ]
    }
   ],
   "source": [
    "print(\"vysh's laptop\")"
   ]
  },
  {
   "cell_type": "code",
   "execution_count": 22,
   "id": "f2ad4958-4f29-4fe7-9c05-1b0f8fe2d316",
   "metadata": {},
   "outputs": [
    {
     "name": "stdout",
     "output_type": "stream",
     "text": [
      "c:http/docs/nvysh\n"
     ]
    }
   ],
   "source": [
    "print(\"c:http/docs/nvysh\")"
   ]
  },
  {
   "cell_type": "code",
   "execution_count": 23,
   "id": "22c1e933-f72a-4290-bed8-3cc58786ac08",
   "metadata": {},
   "outputs": [
    {
     "name": "stdout",
     "output_type": "stream",
     "text": [
      "c:http\\docs\u000b",
      "ysh\n"
     ]
    },
    {
     "name": "stderr",
     "output_type": "stream",
     "text": [
      "<>:1: SyntaxWarning: invalid escape sequence '\\d'\n",
      "<>:1: SyntaxWarning: invalid escape sequence '\\d'\n",
      "C:\\Users\\vyshn\\AppData\\Local\\Temp\\ipykernel_22480\\1928380059.py:1: SyntaxWarning: invalid escape sequence '\\d'\n",
      "  print(\"c:http\\docs\\vysh\")\n"
     ]
    }
   ],
   "source": [
    "print(\"c:http\\docs\\vysh\")"
   ]
  },
  {
   "cell_type": "code",
   "execution_count": 2,
   "id": "e9cd5eea-4a6b-4d20-aa3e-b3c63d53884a",
   "metadata": {},
   "outputs": [
    {
     "name": "stdout",
     "output_type": "stream",
     "text": [
      "c:http\\docs\n",
      "vysh\n"
     ]
    },
    {
     "name": "stderr",
     "output_type": "stream",
     "text": [
      "<>:1: SyntaxWarning: invalid escape sequence '\\d'\n",
      "<>:1: SyntaxWarning: invalid escape sequence '\\d'\n",
      "C:\\Users\\vyshn\\AppData\\Local\\Temp\\ipykernel_25164\\1011404753.py:1: SyntaxWarning: invalid escape sequence '\\d'\n",
      "  print(\"c:http\\docs\\nvysh\")\n"
     ]
    }
   ],
   "source": [
    "print(\"c:http\\docs\\nvysh\")"
   ]
  },
  {
   "cell_type": "code",
   "execution_count": 1,
   "id": "86f96078-200b-42a6-9cf5-606fbadcea94",
   "metadata": {},
   "outputs": [
    {
     "name": "stdout",
     "output_type": "stream",
     "text": [
      "c:http\\docs\\vysh\n"
     ]
    }
   ],
   "source": [
    "print(r\"c:http\\docs\\vysh\")"
   ]
  },
  {
   "cell_type": "code",
   "execution_count": null,
   "id": "3d1846e4-523e-420a-86d8-b2fdb20d7274",
   "metadata": {},
   "outputs": [],
   "source": []
  }
 ],
 "metadata": {
  "kernelspec": {
   "display_name": "Python 3 (ipykernel)",
   "language": "python",
   "name": "python3"
  },
  "language_info": {
   "codemirror_mode": {
    "name": "ipython",
    "version": 3
   },
   "file_extension": ".py",
   "mimetype": "text/x-python",
   "name": "python",
   "nbconvert_exporter": "python",
   "pygments_lexer": "ipython3",
   "version": "3.12.7"
  }
 },
 "nbformat": 4,
 "nbformat_minor": 5
}
