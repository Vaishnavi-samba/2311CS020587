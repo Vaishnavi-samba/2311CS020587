{
 "cells": [
  {
   "cell_type": "markdown",
   "id": "2f1a1e52-a49c-491d-8dde-3614608cec91",
   "metadata": {},
   "source": [
    "NUMBER SYSTEM"
   ]
  },
  {
   "cell_type": "code",
   "execution_count": 1,
   "id": "e1f5985d-fbfd-4236-94f2-b7af199d79a5",
   "metadata": {},
   "outputs": [
    {
     "data": {
      "text/plain": [
       "'0b11001'"
      ]
     },
     "execution_count": 1,
     "metadata": {},
     "output_type": "execute_result"
    }
   ],
   "source": [
    "bin(25)"
   ]
  },
  {
   "cell_type": "code",
   "execution_count": 2,
   "id": "f9f82824-fb52-4a21-a3a5-afcb46962f1f",
   "metadata": {},
   "outputs": [
    {
     "data": {
      "text/plain": [
       "41"
      ]
     },
     "execution_count": 2,
     "metadata": {},
     "output_type": "execute_result"
    }
   ],
   "source": [
    "0b101001"
   ]
  },
  {
   "cell_type": "code",
   "execution_count": 3,
   "id": "1dabf222-1b6a-4214-b864-0a91c2ce666f",
   "metadata": {},
   "outputs": [
    {
     "data": {
      "text/plain": [
       "'0b10'"
      ]
     },
     "execution_count": 3,
     "metadata": {},
     "output_type": "execute_result"
    }
   ],
   "source": [
    "bin(2)"
   ]
  },
  {
   "cell_type": "code",
   "execution_count": 4,
   "id": "a990211d-074c-4482-8369-eb367ec5e8b4",
   "metadata": {},
   "outputs": [
    {
     "data": {
      "text/plain": [
       "'0b11'"
      ]
     },
     "execution_count": 4,
     "metadata": {},
     "output_type": "execute_result"
    }
   ],
   "source": [
    "bin(3)"
   ]
  },
  {
   "cell_type": "code",
   "execution_count": 5,
   "id": "5d4204d7-8578-4b46-bad6-2acc67e66162",
   "metadata": {},
   "outputs": [
    {
     "data": {
      "text/plain": [
       "'0b1'"
      ]
     },
     "execution_count": 5,
     "metadata": {},
     "output_type": "execute_result"
    }
   ],
   "source": [
    "bin(1)"
   ]
  },
  {
   "cell_type": "code",
   "execution_count": 6,
   "id": "8cc340b0-cebf-4f4b-809a-00af099333d4",
   "metadata": {},
   "outputs": [
    {
     "data": {
      "text/plain": [
       "'0b100'"
      ]
     },
     "execution_count": 6,
     "metadata": {},
     "output_type": "execute_result"
    }
   ],
   "source": [
    "bin(4)"
   ]
  },
  {
   "cell_type": "code",
   "execution_count": 7,
   "id": "29dd9057-06bc-4425-ae1e-8a75d880f276",
   "metadata": {},
   "outputs": [
    {
     "data": {
      "text/plain": [
       "'0b101'"
      ]
     },
     "execution_count": 7,
     "metadata": {},
     "output_type": "execute_result"
    }
   ],
   "source": [
    "bin(5)"
   ]
  },
  {
   "cell_type": "code",
   "execution_count": 8,
   "id": "85c594dc-e556-497f-8a7b-2bc3d17c95be",
   "metadata": {},
   "outputs": [
    {
     "data": {
      "text/plain": [
       "'0b110'"
      ]
     },
     "execution_count": 8,
     "metadata": {},
     "output_type": "execute_result"
    }
   ],
   "source": [
    "bin(6)"
   ]
  },
  {
   "cell_type": "code",
   "execution_count": 9,
   "id": "0856f73e-fc14-4ca4-af6d-5c13fc839d64",
   "metadata": {},
   "outputs": [
    {
     "data": {
      "text/plain": [
       "'0b111'"
      ]
     },
     "execution_count": 9,
     "metadata": {},
     "output_type": "execute_result"
    }
   ],
   "source": [
    "bin(7)"
   ]
  },
  {
   "cell_type": "code",
   "execution_count": 10,
   "id": "523409e7-1f64-4110-8960-1f8ba9d773ce",
   "metadata": {},
   "outputs": [
    {
     "data": {
      "text/plain": [
       "'0b1000'"
      ]
     },
     "execution_count": 10,
     "metadata": {},
     "output_type": "execute_result"
    }
   ],
   "source": [
    "bin(8)"
   ]
  },
  {
   "cell_type": "code",
   "execution_count": 11,
   "id": "0eb6e67e-3a32-4597-8750-ceac7dffb238",
   "metadata": {},
   "outputs": [
    {
     "data": {
      "text/plain": [
       "'0b1001'"
      ]
     },
     "execution_count": 11,
     "metadata": {},
     "output_type": "execute_result"
    }
   ],
   "source": [
    "bin(9)"
   ]
  },
  {
   "cell_type": "code",
   "execution_count": 12,
   "id": "6990633f-ab18-47a0-b444-2be4401d3bea",
   "metadata": {},
   "outputs": [
    {
     "data": {
      "text/plain": [
       "'0b1010'"
      ]
     },
     "execution_count": 12,
     "metadata": {},
     "output_type": "execute_result"
    }
   ],
   "source": [
    "bin(10)"
   ]
  },
  {
   "cell_type": "code",
   "execution_count": 13,
   "id": "4a45f81b-adc9-4320-8e04-7469debe783c",
   "metadata": {},
   "outputs": [
    {
     "data": {
      "text/plain": [
       "43"
      ]
     },
     "execution_count": 13,
     "metadata": {},
     "output_type": "execute_result"
    }
   ],
   "source": [
    "0b00101011"
   ]
  },
  {
   "cell_type": "code",
   "execution_count": 14,
   "id": "14bc9645-8a06-42f7-929a-733486b5f80d",
   "metadata": {},
   "outputs": [
    {
     "data": {
      "text/plain": [
       "8"
      ]
     },
     "execution_count": 14,
     "metadata": {},
     "output_type": "execute_result"
    }
   ],
   "source": [
    "0b1000"
   ]
  },
  {
   "cell_type": "code",
   "execution_count": 15,
   "id": "18c87bff-88fc-4915-b8cc-ddb873730f2e",
   "metadata": {},
   "outputs": [
    {
     "data": {
      "text/plain": [
       "9"
      ]
     },
     "execution_count": 15,
     "metadata": {},
     "output_type": "execute_result"
    }
   ],
   "source": [
    "0b1001"
   ]
  },
  {
   "cell_type": "code",
   "execution_count": 16,
   "id": "4d973467-600d-4971-8d1d-0cb994b933de",
   "metadata": {},
   "outputs": [
    {
     "data": {
      "text/plain": [
       "'0o31'"
      ]
     },
     "execution_count": 16,
     "metadata": {},
     "output_type": "execute_result"
    }
   ],
   "source": [
    "oct(25)"
   ]
  },
  {
   "cell_type": "code",
   "execution_count": 17,
   "id": "2d9c9c44-a825-4728-8bd3-25a6a1c21f77",
   "metadata": {},
   "outputs": [
    {
     "data": {
      "text/plain": [
       "29"
      ]
     },
     "execution_count": 17,
     "metadata": {},
     "output_type": "execute_result"
    }
   ],
   "source": [
    "0o35"
   ]
  },
  {
   "cell_type": "code",
   "execution_count": 18,
   "id": "c093d45d-765a-47ea-b05b-64f5577e3fff",
   "metadata": {},
   "outputs": [
    {
     "data": {
      "text/plain": [
       "'0o1'"
      ]
     },
     "execution_count": 18,
     "metadata": {},
     "output_type": "execute_result"
    }
   ],
   "source": [
    "oct(1)"
   ]
  },
  {
   "cell_type": "code",
   "execution_count": 19,
   "id": "fa103bd8-acea-48ee-b157-7ccd08f9a49c",
   "metadata": {},
   "outputs": [
    {
     "data": {
      "text/plain": [
       "'0o2'"
      ]
     },
     "execution_count": 19,
     "metadata": {},
     "output_type": "execute_result"
    }
   ],
   "source": [
    "oct(2)"
   ]
  },
  {
   "cell_type": "code",
   "execution_count": 20,
   "id": "a0f4cae1-23fd-4ed9-aa0c-03741b7b33d5",
   "metadata": {},
   "outputs": [
    {
     "data": {
      "text/plain": [
       "'0o3'"
      ]
     },
     "execution_count": 20,
     "metadata": {},
     "output_type": "execute_result"
    }
   ],
   "source": [
    "oct(3)"
   ]
  },
  {
   "cell_type": "code",
   "execution_count": 21,
   "id": "d1c50776-2144-4e74-85b6-57f1aec952aa",
   "metadata": {},
   "outputs": [
    {
     "data": {
      "text/plain": [
       "'0o4'"
      ]
     },
     "execution_count": 21,
     "metadata": {},
     "output_type": "execute_result"
    }
   ],
   "source": [
    "oct(4)"
   ]
  },
  {
   "cell_type": "code",
   "execution_count": 22,
   "id": "5626b5b3-8873-4a9d-8941-fbf9f21e3efc",
   "metadata": {},
   "outputs": [
    {
     "data": {
      "text/plain": [
       "'0o5'"
      ]
     },
     "execution_count": 22,
     "metadata": {},
     "output_type": "execute_result"
    }
   ],
   "source": [
    "oct(5)"
   ]
  },
  {
   "cell_type": "code",
   "execution_count": 23,
   "id": "7fb22f46-f5c1-4fa8-80e3-7d3b237c429c",
   "metadata": {},
   "outputs": [
    {
     "data": {
      "text/plain": [
       "'0o6'"
      ]
     },
     "execution_count": 23,
     "metadata": {},
     "output_type": "execute_result"
    }
   ],
   "source": [
    "oct(6)"
   ]
  },
  {
   "cell_type": "code",
   "execution_count": 24,
   "id": "b64b2a32-55ef-4c8c-877d-81b905d9e3d9",
   "metadata": {},
   "outputs": [
    {
     "data": {
      "text/plain": [
       "'0o7'"
      ]
     },
     "execution_count": 24,
     "metadata": {},
     "output_type": "execute_result"
    }
   ],
   "source": [
    "oct(7)"
   ]
  },
  {
   "cell_type": "code",
   "execution_count": 25,
   "id": "682b27eb-fb05-40bb-9765-bc9e71b8b591",
   "metadata": {},
   "outputs": [
    {
     "data": {
      "text/plain": [
       "'0o10'"
      ]
     },
     "execution_count": 25,
     "metadata": {},
     "output_type": "execute_result"
    }
   ],
   "source": [
    "oct(8)"
   ]
  },
  {
   "cell_type": "code",
   "execution_count": 26,
   "id": "76f9962f-46e5-4b01-97de-61afce637192",
   "metadata": {},
   "outputs": [
    {
     "data": {
      "text/plain": [
       "'0o11'"
      ]
     },
     "execution_count": 26,
     "metadata": {},
     "output_type": "execute_result"
    }
   ],
   "source": [
    "oct(9)"
   ]
  },
  {
   "cell_type": "code",
   "execution_count": 27,
   "id": "440798dd-23f7-4c76-8438-076478fb05d0",
   "metadata": {},
   "outputs": [
    {
     "data": {
      "text/plain": [
       "'0o12'"
      ]
     },
     "execution_count": 27,
     "metadata": {},
     "output_type": "execute_result"
    }
   ],
   "source": [
    "oct(10)"
   ]
  },
  {
   "cell_type": "code",
   "execution_count": 28,
   "id": "119d1065-27c4-4dfb-8505-ae4e28d7cee8",
   "metadata": {},
   "outputs": [
    {
     "data": {
      "text/plain": [
       "'0o13'"
      ]
     },
     "execution_count": 28,
     "metadata": {},
     "output_type": "execute_result"
    }
   ],
   "source": [
    "oct(11)"
   ]
  },
  {
   "cell_type": "code",
   "execution_count": 29,
   "id": "9a1750e2-4483-4c5d-bc40-f511a93add7c",
   "metadata": {},
   "outputs": [
    {
     "data": {
      "text/plain": [
       "'0o14'"
      ]
     },
     "execution_count": 29,
     "metadata": {},
     "output_type": "execute_result"
    }
   ],
   "source": [
    "oct(12)"
   ]
  },
  {
   "cell_type": "code",
   "execution_count": 30,
   "id": "3f20e85d-7306-4073-94d0-8be01191fdc6",
   "metadata": {},
   "outputs": [
    {
     "data": {
      "text/plain": [
       "'0o17'"
      ]
     },
     "execution_count": 30,
     "metadata": {},
     "output_type": "execute_result"
    }
   ],
   "source": [
    "oct(15)"
   ]
  },
  {
   "cell_type": "code",
   "execution_count": 31,
   "id": "3aeefac5-7006-4622-9be8-d8e734f7de31",
   "metadata": {},
   "outputs": [
    {
     "data": {
      "text/plain": [
       "'0o20'"
      ]
     },
     "execution_count": 31,
     "metadata": {},
     "output_type": "execute_result"
    }
   ],
   "source": [
    "oct(16)"
   ]
  },
  {
   "cell_type": "code",
   "execution_count": 32,
   "id": "0bddb60a-a74e-4a2e-a5ea-a9b0b9450792",
   "metadata": {},
   "outputs": [
    {
     "data": {
      "text/plain": [
       "'0o21'"
      ]
     },
     "execution_count": 32,
     "metadata": {},
     "output_type": "execute_result"
    }
   ],
   "source": [
    "oct(17)"
   ]
  },
  {
   "cell_type": "code",
   "execution_count": 33,
   "id": "a7b7e89d-83b7-4064-afad-590b0a1af242",
   "metadata": {},
   "outputs": [
    {
     "data": {
      "text/plain": [
       "46"
      ]
     },
     "execution_count": 33,
     "metadata": {},
     "output_type": "execute_result"
    }
   ],
   "source": [
    "0o56"
   ]
  },
  {
   "cell_type": "code",
   "execution_count": 34,
   "id": "c2363567-1a3f-4188-abaf-4a21fb84602c",
   "metadata": {},
   "outputs": [
    {
     "data": {
      "text/plain": [
       "37"
      ]
     },
     "execution_count": 34,
     "metadata": {},
     "output_type": "execute_result"
    }
   ],
   "source": [
    "0o45"
   ]
  },
  {
   "cell_type": "code",
   "execution_count": 35,
   "id": "a086fc54-9523-4b0d-b6bf-b0313e7f5908",
   "metadata": {},
   "outputs": [
    {
     "data": {
      "text/plain": [
       "'0x1'"
      ]
     },
     "execution_count": 35,
     "metadata": {},
     "output_type": "execute_result"
    }
   ],
   "source": [
    "hex(1)"
   ]
  },
  {
   "cell_type": "code",
   "execution_count": 36,
   "id": "b0f6fd2f-7b13-4742-b920-eeecdef109a5",
   "metadata": {},
   "outputs": [
    {
     "data": {
      "text/plain": [
       "'0x2'"
      ]
     },
     "execution_count": 36,
     "metadata": {},
     "output_type": "execute_result"
    }
   ],
   "source": [
    "hex(2)"
   ]
  },
  {
   "cell_type": "code",
   "execution_count": 37,
   "id": "a6e0c544-69d0-4969-b2f0-67e84bdc2385",
   "metadata": {},
   "outputs": [
    {
     "data": {
      "text/plain": [
       "'0x3'"
      ]
     },
     "execution_count": 37,
     "metadata": {},
     "output_type": "execute_result"
    }
   ],
   "source": [
    "hex(3)"
   ]
  },
  {
   "cell_type": "code",
   "execution_count": 38,
   "id": "e5244696-80f1-4d92-8940-1978e396b469",
   "metadata": {},
   "outputs": [
    {
     "data": {
      "text/plain": [
       "'0x4'"
      ]
     },
     "execution_count": 38,
     "metadata": {},
     "output_type": "execute_result"
    }
   ],
   "source": [
    "hex(4)"
   ]
  },
  {
   "cell_type": "code",
   "execution_count": 39,
   "id": "e74c50cb-ca2c-4310-8311-8ceac32cb156",
   "metadata": {},
   "outputs": [
    {
     "data": {
      "text/plain": [
       "'0x5'"
      ]
     },
     "execution_count": 39,
     "metadata": {},
     "output_type": "execute_result"
    }
   ],
   "source": [
    "hex(5)"
   ]
  },
  {
   "cell_type": "code",
   "execution_count": 40,
   "id": "4b47ef84-3978-41bb-a034-ff500523e243",
   "metadata": {},
   "outputs": [
    {
     "data": {
      "text/plain": [
       "69"
      ]
     },
     "execution_count": 40,
     "metadata": {},
     "output_type": "execute_result"
    }
   ],
   "source": [
    "0x45"
   ]
  },
  {
   "cell_type": "code",
   "execution_count": 41,
   "id": "9701a55e-db71-4491-afe8-1b3b60583642",
   "metadata": {},
   "outputs": [
    {
     "data": {
      "text/plain": [
       "52"
      ]
     },
     "execution_count": 41,
     "metadata": {},
     "output_type": "execute_result"
    }
   ],
   "source": [
    "0x34"
   ]
  },
  {
   "cell_type": "code",
   "execution_count": 45,
   "id": "12b8c581-d887-43dc-8004-f593b39e0ab1",
   "metadata": {},
   "outputs": [
    {
     "data": {
      "text/plain": [
       "'0xa'"
      ]
     },
     "execution_count": 45,
     "metadata": {},
     "output_type": "execute_result"
    }
   ],
   "source": [
    "hex(10)"
   ]
  },
  {
   "cell_type": "code",
   "execution_count": 46,
   "id": "51d0bfea-c53d-409c-b4e9-0057366d283d",
   "metadata": {},
   "outputs": [
    {
     "data": {
      "text/plain": [
       "'0x64'"
      ]
     },
     "execution_count": 46,
     "metadata": {},
     "output_type": "execute_result"
    }
   ],
   "source": [
    "hex(100)"
   ]
  },
  {
   "cell_type": "code",
   "execution_count": 47,
   "id": "3235f417-6031-47b2-878f-b60e9af4dd5d",
   "metadata": {},
   "outputs": [
    {
     "data": {
      "text/plain": [
       "15"
      ]
     },
     "execution_count": 47,
     "metadata": {},
     "output_type": "execute_result"
    }
   ],
   "source": [
    "0xf"
   ]
  },
  {
   "cell_type": "code",
   "execution_count": 49,
   "id": "5c2f931c-86e3-44ba-96a2-fbf767562b62",
   "metadata": {},
   "outputs": [
    {
     "data": {
      "text/plain": [
       "13"
      ]
     },
     "execution_count": 49,
     "metadata": {},
     "output_type": "execute_result"
    }
   ],
   "source": [
    "0xd"
   ]
  },
  {
   "cell_type": "markdown",
   "id": "f975ddbe-562f-4b6a-8ff7-617b5214060f",
   "metadata": {},
   "source": [
    "BITWISE OPERATORS"
   ]
  },
  {
   "cell_type": "code",
   "execution_count": 50,
   "id": "084cbb53-1546-4134-bdba-0cd35e9ed9fc",
   "metadata": {},
   "outputs": [
    {
     "data": {
      "text/plain": [
       "-13"
      ]
     },
     "execution_count": 50,
     "metadata": {},
     "output_type": "execute_result"
    }
   ],
   "source": [
    "~12"
   ]
  },
  {
   "cell_type": "code",
   "execution_count": 51,
   "id": "f4844a2c-567f-4456-bf45-00d8d37a5b80",
   "metadata": {},
   "outputs": [
    {
     "data": {
      "text/plain": [
       "-2"
      ]
     },
     "execution_count": 51,
     "metadata": {},
     "output_type": "execute_result"
    }
   ],
   "source": [
    "~1"
   ]
  },
  {
   "cell_type": "code",
   "execution_count": 52,
   "id": "259938c6-f9ee-423f-bf99-ec952cb4442c",
   "metadata": {},
   "outputs": [
    {
     "data": {
      "text/plain": [
       "-4"
      ]
     },
     "execution_count": 52,
     "metadata": {},
     "output_type": "execute_result"
    }
   ],
   "source": [
    "~3"
   ]
  },
  {
   "cell_type": "markdown",
   "id": "bfeaef14-d765-4177-a180-61dfbf8a0e76",
   "metadata": {},
   "source": [
    "AND OPERATOR"
   ]
  },
  {
   "cell_type": "code",
   "execution_count": 53,
   "id": "cd335af0-fa63-4fc7-a258-36b7b507de97",
   "metadata": {},
   "outputs": [
    {
     "data": {
      "text/plain": [
       "0"
      ]
     },
     "execution_count": 53,
     "metadata": {},
     "output_type": "execute_result"
    }
   ],
   "source": [
    "3&4"
   ]
  },
  {
   "cell_type": "markdown",
   "id": "85abb469-7f48-4d2e-b5ae-e8a7240f5bd6",
   "metadata": {},
   "source": [
    "OR OPERATOR"
   ]
  },
  {
   "cell_type": "code",
   "execution_count": 54,
   "id": "bee3f093-75ad-4b79-9ef6-31d9be0366d9",
   "metadata": {},
   "outputs": [
    {
     "data": {
      "text/plain": [
       "7"
      ]
     },
     "execution_count": 54,
     "metadata": {},
     "output_type": "execute_result"
    }
   ],
   "source": [
    "3|4"
   ]
  },
  {
   "cell_type": "code",
   "execution_count": 55,
   "id": "3b95acba-7f42-4742-913a-a574a906fd95",
   "metadata": {},
   "outputs": [
    {
     "data": {
      "text/plain": [
       "24"
      ]
     },
     "execution_count": 55,
     "metadata": {},
     "output_type": "execute_result"
    }
   ],
   "source": [
    "25&30"
   ]
  },
  {
   "cell_type": "markdown",
   "id": "15eab547-214a-4e7f-a692-c5c44cdd580f",
   "metadata": {},
   "source": [
    "XOR OPERATOR"
   ]
  },
  {
   "cell_type": "code",
   "execution_count": 56,
   "id": "a8b96eb1-cc05-4309-9147-d56109959f6a",
   "metadata": {},
   "outputs": [
    {
     "data": {
      "text/plain": [
       "13"
      ]
     },
     "execution_count": 56,
     "metadata": {},
     "output_type": "execute_result"
    }
   ],
   "source": [
    "12^1"
   ]
  },
  {
   "cell_type": "code",
   "execution_count": 57,
   "id": "e5f48a03-705c-44df-81f4-a4c6dbb436de",
   "metadata": {},
   "outputs": [
    {
     "data": {
      "text/plain": [
       "35"
      ]
     },
     "execution_count": 57,
     "metadata": {},
     "output_type": "execute_result"
    }
   ],
   "source": [
    "14^45"
   ]
  },
  {
   "cell_type": "markdown",
   "id": "7be2ac4e-5ca1-48d6-b6d0-1ff76f7275bd",
   "metadata": {},
   "source": [
    "LEFT SHIFT"
   ]
  },
  {
   "cell_type": "code",
   "execution_count": 58,
   "id": "54465383-230a-41f5-a5c5-7a06b9c51c0c",
   "metadata": {},
   "outputs": [
    {
     "data": {
      "text/plain": [
       "720575940379279360"
      ]
     },
     "execution_count": 58,
     "metadata": {},
     "output_type": "execute_result"
    }
   ],
   "source": [
    "10<<56"
   ]
  },
  {
   "cell_type": "code",
   "execution_count": 59,
   "id": "bcb7dcd9-a765-408f-8481-1e5e738e72be",
   "metadata": {},
   "outputs": [
    {
     "data": {
      "text/plain": [
       "80"
      ]
     },
     "execution_count": 59,
     "metadata": {},
     "output_type": "execute_result"
    }
   ],
   "source": [
    "10<<3"
   ]
  },
  {
   "cell_type": "markdown",
   "id": "93284ab5-f69a-4e76-9e27-c49221aa9521",
   "metadata": {},
   "source": [
    "RIGHT SHIFT"
   ]
  },
  {
   "cell_type": "code",
   "execution_count": 60,
   "id": "03d50b7f-95e8-4cc1-a3a2-6682617d1461",
   "metadata": {},
   "outputs": [
    {
     "data": {
      "text/plain": [
       "1"
      ]
     },
     "execution_count": 60,
     "metadata": {},
     "output_type": "execute_result"
    }
   ],
   "source": [
    "10>>3"
   ]
  },
  {
   "cell_type": "code",
   "execution_count": null,
   "id": "3bcf2036-6d8a-4b0e-8bcf-0bb87516058a",
   "metadata": {},
   "outputs": [],
   "source": []
  }
 ],
 "metadata": {
  "kernelspec": {
   "display_name": "Python 3 (ipykernel)",
   "language": "python",
   "name": "python3"
  },
  "language_info": {
   "codemirror_mode": {
    "name": "ipython",
    "version": 3
   },
   "file_extension": ".py",
   "mimetype": "text/x-python",
   "name": "python",
   "nbconvert_exporter": "python",
   "pygments_lexer": "ipython3",
   "version": "3.12.7"
  }
 },
 "nbformat": 4,
 "nbformat_minor": 5
}
