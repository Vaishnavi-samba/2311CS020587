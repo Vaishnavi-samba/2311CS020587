{
 "cells": [
  {
   "cell_type": "markdown",
   "id": "e83f2718-6d2a-4d2d-809e-b094f5161617",
   "metadata": {},
   "source": [
    "__init__ method"
   ]
  },
  {
   "cell_type": "code",
   "execution_count": 2,
   "id": "583e203e-97b6-4548-aedc-0f9b0cb2a37e",
   "metadata": {},
   "outputs": [
    {
     "name": "stdout",
     "output_type": "stream",
     "text": [
      "in init\n",
      "in init\n",
      "i5, 16gb, 1TB\n",
      "i5, 16gb, 1TB\n"
     ]
    }
   ],
   "source": [
    "class Computer:\n",
    "\n",
    "    def __init__(self):\n",
    "        print(\"in init\")\n",
    "        \n",
    "    def config(self):\n",
    "        print(\"i5, 16gb, 1TB\")\n",
    "\n",
    "com1 = Computer()\n",
    "com2 = Computer()\n",
    "\n",
    "Computer.config(com1)\n",
    "Computer.config(com2)"
   ]
  },
  {
   "cell_type": "code",
   "execution_count": 5,
   "id": "ae16755e-b0fc-42f8-aee3-6c79348643e1",
   "metadata": {},
   "outputs": [
    {
     "name": "stdout",
     "output_type": "stream",
     "text": [
      "config is  i5 16\n",
      "config is  Ryzen 5 8\n"
     ]
    }
   ],
   "source": [
    "class Computer:\n",
    "\n",
    "    def __init__(self,cpu,ram):\n",
    "       self.cpu = cpu\n",
    "       self.ram = ram\n",
    "        \n",
    "    def config(self):\n",
    "        print(\"config is \", self.cpu, self.ram)\n",
    "\n",
    "com1 = Computer('i5',16)\n",
    "com2 = Computer('Ryzen 5',8)\n",
    "\n",
    "Computer.config(com1)\n",
    "Computer.config(com2)"
   ]
  },
  {
   "cell_type": "code",
   "execution_count": null,
   "id": "80c81061-5d2e-46e6-9ed5-1c0b2c9d1713",
   "metadata": {},
   "outputs": [],
   "source": []
  }
 ],
 "metadata": {
  "kernelspec": {
   "display_name": "Python 3 (ipykernel)",
   "language": "python",
   "name": "python3"
  },
  "language_info": {
   "codemirror_mode": {
    "name": "ipython",
    "version": 3
   },
   "file_extension": ".py",
   "mimetype": "text/x-python",
   "name": "python",
   "nbconvert_exporter": "python",
   "pygments_lexer": "ipython3",
   "version": "3.12.7"
  }
 },
 "nbformat": 4,
 "nbformat_minor": 5
}
