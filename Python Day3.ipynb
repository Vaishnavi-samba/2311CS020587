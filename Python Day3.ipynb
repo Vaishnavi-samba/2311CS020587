{
 "cells": [
  {
   "cell_type": "markdown",
   "id": "a42626a5-2f96-4fb9-a640-23312bc88529",
   "metadata": {},
   "source": [
    "DICTIONARIES"
   ]
  },
  {
   "cell_type": "code",
   "execution_count": 4,
   "id": "a364143d-896d-46e3-967e-d1ee1da1224e",
   "metadata": {},
   "outputs": [],
   "source": [
    "data = {1:'vysh',2:'pallavi',3:'nikshi',4:'akshaya'}"
   ]
  },
  {
   "cell_type": "code",
   "execution_count": 5,
   "id": "6bdee4d1-0c28-4a29-9d8a-cc14e1f6da77",
   "metadata": {},
   "outputs": [
    {
     "data": {
      "text/plain": [
       "{1: 'vysh', 2: 'pallavi', 3: 'nikshi', 4: 'akshaya'}"
      ]
     },
     "execution_count": 5,
     "metadata": {},
     "output_type": "execute_result"
    }
   ],
   "source": [
    "data"
   ]
  },
  {
   "cell_type": "code",
   "execution_count": 6,
   "id": "4e87378b-d06e-4949-9d41-8e8001201dbf",
   "metadata": {},
   "outputs": [
    {
     "data": {
      "text/plain": [
       "'vysh'"
      ]
     },
     "execution_count": 6,
     "metadata": {},
     "output_type": "execute_result"
    }
   ],
   "source": [
    "data[1]"
   ]
  },
  {
   "cell_type": "code",
   "execution_count": 7,
   "id": "ab3fa2d6-8c22-4e0c-af06-5af6e97d94cb",
   "metadata": {},
   "outputs": [
    {
     "data": {
      "text/plain": [
       "'nikshi'"
      ]
     },
     "execution_count": 7,
     "metadata": {},
     "output_type": "execute_result"
    }
   ],
   "source": [
    "data[3]"
   ]
  },
  {
   "cell_type": "code",
   "execution_count": 8,
   "id": "375f7fe8-66bf-450e-816d-e5f8da1b975a",
   "metadata": {},
   "outputs": [
    {
     "ename": "KeyError",
     "evalue": "5",
     "output_type": "error",
     "traceback": [
      "\u001b[1;31m---------------------------------------------------------------------------\u001b[0m",
      "\u001b[1;31mKeyError\u001b[0m                                  Traceback (most recent call last)",
      "Cell \u001b[1;32mIn[8], line 1\u001b[0m\n\u001b[1;32m----> 1\u001b[0m data[\u001b[38;5;241m5\u001b[39m]\n",
      "\u001b[1;31mKeyError\u001b[0m: 5"
     ]
    }
   ],
   "source": [
    "data[5]"
   ]
  },
  {
   "cell_type": "code",
   "execution_count": 9,
   "id": "ee75d4eb-bf49-46fc-9976-1b901bbfa4fc",
   "metadata": {},
   "outputs": [
    {
     "data": {
      "text/plain": [
       "'vysh'"
      ]
     },
     "execution_count": 9,
     "metadata": {},
     "output_type": "execute_result"
    }
   ],
   "source": [
    "data.get(1)"
   ]
  },
  {
   "cell_type": "code",
   "execution_count": 10,
   "id": "7494d2a4-84ba-4868-8fb4-3fab7b788a21",
   "metadata": {},
   "outputs": [
    {
     "data": {
      "text/plain": [
       "'pallavi'"
      ]
     },
     "execution_count": 10,
     "metadata": {},
     "output_type": "execute_result"
    }
   ],
   "source": [
    "data.get(2)"
   ]
  },
  {
   "cell_type": "code",
   "execution_count": 11,
   "id": "faa4836f-2e2d-4bc8-836b-938e6a16acf6",
   "metadata": {},
   "outputs": [],
   "source": [
    "data.get(5)"
   ]
  },
  {
   "cell_type": "code",
   "execution_count": 12,
   "id": "0cb7b596-2402-4588-9a60-83699bdf9a8b",
   "metadata": {},
   "outputs": [
    {
     "name": "stdout",
     "output_type": "stream",
     "text": [
      "None\n"
     ]
    }
   ],
   "source": [
    "print(data.get(5))"
   ]
  },
  {
   "cell_type": "code",
   "execution_count": 13,
   "id": "6d6a3e50-9729-4361-9667-8f38457e1c00",
   "metadata": {},
   "outputs": [
    {
     "data": {
      "text/plain": [
       "'vysh'"
      ]
     },
     "execution_count": 13,
     "metadata": {},
     "output_type": "execute_result"
    }
   ],
   "source": [
    "data.get(1, 'Not Found')"
   ]
  },
  {
   "cell_type": "code",
   "execution_count": 14,
   "id": "183dc785-293b-4255-922a-27a343ba453f",
   "metadata": {},
   "outputs": [
    {
     "data": {
      "text/plain": [
       "'Not Found'"
      ]
     },
     "execution_count": 14,
     "metadata": {},
     "output_type": "execute_result"
    }
   ],
   "source": [
    "data.get(5, 'Not Found')"
   ]
  },
  {
   "cell_type": "code",
   "execution_count": 15,
   "id": "86ee4be0-bba2-497e-a386-0dc51010a301",
   "metadata": {},
   "outputs": [
    {
     "data": {
      "text/plain": [
       "'akshaya'"
      ]
     },
     "execution_count": 15,
     "metadata": {},
     "output_type": "execute_result"
    }
   ],
   "source": [
    "data.get(4, \"not found\")"
   ]
  },
  {
   "cell_type": "code",
   "execution_count": 16,
   "id": "bf2b1697-b80f-4bf2-8b4d-1c1c3cabff93",
   "metadata": {},
   "outputs": [],
   "source": [
    "keys = ['vysh','pallavi','shruthi']"
   ]
  },
  {
   "cell_type": "code",
   "execution_count": 17,
   "id": "483bc35d-9139-4796-9aab-ed39ecc8f1e2",
   "metadata": {},
   "outputs": [],
   "source": [
    "values = ['python','java','c++']"
   ]
  },
  {
   "cell_type": "code",
   "execution_count": 18,
   "id": "7ed56a7d-cd2a-4d4c-b3e6-2bcb50f4dc93",
   "metadata": {},
   "outputs": [],
   "source": [
    "data = dict(zip(keys,values))"
   ]
  },
  {
   "cell_type": "code",
   "execution_count": 19,
   "id": "02e65677-4222-47a7-a70c-e2cadc63103a",
   "metadata": {},
   "outputs": [
    {
     "data": {
      "text/plain": [
       "{'vysh': 'python', 'pallavi': 'java', 'shruthi': 'c++'}"
      ]
     },
     "execution_count": 19,
     "metadata": {},
     "output_type": "execute_result"
    }
   ],
   "source": [
    "data"
   ]
  },
  {
   "cell_type": "code",
   "execution_count": 20,
   "id": "312a1c20-9d5c-420a-bd86-e9a4536510ff",
   "metadata": {},
   "outputs": [
    {
     "data": {
      "text/plain": [
       "'python'"
      ]
     },
     "execution_count": 20,
     "metadata": {},
     "output_type": "execute_result"
    }
   ],
   "source": [
    "data['vysh']"
   ]
  },
  {
   "cell_type": "code",
   "execution_count": 21,
   "id": "1975be4d-e09e-474b-9e19-0498a2db8f66",
   "metadata": {},
   "outputs": [
    {
     "data": {
      "text/plain": [
       "'java'"
      ]
     },
     "execution_count": 21,
     "metadata": {},
     "output_type": "execute_result"
    }
   ],
   "source": [
    "data['pallavi']"
   ]
  },
  {
   "cell_type": "code",
   "execution_count": 22,
   "id": "d31d40ac-b5be-4d01-8cc0-eef85a7bde6e",
   "metadata": {},
   "outputs": [
    {
     "data": {
      "text/plain": [
       "'c++'"
      ]
     },
     "execution_count": 22,
     "metadata": {},
     "output_type": "execute_result"
    }
   ],
   "source": [
    "data['shruthi']"
   ]
  },
  {
   "cell_type": "code",
   "execution_count": 23,
   "id": "5b048cfb-295d-4e82-a02e-fd378fe1c0e4",
   "metadata": {},
   "outputs": [
    {
     "data": {
      "text/plain": [
       "{'vysh': 'python', 'pallavi': 'java', 'shruthi': 'c++'}"
      ]
     },
     "execution_count": 23,
     "metadata": {},
     "output_type": "execute_result"
    }
   ],
   "source": [
    "data"
   ]
  },
  {
   "cell_type": "code",
   "execution_count": 24,
   "id": "463952ac-4d86-4107-9293-5a2e76186239",
   "metadata": {},
   "outputs": [
    {
     "ename": "KeyError",
     "evalue": "'teja'",
     "output_type": "error",
     "traceback": [
      "\u001b[1;31m---------------------------------------------------------------------------\u001b[0m",
      "\u001b[1;31mKeyError\u001b[0m                                  Traceback (most recent call last)",
      "Cell \u001b[1;32mIn[24], line 1\u001b[0m\n\u001b[1;32m----> 1\u001b[0m data[\u001b[38;5;124m'\u001b[39m\u001b[38;5;124mteja\u001b[39m\u001b[38;5;124m'\u001b[39m]\n",
      "\u001b[1;31mKeyError\u001b[0m: 'teja'"
     ]
    }
   ],
   "source": [
    "data['teja']"
   ]
  },
  {
   "cell_type": "code",
   "execution_count": 26,
   "id": "0ef7cca4-0a3a-45c1-809b-8906874c5137",
   "metadata": {},
   "outputs": [],
   "source": [
    "data['teja'] = 'c'"
   ]
  },
  {
   "cell_type": "code",
   "execution_count": 27,
   "id": "2bb76bcf-6bbf-4284-a209-e7215c2ea004",
   "metadata": {},
   "outputs": [
    {
     "data": {
      "text/plain": [
       "{'vysh': 'python', 'pallavi': 'java', 'shruthi': 'c++', 'teja': 'c'}"
      ]
     },
     "execution_count": 27,
     "metadata": {},
     "output_type": "execute_result"
    }
   ],
   "source": [
    "data"
   ]
  },
  {
   "cell_type": "code",
   "execution_count": 28,
   "id": "88547c80-fffd-4399-9bc3-a3859428d581",
   "metadata": {},
   "outputs": [],
   "source": [
    "del data['shruthi']"
   ]
  },
  {
   "cell_type": "code",
   "execution_count": 29,
   "id": "03b63b8f-bcfd-46ac-901e-ef7ad08641ae",
   "metadata": {},
   "outputs": [
    {
     "data": {
      "text/plain": [
       "{'vysh': 'python', 'pallavi': 'java', 'teja': 'c'}"
      ]
     },
     "execution_count": 29,
     "metadata": {},
     "output_type": "execute_result"
    }
   ],
   "source": [
    "data"
   ]
  },
  {
   "cell_type": "code",
   "execution_count": 30,
   "id": "31149979-25e4-4a3b-88c1-c00a8bbc5a01",
   "metadata": {},
   "outputs": [
    {
     "ename": "KeyError",
     "evalue": "'c'",
     "output_type": "error",
     "traceback": [
      "\u001b[1;31m---------------------------------------------------------------------------\u001b[0m",
      "\u001b[1;31mKeyError\u001b[0m                                  Traceback (most recent call last)",
      "Cell \u001b[1;32mIn[30], line 1\u001b[0m\n\u001b[1;32m----> 1\u001b[0m \u001b[38;5;28;01mdel\u001b[39;00m data[\u001b[38;5;124m'\u001b[39m\u001b[38;5;124mc\u001b[39m\u001b[38;5;124m'\u001b[39m]\n",
      "\u001b[1;31mKeyError\u001b[0m: 'c'"
     ]
    }
   ],
   "source": [
    "del data['c']"
   ]
  },
  {
   "cell_type": "code",
   "execution_count": 31,
   "id": "753fa55e-d7b5-41a8-bf2c-390fff02b970",
   "metadata": {},
   "outputs": [],
   "source": [
    "data['nikshi'] = 'sublime'"
   ]
  },
  {
   "cell_type": "code",
   "execution_count": 32,
   "id": "2ecde1e7-f467-4e31-a3b7-54ea87d7ff3d",
   "metadata": {},
   "outputs": [
    {
     "data": {
      "text/plain": [
       "{'vysh': 'python', 'pallavi': 'java', 'teja': 'c', 'nikshi': 'sublime'}"
      ]
     },
     "execution_count": 32,
     "metadata": {},
     "output_type": "execute_result"
    }
   ],
   "source": [
    "data"
   ]
  },
  {
   "cell_type": "code",
   "execution_count": 33,
   "id": "3b24885f-f275-4651-91cb-ea45be799a78",
   "metadata": {},
   "outputs": [],
   "source": [
    "data['vasavi'] = 'art'"
   ]
  },
  {
   "cell_type": "code",
   "execution_count": 34,
   "id": "7d21e428-26a2-4120-bba3-e1e15bee90e1",
   "metadata": {},
   "outputs": [
    {
     "data": {
      "text/plain": [
       "{'vysh': 'python',\n",
       " 'pallavi': 'java',\n",
       " 'teja': 'c',\n",
       " 'nikshi': 'sublime',\n",
       " 'vasavi': 'art'}"
      ]
     },
     "execution_count": 34,
     "metadata": {},
     "output_type": "execute_result"
    }
   ],
   "source": [
    "data"
   ]
  },
  {
   "cell_type": "code",
   "execution_count": 35,
   "id": "60e8b74f-15e9-4a2d-8f08-97c4e75ba6b4",
   "metadata": {},
   "outputs": [],
   "source": [
    "del data['teja']"
   ]
  },
  {
   "cell_type": "code",
   "execution_count": 36,
   "id": "6a03b0da-a267-4161-9b32-0ace7f375178",
   "metadata": {},
   "outputs": [
    {
     "data": {
      "text/plain": [
       "{'vysh': 'python', 'pallavi': 'java', 'nikshi': 'sublime', 'vasavi': 'art'}"
      ]
     },
     "execution_count": 36,
     "metadata": {},
     "output_type": "execute_result"
    }
   ],
   "source": [
    "data"
   ]
  },
  {
   "cell_type": "code",
   "execution_count": 49,
   "id": "111c0690-3cee-4247-8ed6-c68ce5c8c8bf",
   "metadata": {},
   "outputs": [],
   "source": [
    "prog = {'mummy':'mother', 'daddy':'father', 'siblings':['brother','sister'],'mru':['faculty''students','sub','hardwork']}"
   ]
  },
  {
   "cell_type": "code",
   "execution_count": 50,
   "id": "bd61bc1a-80f5-4c46-accc-8ae193cf7913",
   "metadata": {},
   "outputs": [
    {
     "data": {
      "text/plain": [
       "{'mummy': 'mother',\n",
       " 'daddy': 'father',\n",
       " 'siblings': ['brother', 'sister'],\n",
       " 'mru': ['faculty', 'students', 'sub', 'hardwork']}"
      ]
     },
     "execution_count": 50,
     "metadata": {},
     "output_type": "execute_result"
    }
   ],
   "source": [
    "prog"
   ]
  },
  {
   "cell_type": "code",
   "execution_count": 40,
   "id": "4407e261-7898-4cbb-97c6-6cbc5845b63a",
   "metadata": {},
   "outputs": [
    {
     "data": {
      "text/plain": [
       "{'mummy': 'mother',\n",
       " 'daddy': 'father',\n",
       " 'siblings': ['brother', 'sister'],\n",
       " 'mru': {'faculty': 'students', 'sub': 'hardwork'}}"
      ]
     },
     "execution_count": 40,
     "metadata": {},
     "output_type": "execute_result"
    }
   ],
   "source": [
    "prog"
   ]
  },
  {
   "cell_type": "code",
   "execution_count": 41,
   "id": "2ea2ac25-ef7d-488d-b781-d74dc409e830",
   "metadata": {},
   "outputs": [
    {
     "data": {
      "text/plain": [
       "'mother'"
      ]
     },
     "execution_count": 41,
     "metadata": {},
     "output_type": "execute_result"
    }
   ],
   "source": [
    "prog['mummy']"
   ]
  },
  {
   "cell_type": "code",
   "execution_count": 42,
   "id": "7a5a8c21-2a0c-41ea-afee-129ef4918e9c",
   "metadata": {},
   "outputs": [
    {
     "data": {
      "text/plain": [
       "['brother', 'sister']"
      ]
     },
     "execution_count": 42,
     "metadata": {},
     "output_type": "execute_result"
    }
   ],
   "source": [
    "prog['siblings']"
   ]
  },
  {
   "cell_type": "code",
   "execution_count": 43,
   "id": "a0347b12-c002-4383-84d9-9c475e457990",
   "metadata": {},
   "outputs": [
    {
     "data": {
      "text/plain": [
       "'sister'"
      ]
     },
     "execution_count": 43,
     "metadata": {},
     "output_type": "execute_result"
    }
   ],
   "source": [
    "prog['siblings'][1]"
   ]
  },
  {
   "cell_type": "code",
   "execution_count": 45,
   "id": "5de93342-6784-47c1-b629-03651e13406c",
   "metadata": {},
   "outputs": [
    {
     "data": {
      "text/plain": [
       "{'faculty': 'students', 'sub': 'hardwork'}"
      ]
     },
     "execution_count": 45,
     "metadata": {},
     "output_type": "execute_result"
    }
   ],
   "source": [
    "prog['mru']"
   ]
  },
  {
   "cell_type": "code",
   "execution_count": null,
   "id": "de0a7229-e000-4b45-ab1c-907e69b9e480",
   "metadata": {},
   "outputs": [],
   "source": []
  }
 ],
 "metadata": {
  "kernelspec": {
   "display_name": "Python 3 (ipykernel)",
   "language": "python",
   "name": "python3"
  },
  "language_info": {
   "codemirror_mode": {
    "name": "ipython",
    "version": 3
   },
   "file_extension": ".py",
   "mimetype": "text/x-python",
   "name": "python",
   "nbconvert_exporter": "python",
   "pygments_lexer": "ipython3",
   "version": "3.12.7"
  }
 },
 "nbformat": 4,
 "nbformat_minor": 5
}
