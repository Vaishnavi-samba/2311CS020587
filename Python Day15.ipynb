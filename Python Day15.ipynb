{
 "cells": [
  {
   "cell_type": "markdown",
   "id": "bb169784-b1fe-486d-82b4-c4df00305e9b",
   "metadata": {},
   "source": [
    "Factorial using Recursion"
   ]
  },
  {
   "cell_type": "code",
   "execution_count": 10,
   "id": "1381f783-d19b-4aae-ab05-9dc76319305a",
   "metadata": {},
   "outputs": [
    {
     "name": "stdout",
     "output_type": "stream",
     "text": [
      "120\n"
     ]
    }
   ],
   "source": [
    "def fact(n):\n",
    "    if n==0:\n",
    "        return 1\n",
    "    return n * fact(n-1)\n",
    "\n",
    "result = fact(5)\n",
    "print(result)"
   ]
  },
  {
   "cell_type": "code",
   "execution_count": 11,
   "id": "8eda9c3c-8111-4920-bfd1-33745ed757da",
   "metadata": {},
   "outputs": [
    {
     "name": "stdout",
     "output_type": "stream",
     "text": [
      "24\n"
     ]
    }
   ],
   "source": [
    "def fact(n):\n",
    "    if n==0:\n",
    "        return 1\n",
    "    return n * fact(n-1)\n",
    "\n",
    "result = fact(4)\n",
    "print(result)"
   ]
  },
  {
   "cell_type": "code",
   "execution_count": 12,
   "id": "1cbb3223-9e4a-413c-91f1-c9b29166ba07",
   "metadata": {},
   "outputs": [
    {
     "name": "stdout",
     "output_type": "stream",
     "text": [
      "120\n"
     ]
    }
   ],
   "source": [
    "def fact(n):\n",
    "    if n==1:\n",
    "        return 1\n",
    "    return n * fact(n-1)\n",
    "\n",
    "result = fact(5)\n",
    "print(result)"
   ]
  },
  {
   "cell_type": "markdown",
   "id": "7bb2a505-896b-4796-8745-e2c979f1301a",
   "metadata": {},
   "source": [
    "Anonymous Functions / Lambda"
   ]
  },
  {
   "cell_type": "code",
   "execution_count": 13,
   "id": "bc45e09d-a516-44b7-aaee-cce7ba446f7f",
   "metadata": {},
   "outputs": [
    {
     "name": "stdout",
     "output_type": "stream",
     "text": [
      "25\n"
     ]
    }
   ],
   "source": [
    "def square(a):\n",
    "    return a*a\n",
    "\n",
    "result = square(5)\n",
    "print(result)"
   ]
  },
  {
   "cell_type": "code",
   "execution_count": 17,
   "id": "3e08fa6a-f730-4313-94ea-4379e5741ae1",
   "metadata": {},
   "outputs": [
    {
     "ename": "SyntaxError",
     "evalue": "invalid syntax (314647515.py, line 1)",
     "output_type": "error",
     "traceback": [
      "\u001b[1;36m  Cell \u001b[1;32mIn[17], line 1\u001b[1;36m\u001b[0m\n\u001b[1;33m    f = lamba a,b : a+a\u001b[0m\n\u001b[1;37m              ^\u001b[0m\n\u001b[1;31mSyntaxError\u001b[0m\u001b[1;31m:\u001b[0m invalid syntax\n"
     ]
    }
   ],
   "source": [
    "f = lamba a,b : a+a\n",
    "\n",
    "result = f(5,6)\n",
    "print(result)"
   ]
  },
  {
   "cell_type": "markdown",
   "id": "ca663f1c-81d8-4d32-9efc-7d9ade9b6d41",
   "metadata": {},
   "source": [
    "Filter Map Reduce"
   ]
  },
  {
   "cell_type": "code",
   "execution_count": 18,
   "id": "1b298711-1d79-420e-b8b5-7f1f3c155e28",
   "metadata": {},
   "outputs": [
    {
     "name": "stdout",
     "output_type": "stream",
     "text": [
      "[4, 6, 8, 0, 2]\n"
     ]
    }
   ],
   "source": [
    "def is_even(n):\n",
    "    return n%2==0\n",
    "\n",
    "nums = [3,4,5,6,7,8,0,9,1,2]\n",
    "\n",
    "evens = list(filter(is_even,nums))\n",
    "print(evens)"
   ]
  },
  {
   "cell_type": "code",
   "execution_count": 26,
   "id": "c61275d7-07a1-46df-addb-31c4405c899f",
   "metadata": {},
   "outputs": [
    {
     "name": "stdout",
     "output_type": "stream",
     "text": [
      "[6, 8, 10, 2, 4]\n"
     ]
    }
   ],
   "source": [
    "def update(n):\n",
    "    return n+2\n",
    "\n",
    "nums = [3,4,5,6,7,8,0,9,1,2]\n",
    "\n",
    "evens = list(filter(lambda n : n%2==0,nums))\n",
    "\n",
    "doubles = list(map(lambda n : n+2,evens))\n",
    "print(doubles)"
   ]
  },
  {
   "cell_type": "code",
   "execution_count": 30,
   "id": "5beff8db-b21b-406f-8d08-a86b56290805",
   "metadata": {},
   "outputs": [
    {
     "name": "stdout",
     "output_type": "stream",
     "text": [
      "[6, 9, 3, 12]\n"
     ]
    }
   ],
   "source": [
    "def update(n):\n",
    "    return n+3\n",
    "\n",
    "nums = [3,4,5,6,7,8,0,9,1,2]\n",
    "\n",
    "evens = list(filter(lambda n : n%3==0,nums))\n",
    "\n",
    "doubles = list(map(lambda n : n+3,evens))\n",
    "print(doubles)"
   ]
  },
  {
   "cell_type": "code",
   "execution_count": 31,
   "id": "73239373-ad8a-47fc-859b-a422ccf22089",
   "metadata": {},
   "outputs": [
    {
     "name": "stdout",
     "output_type": "stream",
     "text": [
      "[8, 12, 16, 0, 4]\n"
     ]
    }
   ],
   "source": [
    "def update(n):\n",
    "    return n+2\n",
    "\n",
    "nums = [3,4,5,6,7,8,0,9,1,2]\n",
    "\n",
    "evens = list(filter(lambda n : n%2==0,nums))\n",
    "\n",
    "doubles = list(map(lambda n : n*2,evens))\n",
    "print(doubles)"
   ]
  },
  {
   "cell_type": "code",
   "execution_count": 35,
   "id": "e5759263-e979-4dd3-998a-5a3f7ab67bbe",
   "metadata": {},
   "outputs": [
    {
     "name": "stdout",
     "output_type": "stream",
     "text": [
      "30\n"
     ]
    }
   ],
   "source": [
    "from functools import reduce\n",
    "\n",
    "def add_all(a,b):\n",
    "    return a+b\n",
    "    \n",
    "nums = [3,4,5,6,7,8,0,9,1,2]\n",
    "\n",
    "evens = list(filter(lambda n : n%2==0,nums))\n",
    "\n",
    "doubles = list(map(lambda n : n+2,evens))\n",
    "\n",
    "sum = reduce(add_all,doubles)\n",
    "\n",
    "print(sum)"
   ]
  },
  {
   "cell_type": "code",
   "execution_count": 39,
   "id": "0a4cfab5-47e1-4977-a6b7-362ab49db864",
   "metadata": {},
   "outputs": [
    {
     "name": "stdout",
     "output_type": "stream",
     "text": [
      "[6, 9, 3, 12]\n"
     ]
    }
   ],
   "source": [
    "def update(n):\n",
    "    return n+3\n",
    "\n",
    "nums = [3,4,5,6,7,8,0,9,1,2]\n",
    "\n",
    "evens = list(filter(lambda n : n%3==0,nums))\n",
    "\n",
    "doubles = list(map(lambda n : n+3,evens))\n",
    "print(doubles)"
   ]
  },
  {
   "cell_type": "code",
   "execution_count": 41,
   "id": "e0c8b351-8940-4183-9aeb-52edb8c42ceb",
   "metadata": {},
   "outputs": [
    {
     "name": "stdout",
     "output_type": "stream",
     "text": [
      "[8, 12, 16, 0, 4]\n",
      "40\n"
     ]
    }
   ],
   "source": [
    "from functools import reduce\n",
    "\n",
    "\n",
    "    \n",
    "nums = [3,4,5,6,7,8,0,9,1,2]\n",
    "\n",
    "evens = list(filter(lambda n : n%2==0,nums))\n",
    "\n",
    "doubles = list(map(lambda n : n*2,evens))\n",
    "print(doubles)\n",
    "sum = reduce(lambda a,b : a+b,doubles)\n",
    "\n",
    "print(sum)"
   ]
  },
  {
   "cell_type": "code",
   "execution_count": 42,
   "id": "d6227fbc-d46f-423b-ae94-a6bca3f7cf2b",
   "metadata": {},
   "outputs": [
    {
     "name": "stdout",
     "output_type": "stream",
     "text": [
      "[6, 8, 10, 2, 4]\n",
      "30\n"
     ]
    }
   ],
   "source": [
    "from functools import reduce\n",
    "\n",
    "\n",
    "    \n",
    "nums = [3,4,5,6,7,8,0,9,1,2]\n",
    "\n",
    "evens = list(filter(lambda n : n%2==0,nums))\n",
    "\n",
    "doubles = list(map(lambda n : n+2,evens))\n",
    "print(doubles)\n",
    "sum = reduce(lambda a,b : a+b,doubles)\n",
    "\n",
    "print(sum)"
   ]
  },
  {
   "cell_type": "code",
   "execution_count": null,
   "id": "a1fa6f76-6a83-40e5-ab3e-df46bec318c4",
   "metadata": {},
   "outputs": [],
   "source": []
  }
 ],
 "metadata": {
  "kernelspec": {
   "display_name": "Python 3 (ipykernel)",
   "language": "python",
   "name": "python3"
  },
  "language_info": {
   "codemirror_mode": {
    "name": "ipython",
    "version": 3
   },
   "file_extension": ".py",
   "mimetype": "text/x-python",
   "name": "python",
   "nbconvert_exporter": "python",
   "pygments_lexer": "ipython3",
   "version": "3.12.7"
  }
 },
 "nbformat": 4,
 "nbformat_minor": 5
}
