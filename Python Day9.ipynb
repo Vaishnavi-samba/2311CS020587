{
 "cells": [
  {
   "cell_type": "markdown",
   "id": "76320565-3052-49f2-a274-7b00b07bd57c",
   "metadata": {},
   "source": [
    "Printing pattern"
   ]
  },
  {
   "cell_type": "code",
   "execution_count": 1,
   "id": "03069b01-88a9-4165-b8fe-40a7495dad84",
   "metadata": {},
   "outputs": [
    {
     "name": "stdout",
     "output_type": "stream",
     "text": [
      "####\n"
     ]
    }
   ],
   "source": [
    "print('####')"
   ]
  },
  {
   "cell_type": "code",
   "execution_count": 2,
   "id": "77e0a929-6e0d-496e-b815-b4e828698706",
   "metadata": {},
   "outputs": [
    {
     "name": "stdout",
     "output_type": "stream",
     "text": [
      "# # # #\n"
     ]
    }
   ],
   "source": [
    "print('# # # #')"
   ]
  },
  {
   "cell_type": "code",
   "execution_count": 3,
   "id": "b64467ab-b229-42b7-80b9-cfd0d493d4ee",
   "metadata": {},
   "outputs": [
    {
     "name": "stdout",
     "output_type": "stream",
     "text": [
      "#\n",
      "#\n",
      "#\n",
      "#\n"
     ]
    }
   ],
   "source": [
    "print(\"#\")\n",
    "print(\"#\")\n",
    "print(\"#\")\n",
    "print(\"#\")"
   ]
  },
  {
   "cell_type": "code",
   "execution_count": 5,
   "id": "af9ea81f-63dd-4623-a446-9a5514b9e8ca",
   "metadata": {},
   "outputs": [
    {
     "name": "stdout",
     "output_type": "stream",
     "text": [
      "####"
     ]
    }
   ],
   "source": [
    "print(\"#\",end=\"\")\n",
    "print(\"#\",end=\"\")\n",
    "print(\"#\",end=\"\")\n",
    "print(\"#\",end=\"\")"
   ]
  },
  {
   "cell_type": "code",
   "execution_count": 6,
   "id": "31c9394b-bd72-4795-9d2d-3dcb913ae5a2",
   "metadata": {},
   "outputs": [
    {
     "name": "stdout",
     "output_type": "stream",
     "text": [
      "# # # # "
     ]
    }
   ],
   "source": [
    "for i in range(4):\n",
    "    print(\"# \",end=\"\")"
   ]
  },
  {
   "cell_type": "code",
   "execution_count": 8,
   "id": "ef83a76f-3ff8-44c4-9185-ca16085038ee",
   "metadata": {},
   "outputs": [
    {
     "name": "stdout",
     "output_type": "stream",
     "text": [
      "# # # # \n",
      "# # # # \n",
      "# # # # \n",
      "# # # # "
     ]
    }
   ],
   "source": [
    "for i in range(4):\n",
    "    print(\"# \",end=\"\")\n",
    "\n",
    "print()\n",
    "\n",
    "for i in range(4):\n",
    "    print(\"# \",end=\"\")\n",
    "\n",
    "print()\n",
    "\n",
    "for i in range(4):\n",
    "    print(\"# \",end=\"\")\n",
    "\n",
    "print()\n",
    "\n",
    "for i in range(4):\n",
    "    print(\"# \",end=\"\")\n",
    "\n",
    "\n",
    "    "
   ]
  },
  {
   "cell_type": "code",
   "execution_count": 9,
   "id": "f9c43aa4-9f91-4bbf-82b0-f34d425e2c61",
   "metadata": {},
   "outputs": [
    {
     "name": "stdout",
     "output_type": "stream",
     "text": [
      "# # # # # # # # # # # # # # # # "
     ]
    }
   ],
   "source": [
    "for i in range(4):\n",
    "    for j in range(4):\n",
    "        print(\"# \",end=\"\")"
   ]
  },
  {
   "cell_type": "code",
   "execution_count": 10,
   "id": "507e9f16-60d3-48bb-8648-fcc02a094f77",
   "metadata": {},
   "outputs": [
    {
     "name": "stdout",
     "output_type": "stream",
     "text": [
      "# # # # \n",
      "# # # # \n",
      "# # # # \n",
      "# # # # \n"
     ]
    }
   ],
   "source": [
    "for i in range(4):\n",
    "    for j in range(4):\n",
    "        print(\"# \",end=\"\")\n",
    "\n",
    "    print()"
   ]
  },
  {
   "cell_type": "code",
   "execution_count": 14,
   "id": "fd4305e3-8067-4574-9bfd-a9a4f3550200",
   "metadata": {},
   "outputs": [
    {
     "name": "stdout",
     "output_type": "stream",
     "text": [
      "# # # # # # "
     ]
    }
   ],
   "source": [
    "for i in range(4):\n",
    "    for j in range(i):\n",
    "        print(\"# \",end=\"\")\n",
    "    "
   ]
  },
  {
   "cell_type": "code",
   "execution_count": 15,
   "id": "3ee443c1-16a2-48db-b9a0-d118af2b9615",
   "metadata": {},
   "outputs": [
    {
     "name": "stdout",
     "output_type": "stream",
     "text": [
      "\n",
      "# \n",
      "# # \n",
      "# # # \n"
     ]
    }
   ],
   "source": [
    "for i in range(4):\n",
    "    for j in range(i):\n",
    "        print(\"# \",end=\"\")\n",
    "\n",
    "    print()\n"
   ]
  },
  {
   "cell_type": "code",
   "execution_count": 19,
   "id": "618b336f-d585-4092-ae4e-6fd166cff30a",
   "metadata": {},
   "outputs": [
    {
     "name": "stdout",
     "output_type": "stream",
     "text": [
      "# \n",
      "# # \n",
      "# # # \n",
      "# # # # \n"
     ]
    }
   ],
   "source": [
    "for i in range(4):\n",
    "    for j in range(i+1):\n",
    "        print(\"# \",end=\"\")\n",
    "\n",
    "    print()"
   ]
  },
  {
   "cell_type": "code",
   "execution_count": 22,
   "id": "7aa85e4f-653b-4289-b11c-675583a51aca",
   "metadata": {},
   "outputs": [
    {
     "name": "stdout",
     "output_type": "stream",
     "text": [
      "# # # # \n",
      "# # # \n",
      "# # \n",
      "# \n"
     ]
    }
   ],
   "source": [
    "for i in range(4):\n",
    "    for j in range(4-i):\n",
    "        print(\"# \",end=\"\")\n",
    "    print()"
   ]
  },
  {
   "cell_type": "code",
   "execution_count": 23,
   "id": "82aa32cb-7328-4ff2-9868-44d01c9d1379",
   "metadata": {},
   "outputs": [
    {
     "name": "stdout",
     "output_type": "stream",
     "text": [
      "# # # \n",
      "# # \n",
      "# \n",
      "\n"
     ]
    }
   ],
   "source": [
    "for i in range(4):\n",
    "    for j in range(3-i):\n",
    "        print(\"# \",end=\"\")\n",
    "    print()"
   ]
  },
  {
   "cell_type": "markdown",
   "id": "f0e4c83e-9112-426c-a16f-9c35b1809260",
   "metadata": {},
   "source": [
    "for else:"
   ]
  },
  {
   "cell_type": "code",
   "execution_count": 24,
   "id": "a8e19fd1-d67c-42e5-8b8a-43ad7eea0ac4",
   "metadata": {},
   "outputs": [
    {
     "name": "stdout",
     "output_type": "stream",
     "text": [
      "20\n",
      "35\n",
      "5\n"
     ]
    }
   ],
   "source": [
    "nums = [12,16,18,19,20,35,5]\n",
    "\n",
    "for num in nums:\n",
    "    if num % 5 ==0:\n",
    "        print(num)"
   ]
  },
  {
   "cell_type": "code",
   "execution_count": 27,
   "id": "e69bb339-dccf-4bfb-82be-32828e6f279b",
   "metadata": {},
   "outputs": [
    {
     "name": "stdout",
     "output_type": "stream",
     "text": [
      "20\n"
     ]
    }
   ],
   "source": [
    "nums = [12,16,18,19,20,35,5]\n",
    "\n",
    "for num in nums:\n",
    "    if num % 5 == 0:\n",
    "        print(num)\n",
    "        break"
   ]
  },
  {
   "cell_type": "code",
   "execution_count": 34,
   "id": "dfa23d25-3112-4bc9-840e-c40257bee64d",
   "metadata": {},
   "outputs": [
    {
     "name": "stdout",
     "output_type": "stream",
     "text": [
      "20\n"
     ]
    }
   ],
   "source": [
    "nums = [12,16,18,19,20,35,5]\n",
    "\n",
    "for num in nums:\n",
    "    if num % 5 == 0:\n",
    "        print(num)\n",
    "        break\n",
    "else:\n",
    "    print(\"not found\")\n"
   ]
  },
  {
   "cell_type": "code",
   "execution_count": 35,
   "id": "05219af8-2d3f-4227-b546-22ce5553fd7b",
   "metadata": {},
   "outputs": [
    {
     "name": "stdout",
     "output_type": "stream",
     "text": [
      "not found\n"
     ]
    }
   ],
   "source": [
    "nums = [12,16,18,19,21,36,51]\n",
    "\n",
    "for num in nums:\n",
    "    if num % 5 == 0:\n",
    "        print(num)\n",
    "        break\n",
    "else:\n",
    "    print(\"not found\")\n"
   ]
  },
  {
   "cell_type": "code",
   "execution_count": 36,
   "id": "f50847dd-d1cd-45a9-a96c-3f425a17a928",
   "metadata": {},
   "outputs": [
    {
     "name": "stdout",
     "output_type": "stream",
     "text": [
      "15\n"
     ]
    }
   ],
   "source": [
    "i = [12,15,18,19,21,36,51]\n",
    "\n",
    "for num in i:\n",
    "    if num % 5 == 0:\n",
    "        print(num)\n",
    "        break\n",
    "else:\n",
    "    print(\"not found\")\n"
   ]
  },
  {
   "cell_type": "markdown",
   "id": "176df0a3-5baa-43b8-b734-f75f7cbdade5",
   "metadata": {},
   "source": [
    "Prime Numbers"
   ]
  },
  {
   "cell_type": "code",
   "execution_count": 41,
   "id": "b504ce01-3777-442f-86ff-1b8e559004f6",
   "metadata": {},
   "outputs": [
    {
     "name": "stdout",
     "output_type": "stream",
     "text": [
      "Prime\n",
      "Prime\n",
      "Prime\n",
      "Prime\n",
      "Prime\n"
     ]
    }
   ],
   "source": [
    "num = 7\n",
    "for i in range(2,num):\n",
    "    if num % i == 0:\n",
    "        print(\"Not Prime\")\n",
    "    else:\n",
    "        print(\"Prime\")\n",
    "        "
   ]
  },
  {
   "cell_type": "code",
   "execution_count": 56,
   "id": "5350bdc8-de4b-446d-8a25-57fd71e1def2",
   "metadata": {},
   "outputs": [
    {
     "name": "stdout",
     "output_type": "stream",
     "text": [
      "Prime\n"
     ]
    }
   ],
   "source": [
    "num = 7\n",
    "for i in range(2,num):\n",
    "    if num % i == 0:\n",
    "        print(\"Not Prime\")\n",
    "        break\n",
    "else:\n",
    "    print(\"Prime\")"
   ]
  },
  {
   "cell_type": "code",
   "execution_count": 55,
   "id": "1d9fcf32-ecc2-4ecf-bb91-f84829281bfe",
   "metadata": {},
   "outputs": [
    {
     "name": "stdout",
     "output_type": "stream",
     "text": [
      "Prime\n"
     ]
    }
   ],
   "source": [
    "num = 7\n",
    "for i in range(2,num):\n",
    "    if num % i == 0:\n",
    "        print(\"Not Prime\")\n",
    "        break\n",
    "else:\n",
    "    print(\"Prime\")\n",
    "        "
   ]
  },
  {
   "cell_type": "code",
   "execution_count": 57,
   "id": "31828094-c47f-465a-8f2b-5ad86e701bda",
   "metadata": {},
   "outputs": [
    {
     "name": "stdout",
     "output_type": "stream",
     "text": [
      "Not Prime\n"
     ]
    }
   ],
   "source": [
    "num = 9\n",
    "for i in range(2,num):\n",
    "    if num % i == 0:\n",
    "        print(\"Not Prime\")\n",
    "        break\n",
    "else:\n",
    "    print(\"prime\")\n",
    "    "
   ]
  },
  {
   "cell_type": "code",
   "execution_count": 1,
   "id": "0c62a617-8e05-4496-91c7-0d23a116affd",
   "metadata": {},
   "outputs": [
    {
     "name": "stdout",
     "output_type": "stream",
     "text": [
      "prime\n"
     ]
    }
   ],
   "source": [
    "num = 17 \n",
    "for i in range(2,num):\n",
    "    if num % i == 0:\n",
    "        print(\"not prime\")\n",
    "        break\n",
    "else:\n",
    "    print(\"prime\")"
   ]
  },
  {
   "cell_type": "code",
   "execution_count": 2,
   "id": "85a1c44f-dc90-4663-b7d7-87707c097c3f",
   "metadata": {},
   "outputs": [
    {
     "name": "stdout",
     "output_type": "stream",
     "text": [
      "prime\n"
     ]
    }
   ],
   "source": [
    "num = 19 \n",
    "for i in range(2,num):\n",
    "    if num % i == 0:\n",
    "        print(\"not prime\")\n",
    "        break\n",
    "else:\n",
    "    print(\"prime\")"
   ]
  },
  {
   "cell_type": "code",
   "execution_count": 3,
   "id": "da404e23-8cfb-4108-b461-0248e7736a49",
   "metadata": {},
   "outputs": [
    {
     "name": "stdout",
     "output_type": "stream",
     "text": [
      "not prime\n"
     ]
    }
   ],
   "source": [
    "num = 104 \n",
    "for i in range(2,num):\n",
    "    if num % i == 0:\n",
    "        print(\"not prime\")\n",
    "        break\n",
    "else:\n",
    "    print(\"prime\")"
   ]
  },
  {
   "cell_type": "code",
   "execution_count": 4,
   "id": "f05c8776-a35c-417b-af9c-4ff634efaf91",
   "metadata": {},
   "outputs": [
    {
     "name": "stdout",
     "output_type": "stream",
     "text": [
      "prime\n"
     ]
    }
   ],
   "source": [
    "num = 103 \n",
    "for i in range(2,num):\n",
    "    if num % i == 0:\n",
    "        print(\"not prime\")\n",
    "        break\n",
    "else:\n",
    "    print(\"prime\")"
   ]
  },
  {
   "cell_type": "code",
   "execution_count": null,
   "id": "315738fe-7d61-4db0-bbfe-4cb4673634b5",
   "metadata": {},
   "outputs": [],
   "source": []
  }
 ],
 "metadata": {
  "kernelspec": {
   "display_name": "Python 3 (ipykernel)",
   "language": "python",
   "name": "python3"
  },
  "language_info": {
   "codemirror_mode": {
    "name": "ipython",
    "version": 3
   },
   "file_extension": ".py",
   "mimetype": "text/x-python",
   "name": "python",
   "nbconvert_exporter": "python",
   "pygments_lexer": "ipython3",
   "version": "3.12.7"
  }
 },
 "nbformat": 4,
 "nbformat_minor": 5
}
