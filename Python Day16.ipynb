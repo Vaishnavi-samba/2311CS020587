{
 "cells": [
  {
   "cell_type": "markdown",
   "id": "fd046d35-499c-411d-ba19-703320fa3531",
   "metadata": {},
   "source": [
    "DECORATOR"
   ]
  },
  {
   "cell_type": "code",
   "execution_count": 6,
   "id": "b7402d15-5538-44b1-ae70-4b15a60b93ed",
   "metadata": {},
   "outputs": [
    {
     "name": "stdout",
     "output_type": "stream",
     "text": [
      "2.0\n"
     ]
    }
   ],
   "source": [
    "def div(a,b):\n",
    "    print(a/b)\n",
    "\n",
    "div(4,2)"
   ]
  },
  {
   "cell_type": "code",
   "execution_count": 7,
   "id": "95faeb72-70ab-4263-aae7-5f14fd1943d1",
   "metadata": {},
   "outputs": [
    {
     "name": "stdout",
     "output_type": "stream",
     "text": [
      "0.5\n"
     ]
    }
   ],
   "source": [
    "def div(a,b):\n",
    "    print(a/b)\n",
    "\n",
    "div(2,4)"
   ]
  },
  {
   "cell_type": "code",
   "execution_count": 9,
   "id": "637c900d-d480-44d5-82ca-1852851bfe59",
   "metadata": {},
   "outputs": [
    {
     "name": "stdout",
     "output_type": "stream",
     "text": [
      "2.0\n"
     ]
    }
   ],
   "source": [
    "def div(a,b):\n",
    "    if a<b:\n",
    "        a,b = b,a\n",
    "    print(a/b)\n",
    "\n",
    "div(2,4)      "
   ]
  },
  {
   "cell_type": "code",
   "execution_count": 11,
   "id": "4d468bce-b072-4ff7-a10c-85410de059f1",
   "metadata": {},
   "outputs": [
    {
     "name": "stdout",
     "output_type": "stream",
     "text": [
      "0.5\n"
     ]
    }
   ],
   "source": [
    "def div(a,b):\n",
    "    if a>b:\n",
    "        a,b = b,a\n",
    "    print(a/b)\n",
    "\n",
    "div(2,4)       "
   ]
  },
  {
   "cell_type": "code",
   "execution_count": 12,
   "id": "d2ebe26e-44ce-486c-9d94-cd2adc06d713",
   "metadata": {},
   "outputs": [
    {
     "name": "stdout",
     "output_type": "stream",
     "text": [
      "0.5\n"
     ]
    }
   ],
   "source": [
    "def div(a,b):\n",
    "    print(a/b)\n",
    "\n",
    "def smart_div(func):\n",
    "    def inner(a,b):\n",
    "        if a>b:\n",
    "            a,b = b,a\n",
    "        return func(a,b)\n",
    "    return inner\n",
    "\n",
    "div(2,4)\n",
    "         "
   ]
  },
  {
   "cell_type": "code",
   "execution_count": 13,
   "id": "c719fc7c-6028-4605-b344-3b8e07e303d4",
   "metadata": {},
   "outputs": [
    {
     "name": "stdout",
     "output_type": "stream",
     "text": [
      "0.5\n"
     ]
    }
   ],
   "source": [
    "def div(a,b):\n",
    "    print(a/b)\n",
    "\n",
    "def smart_div(func):\n",
    "    def inner(a,b):\n",
    "        if a>b:\n",
    "            a,b=b,a\n",
    "        return func(a,b)\n",
    "    return inner\n",
    "\n",
    "div(2,4)\n",
    "            "
   ]
  },
  {
   "cell_type": "code",
   "execution_count": 17,
   "id": "dbf9ea07-9f52-4d82-ba28-38f5c1bcdb58",
   "metadata": {},
   "outputs": [
    {
     "name": "stdout",
     "output_type": "stream",
     "text": [
      "0.5\n"
     ]
    }
   ],
   "source": [
    "def div(a,b):\n",
    "    print(a/b)\n",
    "\n",
    "def smart_div(func):\n",
    "    \n",
    "    def inner(a,b):\n",
    "        if a<b:\n",
    "            a,b = b,a\n",
    "        return func(a,b)\n",
    "        \n",
    "    return inner\n",
    "\n",
    "div1 = smart_div(div)\n",
    "\n",
    "div(2,4)\n",
    "            "
   ]
  },
  {
   "cell_type": "markdown",
   "id": "126e80f2-8d2e-4717-8e22-68adbc92a050",
   "metadata": {},
   "source": [
    "MODULES"
   ]
  },
  {
   "cell_type": "code",
   "execution_count": 24,
   "id": "b847d13e-430b-4584-bf2a-7441dc193db0",
   "metadata": {},
   "outputs": [
    {
     "ename": "SyntaxError",
     "evalue": "invalid syntax (2314920157.py, line 1)",
     "output_type": "error",
     "traceback": [
      "\u001b[1;36m  Cell \u001b[1;32mIn[24], line 1\u001b[1;36m\u001b[0m\n\u001b[1;33m    from Calc import Calc *\u001b[0m\n\u001b[1;37m                          ^\u001b[0m\n\u001b[1;31mSyntaxError\u001b[0m\u001b[1;31m:\u001b[0m invalid syntax\n"
     ]
    }
   ],
   "source": [
    "from Calc import Calc *\n",
    "a = 9\n",
    "b = 7\n",
    "\n",
    "c = Calc.add(a,b)\n",
    "print(c)\n"
   ]
  },
  {
   "cell_type": "code",
   "execution_count": 19,
   "id": "f6831152-8dd3-4ff9-a360-a5e1a7f3a3ce",
   "metadata": {},
   "outputs": [],
   "source": [
    "def add(a,b):\n",
    "    return a+b\n",
    "    \n",
    "def sub(a,b):\n",
    "    return a-b\n",
    "    \n",
    "def multi(a,b):\n",
    "    return a*b\n",
    "\n",
    "def div(a,b):\n",
    "    return a/b"
   ]
  },
  {
   "cell_type": "markdown",
   "id": "7b2f4748-760a-4737-b80f-851a5f54cded",
   "metadata": {},
   "source": [
    "SPECIAL VARIABLE__NAME__"
   ]
  },
  {
   "cell_type": "code",
   "execution_count": 25,
   "id": "93beb8c5-5a13-4db7-aebd-a2091ff2d1db",
   "metadata": {},
   "outputs": [
    {
     "name": "stdout",
     "output_type": "stream",
     "text": [
      "__main__\n"
     ]
    }
   ],
   "source": [
    "print(__name__)"
   ]
  },
  {
   "cell_type": "code",
   "execution_count": 26,
   "id": "97e5146e-3012-4a93-9360-d19cabe80a6e",
   "metadata": {},
   "outputs": [
    {
     "name": "stdout",
     "output_type": "stream",
     "text": [
      "Hello __main__\n"
     ]
    }
   ],
   "source": [
    "print(\"Hello \" + __name__)"
   ]
  },
  {
   "cell_type": "code",
   "execution_count": null,
   "id": "559a7f69-d594-48a8-ab0c-dc242996e9a8",
   "metadata": {},
   "outputs": [],
   "source": [
    "import Calc \n",
    "print(__name__)"
   ]
  }
 ],
 "metadata": {
  "kernelspec": {
   "display_name": "Python 3 (ipykernel)",
   "language": "python",
   "name": "python3"
  },
  "language_info": {
   "codemirror_mode": {
    "name": "ipython",
    "version": 3
   },
   "file_extension": ".py",
   "mimetype": "text/x-python",
   "name": "python",
   "nbconvert_exporter": "python",
   "pygments_lexer": "ipython3",
   "version": "3.12.7"
  }
 },
 "nbformat": 4,
 "nbformat_minor": 5
}
