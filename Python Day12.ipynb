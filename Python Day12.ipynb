{
 "cells": [
  {
   "cell_type": "markdown",
   "id": "72f0031a-b1e6-4303-ba74-e40077a2f6b5",
   "metadata": {},
   "source": [
    "Functions in Python"
   ]
  },
  {
   "cell_type": "code",
   "execution_count": 5,
   "id": "2e36b483-5f15-4637-bee5-12fd9cb1ca7b",
   "metadata": {},
   "outputs": [
    {
     "name": "stdout",
     "output_type": "stream",
     "text": [
      "hello\n",
      "Good Morning\n"
     ]
    }
   ],
   "source": [
    "def greet():\n",
    "    print(\"hello\")\n",
    "    print(\"Good Morning\")\n",
    "\n",
    "greet()\n"
   ]
  },
  {
   "cell_type": "code",
   "execution_count": 6,
   "id": "d8f22e26-7cab-42c7-9a60-a6b239bbc701",
   "metadata": {},
   "outputs": [
    {
     "name": "stdout",
     "output_type": "stream",
     "text": [
      "hello\n",
      "Good Morning\n",
      "hello\n",
      "Good Morning\n"
     ]
    }
   ],
   "source": [
    "def greet():\n",
    "    print(\"hello\")\n",
    "    print(\"Good Morning\")\n",
    "\n",
    "greet()\n",
    "greet()"
   ]
  },
  {
   "cell_type": "code",
   "execution_count": 7,
   "id": "4f73b78b-7bf7-4b91-acb2-081ffdcd0e8b",
   "metadata": {},
   "outputs": [
    {
     "name": "stdout",
     "output_type": "stream",
     "text": [
      "9\n"
     ]
    }
   ],
   "source": [
    "def greet():\n",
    "    print(\"hello\")\n",
    "    print(\"Good Morning\")\n",
    "def add(x,y):\n",
    "    c = x+y\n",
    "    print(c)\n",
    "add(5,4)"
   ]
  },
  {
   "cell_type": "code",
   "execution_count": 8,
   "id": "dd6b708f-05cf-4ea8-b65f-35a0bb11990d",
   "metadata": {},
   "outputs": [
    {
     "name": "stdout",
     "output_type": "stream",
     "text": [
      "9\n"
     ]
    }
   ],
   "source": [
    "def greet():\n",
    "    print(\"hello\")\n",
    "    print(\"Good Morning\")\n",
    "def add(x,y):\n",
    "    print(x+y)\n",
    "    \n",
    "add(5,4)"
   ]
  },
  {
   "cell_type": "code",
   "execution_count": 9,
   "id": "d67e5206-ba97-494a-8395-e1c1fdf675e4",
   "metadata": {},
   "outputs": [
    {
     "name": "stdout",
     "output_type": "stream",
     "text": [
      "hello\n",
      "Good Morning\n",
      "9\n"
     ]
    }
   ],
   "source": [
    "def greet():\n",
    "    print(\"hello\")\n",
    "    print(\"Good Morning\")\n",
    "def add(x,y):\n",
    "    print(x+y)\n",
    "greet()   \n",
    "result = add(5,4)"
   ]
  },
  {
   "cell_type": "code",
   "execution_count": 10,
   "id": "5345e41a-e968-4872-af6b-1c14f657451e",
   "metadata": {},
   "outputs": [
    {
     "name": "stdout",
     "output_type": "stream",
     "text": [
      "hello\n",
      "Good Morning\n",
      "9\n"
     ]
    }
   ],
   "source": [
    "def greet():\n",
    "    print(\"hello\")\n",
    "    print(\"Good Morning\")\n",
    "def add(x,y):\n",
    "    c = x+y\n",
    "    return c\n",
    "greet()   \n",
    "result = add(5,4) \n",
    "print(result)"
   ]
  },
  {
   "cell_type": "code",
   "execution_count": 12,
   "id": "87015240-af33-44f8-93f3-c2dddff1b435",
   "metadata": {},
   "outputs": [
    {
     "name": "stdout",
     "output_type": "stream",
     "text": [
      "13 5\n"
     ]
    }
   ],
   "source": [
    "def add_sub(x,y):\n",
    "    c = x+y\n",
    "    d = x-y\n",
    "    return c,d\n",
    "result1,result2 = add_sub(9,4) \n",
    "print(result1, result2)"
   ]
  },
  {
   "cell_type": "markdown",
   "id": "2c88a6e1-7889-4d8c-b8f2-51f4d199d21c",
   "metadata": {},
   "source": [
    "Function Arguments"
   ]
  },
  {
   "cell_type": "code",
   "execution_count": 13,
   "id": "5838a116-74c2-464e-9471-4f855709a98f",
   "metadata": {},
   "outputs": [
    {
     "name": "stdout",
     "output_type": "stream",
     "text": [
      "9\n"
     ]
    }
   ],
   "source": [
    " def update(x):\n",
    "     x = 9\n",
    "     print(x)\n",
    "\n",
    "update(4)"
   ]
  },
  {
   "cell_type": "code",
   "execution_count": 14,
   "id": "56c65de3-fac0-49dd-9d8d-cf38e151eb2e",
   "metadata": {},
   "outputs": [
    {
     "name": "stdout",
     "output_type": "stream",
     "text": [
      "9\n",
      "5\n"
     ]
    }
   ],
   "source": [
    " def update(x):\n",
    "     x = 9\n",
    "     print(x)\n",
    "\n",
    "a = 5\n",
    "update(a)\n",
    "print(a)"
   ]
  },
  {
   "cell_type": "code",
   "execution_count": 15,
   "id": "fa1c19b4-2c6b-4ab8-ab8f-f4170baa85b6",
   "metadata": {},
   "outputs": [
    {
     "name": "stdout",
     "output_type": "stream",
     "text": [
      "x  9\n",
      "a  5\n"
     ]
    }
   ],
   "source": [
    " def update(x):\n",
    "     x = 9\n",
    "     print(\"x \", x)\n",
    "\n",
    "a = 5\n",
    "update(a)\n",
    "print(\"a \",a)"
   ]
  },
  {
   "cell_type": "code",
   "execution_count": 16,
   "id": "6cc77b79-5687-4093-af33-a303c508e56c",
   "metadata": {},
   "outputs": [
    {
     "name": "stdout",
     "output_type": "stream",
     "text": [
      "140724173875768\n",
      "x  7\n",
      "a  5\n"
     ]
    }
   ],
   "source": [
    " def update(x):\n",
    "     \n",
    "     print(id(x))\n",
    "\n",
    "     x = 7\n",
    "     print(\"x \", x)\n",
    "a = 5\n",
    "update(a)\n",
    "print(\"a \",a)"
   ]
  },
  {
   "cell_type": "code",
   "execution_count": 17,
   "id": "c7f7b991-a9b7-401c-9a87-f3c691d65941",
   "metadata": {},
   "outputs": [
    {
     "name": "stdout",
     "output_type": "stream",
     "text": [
      "140724173875768\n",
      "140724173875768\n",
      "x  7\n",
      "a  5\n"
     ]
    }
   ],
   "source": [
    " def update(x):\n",
    "     \n",
    "     print(id(x))\n",
    "\n",
    "     x = 7\n",
    "     print(\"x \", x)\n",
    "a = 5\n",
    "print(id(a))\n",
    "update(a)\n",
    "print(\"a \",a)"
   ]
  },
  {
   "cell_type": "code",
   "execution_count": 18,
   "id": "2f504c38-9081-411f-93df-ff5c64acf02a",
   "metadata": {},
   "outputs": [
    {
     "name": "stdout",
     "output_type": "stream",
     "text": [
      "140724173875768\n",
      "140724173875768\n",
      "140724173875832\n",
      "x  7\n",
      "a  5\n"
     ]
    }
   ],
   "source": [
    " def update(x):\n",
    "     \n",
    "     print(id(x))\n",
    "\n",
    "     x = 7\n",
    "     print(id(x))\n",
    "     print(\"x \", x)\n",
    "a = 5\n",
    "print(id(a))\n",
    "update(a)\n",
    "print(\"a \",a)"
   ]
  },
  {
   "cell_type": "code",
   "execution_count": 20,
   "id": "082e98d7-e668-4701-9b5c-d654333ba2fc",
   "metadata": {},
   "outputs": [
    {
     "name": "stdout",
     "output_type": "stream",
     "text": [
      "2592469243584\n",
      "2592469243584\n",
      "2592469243584\n",
      "x  [10, 7, 30]\n",
      "lst  [10, 7, 30]\n"
     ]
    }
   ],
   "source": [
    " def update(lst):\n",
    "     \n",
    "     print(id(lst))\n",
    "\n",
    "     lst[1] = 7\n",
    "     print(id(lst))\n",
    "     print(\"x \", lst)\n",
    "lst = [10,25,30]\n",
    "print(id(lst))\n",
    "update(lst)\n",
    "print(\"lst \",lst)"
   ]
  },
  {
   "cell_type": "markdown",
   "id": "7a79ba8e-489c-4c2f-8ba5-528157f957f2",
   "metadata": {},
   "source": [
    "Keyworded Variable Length Arguments"
   ]
  },
  {
   "cell_type": "code",
   "execution_count": 31,
   "id": "99316726-38ec-4789-b81a-22e2ecd96c2f",
   "metadata": {},
   "outputs": [
    {
     "name": "stdout",
     "output_type": "stream",
     "text": [
      "vysh\n",
      "(20, 'medak', 7032498357)\n"
     ]
    }
   ],
   "source": [
    "def person(name, *data):\n",
    "    \n",
    "    print(name)\n",
    "    print(data)\n",
    "    \n",
    "person('vysh',20, 'medak', 7032498357)"
   ]
  },
  {
   "cell_type": "code",
   "execution_count": 34,
   "id": "30eb4fc4-650a-41a7-9419-ad7755087f65",
   "metadata": {},
   "outputs": [
    {
     "name": "stdout",
     "output_type": "stream",
     "text": [
      "vysh\n",
      "age 20\n",
      "city medak\n",
      "mob 7032498357\n"
     ]
    }
   ],
   "source": [
    "def person(name, **data):\n",
    "    \n",
    "    print(name)\n",
    "\n",
    "    for i,j in data.items():\n",
    "        print(i,j)\n",
    "    \n",
    "person('vysh',age=20, city='medak', mob=7032498357)"
   ]
  },
  {
   "cell_type": "code",
   "execution_count": null,
   "id": "b440ce7b-2f48-4fc8-94f9-c9905cb709a6",
   "metadata": {},
   "outputs": [],
   "source": []
  }
 ],
 "metadata": {
  "kernelspec": {
   "display_name": "Python 3 (ipykernel)",
   "language": "python",
   "name": "python3"
  },
  "language_info": {
   "codemirror_mode": {
    "name": "ipython",
    "version": 3
   },
   "file_extension": ".py",
   "mimetype": "text/x-python",
   "name": "python",
   "nbconvert_exporter": "python",
   "pygments_lexer": "ipython3",
   "version": "3.12.7"
  }
 },
 "nbformat": 4,
 "nbformat_minor": 5
}
