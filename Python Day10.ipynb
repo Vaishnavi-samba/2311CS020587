{
 "cells": [
  {
   "cell_type": "markdown",
   "id": "3b76c079-6b5d-44c1-9c90-c6c2067ea4d7",
   "metadata": {},
   "source": [
    "Array in python"
   ]
  },
  {
   "cell_type": "code",
   "execution_count": 6,
   "id": "34133d43-92a1-4b80-8a08-1a9ed66aad5c",
   "metadata": {},
   "outputs": [],
   "source": [
    "from array import *"
   ]
  },
  {
   "cell_type": "code",
   "execution_count": 7,
   "id": "45c2cfee-9d8e-4979-be45-1cc06a7b9623",
   "metadata": {},
   "outputs": [
    {
     "name": "stdout",
     "output_type": "stream",
     "text": [
      "array('i', [4, 5, 6, 7, 8, 0])\n"
     ]
    }
   ],
   "source": [
    "vals = array('i',[4,5,6,7,8,0])\n",
    "print(vals)"
   ]
  },
  {
   "cell_type": "code",
   "execution_count": 8,
   "id": "442331bd-61fe-4ffb-8316-d12277e2c382",
   "metadata": {},
   "outputs": [
    {
     "name": "stdout",
     "output_type": "stream",
     "text": [
      "(2055802447088, 6)\n"
     ]
    }
   ],
   "source": [
    "vals = array('i',[4,5,6,7,8,0])\n",
    "print(vals.buffer_info())"
   ]
  },
  {
   "cell_type": "code",
   "execution_count": 9,
   "id": "263cab5b-f9f1-4477-8c5b-6a6855f8c2ba",
   "metadata": {},
   "outputs": [
    {
     "name": "stdout",
     "output_type": "stream",
     "text": [
      "(2055802451984, 5)\n"
     ]
    }
   ],
   "source": [
    "vals = array('i',[5,9,-8,4,2])\n",
    "print(vals.buffer_info())"
   ]
  },
  {
   "cell_type": "code",
   "execution_count": 10,
   "id": "6ae75302-b6bc-45a3-a85c-de707be6f338",
   "metadata": {},
   "outputs": [
    {
     "name": "stdout",
     "output_type": "stream",
     "text": [
      "i\n"
     ]
    }
   ],
   "source": [
    "vals = array('i',[4,5,6,7,8,0])\n",
    "print(vals.typecode)"
   ]
  },
  {
   "cell_type": "code",
   "execution_count": 11,
   "id": "2c19fab8-3899-4f16-b180-fabc8a888df9",
   "metadata": {},
   "outputs": [
    {
     "name": "stdout",
     "output_type": "stream",
     "text": [
      "<built-in method reverse of array.array object at 0x000001DEA771ABB0>\n"
     ]
    }
   ],
   "source": [
    "vals = array('i',[4,5,6,7,8,0])\n",
    "print(vals.reverse)"
   ]
  },
  {
   "cell_type": "code",
   "execution_count": 12,
   "id": "e94a55de-52fb-4e7f-b83c-e599e4899c26",
   "metadata": {},
   "outputs": [
    {
     "name": "stdout",
     "output_type": "stream",
     "text": [
      "None\n"
     ]
    }
   ],
   "source": [
    "vals = array('i',[4,5,6,7,8,0])\n",
    "print(vals.reverse())"
   ]
  },
  {
   "cell_type": "code",
   "execution_count": 13,
   "id": "6e9a545d-100f-445c-af81-b0234f83bbda",
   "metadata": {},
   "outputs": [
    {
     "name": "stdout",
     "output_type": "stream",
     "text": [
      "array('i', [0, 8, 7, 6, 5, 4])\n"
     ]
    }
   ],
   "source": [
    "vals = array('i',[4,5,6,7,8,0])\n",
    "vals.reverse()\n",
    "print(vals)"
   ]
  },
  {
   "cell_type": "code",
   "execution_count": 14,
   "id": "c96d0c04-68f8-4be5-bdf2-7451a6414d31",
   "metadata": {},
   "outputs": [
    {
     "name": "stdout",
     "output_type": "stream",
     "text": [
      "0\n"
     ]
    }
   ],
   "source": [
    "vals = array('i',[4,5,6,7,8,0])\n",
    "vals.reverse()\n",
    "\n",
    "print(vals[0])"
   ]
  },
  {
   "cell_type": "code",
   "execution_count": 15,
   "id": "5178f931-dbeb-413c-b736-edc5e1480105",
   "metadata": {},
   "outputs": [
    {
     "name": "stdout",
     "output_type": "stream",
     "text": [
      "7\n"
     ]
    }
   ],
   "source": [
    "vals = array('i',[4,5,6,7,8,0])\n",
    "vals.reverse()\n",
    "\n",
    "print(vals[2])"
   ]
  },
  {
   "cell_type": "code",
   "execution_count": 16,
   "id": "2bef9b86-ce71-4c1d-a871-3b1e025ff01a",
   "metadata": {},
   "outputs": [
    {
     "name": "stdout",
     "output_type": "stream",
     "text": [
      "4\n"
     ]
    }
   ],
   "source": [
    "vals = array('i',[4,5,6,7,8,0])\n",
    "\n",
    "print(vals[0])"
   ]
  },
  {
   "cell_type": "code",
   "execution_count": 17,
   "id": "73b684c5-426a-4ede-b92b-4a83cf4b0f7a",
   "metadata": {},
   "outputs": [
    {
     "name": "stdout",
     "output_type": "stream",
     "text": [
      "6\n"
     ]
    }
   ],
   "source": [
    "vals = array('i',[4,5,6,7,8,0])\n",
    "vals.reverse()\n",
    "\n",
    "print(vals[3])"
   ]
  },
  {
   "cell_type": "code",
   "execution_count": 21,
   "id": "13974690-0ff9-44fb-97af-44049525f0dc",
   "metadata": {},
   "outputs": [
    {
     "name": "stdout",
     "output_type": "stream",
     "text": [
      "4\n",
      "5\n",
      "6\n",
      "7\n",
      "8\n"
     ]
    }
   ],
   "source": [
    "vals = array('i',[4,5,6,7,8,0])\n",
    "for i in range(5):\n",
    "    print(vals[i])"
   ]
  },
  {
   "cell_type": "code",
   "execution_count": 23,
   "id": "3ece5952-7479-468f-a81f-1a2851061194",
   "metadata": {},
   "outputs": [
    {
     "name": "stdout",
     "output_type": "stream",
     "text": [
      "4\n",
      "5\n",
      "6\n",
      "7\n",
      "8\n",
      "0\n"
     ]
    }
   ],
   "source": [
    "vals = array('i',[4,5,6,7,8,0])\n",
    "for i in range(len(vals)):\n",
    "    print(vals[i])"
   ]
  },
  {
   "cell_type": "code",
   "execution_count": 24,
   "id": "ea373b49-6973-4868-96a2-20d399cd0bb0",
   "metadata": {},
   "outputs": [
    {
     "name": "stdout",
     "output_type": "stream",
     "text": [
      "a\n",
      "b\n",
      "c\n"
     ]
    }
   ],
   "source": [
    "vals = array('u',['a','b','c'])\n",
    "for e in vals:\n",
    "    print(e)"
   ]
  },
  {
   "cell_type": "code",
   "execution_count": 31,
   "id": "15cf64fd-984c-4ed1-ba14-e61a6dc8fa3f",
   "metadata": {},
   "outputs": [
    {
     "name": "stdout",
     "output_type": "stream",
     "text": [
      "4\n",
      "5\n",
      "6\n",
      "7\n",
      "9\n"
     ]
    }
   ],
   "source": [
    "vals = array('i',[4,5,6,7,9])\n",
    "newArr = array(vals.typecode, (a for a in vals))\n",
    "for e in newArr:\n",
    "    print(e)"
   ]
  },
  {
   "cell_type": "code",
   "execution_count": 30,
   "id": "744799bf-95fb-4357-9b1f-497d22c09e32",
   "metadata": {},
   "outputs": [
    {
     "name": "stdout",
     "output_type": "stream",
     "text": [
      "16\n",
      "25\n",
      "36\n",
      "49\n",
      "81\n"
     ]
    }
   ],
   "source": [
    "vals = array('i',[4,5,6,7,9])\n",
    "newArr = array(vals.typecode, (a*a for a in vals))\n",
    "for e in newArr:\n",
    "    print(e)"
   ]
  },
  {
   "cell_type": "code",
   "execution_count": 35,
   "id": "556697d6-7008-4a47-8346-489cc29f152c",
   "metadata": {},
   "outputs": [
    {
     "name": "stdout",
     "output_type": "stream",
     "text": [
      "16\n",
      "25\n",
      "36\n",
      "49\n",
      "81\n"
     ]
    }
   ],
   "source": [
    "vals = array('i',[4,5,6,7,9])\n",
    "newArr = array(vals.typecode, (a*a for a in vals))\n",
    "i = 0\n",
    "while i<len(newArr):\n",
    "    print(newArr[i])\n",
    "    i+=1"
   ]
  },
  {
   "cell_type": "markdown",
   "id": "7b8e69d9-c7be-4607-be40-22f817c020b9",
   "metadata": {},
   "source": [
    "Array values from user in python"
   ]
  },
  {
   "cell_type": "code",
   "execution_count": 2,
   "id": "e310b04c-e36c-490f-81af-dda6df41dbec",
   "metadata": {},
   "outputs": [],
   "source": [
    "from array import *"
   ]
  },
  {
   "cell_type": "code",
   "execution_count": 1,
   "id": "45f385d9-a590-4978-80be-bbca43d08602",
   "metadata": {},
   "outputs": [
    {
     "name": "stdin",
     "output_type": "stream",
     "text": [
      "Enter the length of the array 3\n",
      "Enter the next value 3\n",
      "Enter the next value 4\n",
      "Enter the next value 5\n",
      "Enter the next value 6\n",
      "Enter the next value 7\n"
     ]
    },
    {
     "name": "stdout",
     "output_type": "stream",
     "text": [
      "array('i', [3, 4, 5, 6, 7])\n"
     ]
    }
   ],
   "source": [
    "from array import *\n",
    "arr = array('i',[])\n",
    "n = int(input(\"Enter the length of the array\"))\n",
    "for i in range(5):\n",
    "    x = int(input(\"Enter the next value\"))\n",
    "    arr.append(x)\n",
    "    \n",
    "\n",
    "print(arr)"
   ]
  },
  {
   "cell_type": "code",
   "execution_count": 2,
   "id": "8d48763b-5c87-4c1f-9e38-c3570662708f",
   "metadata": {},
   "outputs": [
    {
     "name": "stdin",
     "output_type": "stream",
     "text": [
      "Enter the length of the array 4\n",
      "Enter the next value 5\n",
      "Enter the next value 3\n",
      "Enter the next value 2\n",
      "Enter the next value 6\n"
     ]
    },
    {
     "name": "stdout",
     "output_type": "stream",
     "text": [
      "array('i', [5, 3, 2, 6])\n"
     ]
    }
   ],
   "source": [
    "from array import *\n",
    "arr = array('i',[])\n",
    "n = int(input(\"Enter the length of the array\"))\n",
    "for i in range(n):\n",
    "    x = int(input(\"Enter the next value\"))\n",
    "    arr.append(x)\n",
    "    \n",
    "\n",
    "print(arr)"
   ]
  },
  {
   "cell_type": "code",
   "execution_count": 8,
   "id": "7816df9a-ba9c-42a3-9978-5358bbb78d60",
   "metadata": {},
   "outputs": [
    {
     "name": "stdin",
     "output_type": "stream",
     "text": [
      "Enter the length of the array 3\n",
      "Enter the next value 23\n",
      "Enter the next value 3\n",
      "Enter the next value 4\n"
     ]
    },
    {
     "name": "stdout",
     "output_type": "stream",
     "text": [
      "array('i', [23, 3, 4])\n"
     ]
    },
    {
     "name": "stdin",
     "output_type": "stream",
     "text": [
      "enter the values for search 4\n"
     ]
    },
    {
     "name": "stdout",
     "output_type": "stream",
     "text": [
      "2\n"
     ]
    }
   ],
   "source": [
    "from array import *\n",
    "arr = array('i',[])\n",
    "n = int(input(\"Enter the length of the array\"))\n",
    "for i in range(n):\n",
    "    x = int(input(\"Enter the next value\"))\n",
    "    arr.append(x)\n",
    "    \n",
    "\n",
    "print(arr)\n",
    "\n",
    "val = int(input(\"enter the values for search\"))\n",
    "k = 0\n",
    "for e in arr:\n",
    "    if e==val:\n",
    "        print(k)\n",
    "        break\n",
    "    k+=1\n",
    "    "
   ]
  },
  {
   "cell_type": "code",
   "execution_count": 9,
   "id": "42ffe4ea-e25f-46ea-9424-07461115ea38",
   "metadata": {},
   "outputs": [
    {
     "name": "stdin",
     "output_type": "stream",
     "text": [
      "Enter the length of the array 3\n",
      "Enter the next value 3\n",
      "Enter the next value 2\n",
      "Enter the next value 1\n"
     ]
    },
    {
     "name": "stdout",
     "output_type": "stream",
     "text": [
      "array('i', [3, 2, 1])\n"
     ]
    },
    {
     "name": "stdin",
     "output_type": "stream",
     "text": [
      "enter the values for search 3\n"
     ]
    },
    {
     "name": "stdout",
     "output_type": "stream",
     "text": [
      "0\n",
      "0\n"
     ]
    }
   ],
   "source": [
    "from array import *\n",
    "arr = array('i',[])\n",
    "n = int(input(\"Enter the length of the array\"))\n",
    "for i in range(n):\n",
    "    x = int(input(\"Enter the next value\"))\n",
    "    arr.append(x)\n",
    "    \n",
    "\n",
    "print(arr)\n",
    "\n",
    "val = int(input(\"enter the values for search\"))\n",
    "k = 0\n",
    "for e in arr:\n",
    "    if e==val:\n",
    "        print(k)\n",
    "        break\n",
    "    k+=1\n",
    "\n",
    "print(arr.index(val))"
   ]
  },
  {
   "cell_type": "code",
   "execution_count": null,
   "id": "1768d799-50ba-44ab-9fc0-fd41c7f7cded",
   "metadata": {},
   "outputs": [],
   "source": []
  }
 ],
 "metadata": {
  "kernelspec": {
   "display_name": "Python 3 (ipykernel)",
   "language": "python",
   "name": "python3"
  },
  "language_info": {
   "codemirror_mode": {
    "name": "ipython",
    "version": 3
   },
   "file_extension": ".py",
   "mimetype": "text/x-python",
   "name": "python",
   "nbconvert_exporter": "python",
   "pygments_lexer": "ipython3",
   "version": "3.12.7"
  }
 },
 "nbformat": 4,
 "nbformat_minor": 5
}
